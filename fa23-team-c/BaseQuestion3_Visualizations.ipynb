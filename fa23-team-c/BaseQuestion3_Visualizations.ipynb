{
  "cells": [
    {
      "cell_type": "code",
      "execution_count": 26,
      "metadata": {
        "id": "hDD-gnnq4Ya1"
      },
      "outputs": [],
      "source": [
        "import pandas as pd\n",
        "import numpy as np\n",
        "import matplotlib.pyplot as plt\n",
        "import seaborn as sns"
      ]
    },
    {
      "cell_type": "code",
      "execution_count": 27,
      "metadata": {
        "id": "TEZRpU8f47m8"
      },
      "outputs": [],
      "source": [
        "bus_routes_df = pd.read_csv('data/RoutesToNeighbourhoods.csv')\n",
        "census_data = pd.read_csv('data/census_data.csv')"
      ]
    },
    {
      "cell_type": "code",
      "execution_count": 28,
      "metadata": {
        "id": "lv55DFmz5IzY"
      },
      "outputs": [],
      "source": [
        "bus_routes_df=bus_routes_df.drop(columns=\"Unnamed: 0\")"
      ]
    },
    {
      "cell_type": "code",
      "execution_count": 29,
      "metadata": {
        "colab": {
          "base_uri": "https://localhost:8080/",
          "height": 423
        },
        "id": "pQsmVVoX74Nc",
        "outputId": "62971fc6-64ed-4b2b-9719-9b05d077025d"
      },
      "outputs": [
        {
          "data": {
            "text/html": [
              "<div>\n",
              "<style scoped>\n",
              "    .dataframe tbody tr th:only-of-type {\n",
              "        vertical-align: middle;\n",
              "    }\n",
              "\n",
              "    .dataframe tbody tr th {\n",
              "        vertical-align: top;\n",
              "    }\n",
              "\n",
              "    .dataframe thead th {\n",
              "        text-align: right;\n",
              "    }\n",
              "</style>\n",
              "<table border=\"1\" class=\"dataframe\">\n",
              "  <thead>\n",
              "    <tr style=\"text-align: right;\">\n",
              "      <th></th>\n",
              "      <th>Route</th>\n",
              "      <th>Neighborhoods</th>\n",
              "    </tr>\n",
              "  </thead>\n",
              "  <tbody>\n",
              "    <tr>\n",
              "      <th>0</th>\n",
              "      <td>1</td>\n",
              "      <td>['Roxbury', 'South End']</td>\n",
              "    </tr>\n",
              "    <tr>\n",
              "      <th>1</th>\n",
              "      <td>10</td>\n",
              "      <td>['South Boston', 'Roxbury', 'South Boston Wate...</td>\n",
              "    </tr>\n",
              "    <tr>\n",
              "      <th>2</th>\n",
              "      <td>104</td>\n",
              "      <td>['Charlestown']</td>\n",
              "    </tr>\n",
              "    <tr>\n",
              "      <th>3</th>\n",
              "      <td>105</td>\n",
              "      <td>['Charlestown']</td>\n",
              "    </tr>\n",
              "    <tr>\n",
              "      <th>4</th>\n",
              "      <td>109</td>\n",
              "      <td>['Charlestown']</td>\n",
              "    </tr>\n",
              "    <tr>\n",
              "      <th>...</th>\n",
              "      <td>...</td>\n",
              "      <td>...</td>\n",
              "    </tr>\n",
              "    <tr>\n",
              "      <th>77</th>\n",
              "      <td>8993</td>\n",
              "      <td>['Charlestown']</td>\n",
              "    </tr>\n",
              "    <tr>\n",
              "      <th>78</th>\n",
              "      <td>9</td>\n",
              "      <td>['South Boston', 'Fenway', 'Chinatown', 'South...</td>\n",
              "    </tr>\n",
              "    <tr>\n",
              "      <th>79</th>\n",
              "      <td>91</td>\n",
              "      <td>['Charlestown']</td>\n",
              "    </tr>\n",
              "    <tr>\n",
              "      <th>80</th>\n",
              "      <td>92</td>\n",
              "      <td>['Charlestown']</td>\n",
              "    </tr>\n",
              "    <tr>\n",
              "      <th>81</th>\n",
              "      <td>93</td>\n",
              "      <td>['Charlestown']</td>\n",
              "    </tr>\n",
              "  </tbody>\n",
              "</table>\n",
              "<p>82 rows × 2 columns</p>\n",
              "</div>"
            ],
            "text/plain": [
              "   Route                                      Neighborhoods\n",
              "0      1                           ['Roxbury', 'South End']\n",
              "1     10  ['South Boston', 'Roxbury', 'South Boston Wate...\n",
              "2    104                                    ['Charlestown']\n",
              "3    105                                    ['Charlestown']\n",
              "4    109                                    ['Charlestown']\n",
              "..   ...                                                ...\n",
              "77  8993                                    ['Charlestown']\n",
              "78     9  ['South Boston', 'Fenway', 'Chinatown', 'South...\n",
              "79    91                                    ['Charlestown']\n",
              "80    92                                    ['Charlestown']\n",
              "81    93                                    ['Charlestown']\n",
              "\n",
              "[82 rows x 2 columns]"
            ]
          },
          "execution_count": 29,
          "metadata": {},
          "output_type": "execute_result"
        }
      ],
      "source": [
        "bus_routes_df"
      ]
    },
    {
      "cell_type": "code",
      "execution_count": 30,
      "metadata": {
        "id": "57wIh5k15Lnm"
      },
      "outputs": [],
      "source": [
        "bus_routes_df['Neighborhoods'] = bus_routes_df['Neighborhoods'].apply(lambda x: x.strip(\"[]\").replace(\"'\", \"\").split(\", \"))\n",
        "\n",
        "# Explode the 'Neighborhoods' column\n",
        "bus_routes_exploded = bus_routes_df.explode('Neighborhoods')"
      ]
    },
    {
      "cell_type": "code",
      "execution_count": 31,
      "metadata": {
        "colab": {
          "base_uri": "https://localhost:8080/",
          "height": 423
        },
        "id": "pYCsWYIm5QlW",
        "outputId": "e69e92c8-4635-4636-b638-29a7204da75b"
      },
      "outputs": [
        {
          "data": {
            "text/html": [
              "<div>\n",
              "<style scoped>\n",
              "    .dataframe tbody tr th:only-of-type {\n",
              "        vertical-align: middle;\n",
              "    }\n",
              "\n",
              "    .dataframe tbody tr th {\n",
              "        vertical-align: top;\n",
              "    }\n",
              "\n",
              "    .dataframe thead th {\n",
              "        text-align: right;\n",
              "    }\n",
              "</style>\n",
              "<table border=\"1\" class=\"dataframe\">\n",
              "  <thead>\n",
              "    <tr style=\"text-align: right;\">\n",
              "      <th></th>\n",
              "      <th>Route</th>\n",
              "      <th>Neighborhoods</th>\n",
              "    </tr>\n",
              "  </thead>\n",
              "  <tbody>\n",
              "    <tr>\n",
              "      <th>0</th>\n",
              "      <td>1</td>\n",
              "      <td>Roxbury</td>\n",
              "    </tr>\n",
              "    <tr>\n",
              "      <th>0</th>\n",
              "      <td>1</td>\n",
              "      <td>South End</td>\n",
              "    </tr>\n",
              "    <tr>\n",
              "      <th>1</th>\n",
              "      <td>10</td>\n",
              "      <td>South Boston</td>\n",
              "    </tr>\n",
              "    <tr>\n",
              "      <th>1</th>\n",
              "      <td>10</td>\n",
              "      <td>Roxbury</td>\n",
              "    </tr>\n",
              "    <tr>\n",
              "      <th>1</th>\n",
              "      <td>10</td>\n",
              "      <td>South Boston Waterfront</td>\n",
              "    </tr>\n",
              "    <tr>\n",
              "      <th>...</th>\n",
              "      <td>...</td>\n",
              "      <td>...</td>\n",
              "    </tr>\n",
              "    <tr>\n",
              "      <th>78</th>\n",
              "      <td>9</td>\n",
              "      <td>Roxbury</td>\n",
              "    </tr>\n",
              "    <tr>\n",
              "      <th>78</th>\n",
              "      <td>9</td>\n",
              "      <td>Mission Hill</td>\n",
              "    </tr>\n",
              "    <tr>\n",
              "      <th>79</th>\n",
              "      <td>91</td>\n",
              "      <td>Charlestown</td>\n",
              "    </tr>\n",
              "    <tr>\n",
              "      <th>80</th>\n",
              "      <td>92</td>\n",
              "      <td>Charlestown</td>\n",
              "    </tr>\n",
              "    <tr>\n",
              "      <th>81</th>\n",
              "      <td>93</td>\n",
              "      <td>Charlestown</td>\n",
              "    </tr>\n",
              "  </tbody>\n",
              "</table>\n",
              "<p>214 rows × 2 columns</p>\n",
              "</div>"
            ],
            "text/plain": [
              "   Route            Neighborhoods\n",
              "0      1                  Roxbury\n",
              "0      1                South End\n",
              "1     10             South Boston\n",
              "1     10                  Roxbury\n",
              "1     10  South Boston Waterfront\n",
              "..   ...                      ...\n",
              "78     9                  Roxbury\n",
              "78     9             Mission Hill\n",
              "79    91              Charlestown\n",
              "80    92              Charlestown\n",
              "81    93              Charlestown\n",
              "\n",
              "[214 rows x 2 columns]"
            ]
          },
          "execution_count": 31,
          "metadata": {},
          "output_type": "execute_result"
        }
      ],
      "source": [
        "bus_routes_exploded"
      ]
    },
    {
      "cell_type": "code",
      "execution_count": 32,
      "metadata": {
        "colab": {
          "base_uri": "https://localhost:8080/"
        },
        "id": "nhUqfrjE82aR",
        "outputId": "145f8411-0476-4604-8f41-a39b0123e599"
      },
      "outputs": [
        {
          "data": {
            "text/plain": [
              "Index(['tract20_nbhd', 'P0020001', 'P0020005', 'P0020006', 'P0020002',\n",
              "       'P002aapi', 'P002others', 'P0040001', 'P0040005', 'P0040006',\n",
              "       'P0040002', 'P004aapi', 'P004others', 'P00x0001', 'P00x0005',\n",
              "       'P00x0006', 'P00x0002', 'P00xaapi', 'P00xothers', 'hhpop', 'P0050001',\n",
              "       'P0050002', 'P0050003', 'P0050004', 'P0050005', 'P0050006', 'P0050007',\n",
              "       'P0050008', 'P0050009', 'P0050010', 'H0010001', 'H0010002', 'H0010003',\n",
              "       'hhsize', 'zipcode'],\n",
              "      dtype='object')"
            ]
          },
          "execution_count": 32,
          "metadata": {},
          "output_type": "execute_result"
        }
      ],
      "source": [
        "census_data.columns"
      ]
    },
    {
      "cell_type": "code",
      "execution_count": 33,
      "metadata": {
        "id": "jGvXhlXB6Y4Y"
      },
      "outputs": [],
      "source": [
        "merged_df = pd.merge(bus_routes_exploded, census_data, left_on='Neighborhoods', right_on='tract20_nbhd')"
      ]
    },
    {
      "cell_type": "code",
      "execution_count": 34,
      "metadata": {
        "colab": {
          "base_uri": "https://localhost:8080/",
          "height": 255
        },
        "id": "VTOvmCgq9Onn",
        "outputId": "35c45896-796d-47aa-d072-2cae99df7bda"
      },
      "outputs": [
        {
          "data": {
            "text/html": [
              "<div>\n",
              "<style scoped>\n",
              "    .dataframe tbody tr th:only-of-type {\n",
              "        vertical-align: middle;\n",
              "    }\n",
              "\n",
              "    .dataframe tbody tr th {\n",
              "        vertical-align: top;\n",
              "    }\n",
              "\n",
              "    .dataframe thead th {\n",
              "        text-align: right;\n",
              "    }\n",
              "</style>\n",
              "<table border=\"1\" class=\"dataframe\">\n",
              "  <thead>\n",
              "    <tr style=\"text-align: right;\">\n",
              "      <th></th>\n",
              "      <th>Route</th>\n",
              "      <th>Neighborhoods</th>\n",
              "      <th>tract20_nbhd</th>\n",
              "      <th>P0020001</th>\n",
              "      <th>P0020005</th>\n",
              "      <th>P0020006</th>\n",
              "      <th>P0020002</th>\n",
              "      <th>P002aapi</th>\n",
              "      <th>P002others</th>\n",
              "      <th>P0040001</th>\n",
              "      <th>...</th>\n",
              "      <th>P0050006</th>\n",
              "      <th>P0050007</th>\n",
              "      <th>P0050008</th>\n",
              "      <th>P0050009</th>\n",
              "      <th>P0050010</th>\n",
              "      <th>H0010001</th>\n",
              "      <th>H0010002</th>\n",
              "      <th>H0010003</th>\n",
              "      <th>hhsize</th>\n",
              "      <th>zipcode</th>\n",
              "    </tr>\n",
              "  </thead>\n",
              "  <tbody>\n",
              "    <tr>\n",
              "      <th>0</th>\n",
              "      <td>1</td>\n",
              "      <td>Roxbury</td>\n",
              "      <td>Roxbury</td>\n",
              "      <td>54533</td>\n",
              "      <td>7137</td>\n",
              "      <td>22624</td>\n",
              "      <td>16633</td>\n",
              "      <td>3222</td>\n",
              "      <td>4917</td>\n",
              "      <td>43152</td>\n",
              "      <td>...</td>\n",
              "      <td>41</td>\n",
              "      <td>3553</td>\n",
              "      <td>2520</td>\n",
              "      <td>0</td>\n",
              "      <td>1033</td>\n",
              "      <td>21687</td>\n",
              "      <td>20025</td>\n",
              "      <td>1662</td>\n",
              "      <td>2.499525593</td>\n",
              "      <td>02119</td>\n",
              "    </tr>\n",
              "    <tr>\n",
              "      <th>1</th>\n",
              "      <td>10</td>\n",
              "      <td>Roxbury</td>\n",
              "      <td>Roxbury</td>\n",
              "      <td>54533</td>\n",
              "      <td>7137</td>\n",
              "      <td>22624</td>\n",
              "      <td>16633</td>\n",
              "      <td>3222</td>\n",
              "      <td>4917</td>\n",
              "      <td>43152</td>\n",
              "      <td>...</td>\n",
              "      <td>41</td>\n",
              "      <td>3553</td>\n",
              "      <td>2520</td>\n",
              "      <td>0</td>\n",
              "      <td>1033</td>\n",
              "      <td>21687</td>\n",
              "      <td>20025</td>\n",
              "      <td>1662</td>\n",
              "      <td>2.499525593</td>\n",
              "      <td>02119</td>\n",
              "    </tr>\n",
              "    <tr>\n",
              "      <th>2</th>\n",
              "      <td>14</td>\n",
              "      <td>Roxbury</td>\n",
              "      <td>Roxbury</td>\n",
              "      <td>54533</td>\n",
              "      <td>7137</td>\n",
              "      <td>22624</td>\n",
              "      <td>16633</td>\n",
              "      <td>3222</td>\n",
              "      <td>4917</td>\n",
              "      <td>43152</td>\n",
              "      <td>...</td>\n",
              "      <td>41</td>\n",
              "      <td>3553</td>\n",
              "      <td>2520</td>\n",
              "      <td>0</td>\n",
              "      <td>1033</td>\n",
              "      <td>21687</td>\n",
              "      <td>20025</td>\n",
              "      <td>1662</td>\n",
              "      <td>2.499525593</td>\n",
              "      <td>02119</td>\n",
              "    </tr>\n",
              "    <tr>\n",
              "      <th>3</th>\n",
              "      <td>15</td>\n",
              "      <td>Roxbury</td>\n",
              "      <td>Roxbury</td>\n",
              "      <td>54533</td>\n",
              "      <td>7137</td>\n",
              "      <td>22624</td>\n",
              "      <td>16633</td>\n",
              "      <td>3222</td>\n",
              "      <td>4917</td>\n",
              "      <td>43152</td>\n",
              "      <td>...</td>\n",
              "      <td>41</td>\n",
              "      <td>3553</td>\n",
              "      <td>2520</td>\n",
              "      <td>0</td>\n",
              "      <td>1033</td>\n",
              "      <td>21687</td>\n",
              "      <td>20025</td>\n",
              "      <td>1662</td>\n",
              "      <td>2.499525593</td>\n",
              "      <td>02119</td>\n",
              "    </tr>\n",
              "    <tr>\n",
              "      <th>4</th>\n",
              "      <td>171</td>\n",
              "      <td>Roxbury</td>\n",
              "      <td>Roxbury</td>\n",
              "      <td>54533</td>\n",
              "      <td>7137</td>\n",
              "      <td>22624</td>\n",
              "      <td>16633</td>\n",
              "      <td>3222</td>\n",
              "      <td>4917</td>\n",
              "      <td>43152</td>\n",
              "      <td>...</td>\n",
              "      <td>41</td>\n",
              "      <td>3553</td>\n",
              "      <td>2520</td>\n",
              "      <td>0</td>\n",
              "      <td>1033</td>\n",
              "      <td>21687</td>\n",
              "      <td>20025</td>\n",
              "      <td>1662</td>\n",
              "      <td>2.499525593</td>\n",
              "      <td>02119</td>\n",
              "    </tr>\n",
              "  </tbody>\n",
              "</table>\n",
              "<p>5 rows × 37 columns</p>\n",
              "</div>"
            ],
            "text/plain": [
              "  Route Neighborhoods tract20_nbhd P0020001 P0020005 P0020006 P0020002  \\\n",
              "0     1       Roxbury      Roxbury    54533     7137    22624    16633   \n",
              "1    10       Roxbury      Roxbury    54533     7137    22624    16633   \n",
              "2    14       Roxbury      Roxbury    54533     7137    22624    16633   \n",
              "3    15       Roxbury      Roxbury    54533     7137    22624    16633   \n",
              "4   171       Roxbury      Roxbury    54533     7137    22624    16633   \n",
              "\n",
              "  P002aapi P002others P0040001  ... P0050006 P0050007 P0050008 P0050009  \\\n",
              "0     3222       4917    43152  ...       41     3553     2520        0   \n",
              "1     3222       4917    43152  ...       41     3553     2520        0   \n",
              "2     3222       4917    43152  ...       41     3553     2520        0   \n",
              "3     3222       4917    43152  ...       41     3553     2520        0   \n",
              "4     3222       4917    43152  ...       41     3553     2520        0   \n",
              "\n",
              "  P0050010 H0010001 H0010002 H0010003       hhsize zipcode  \n",
              "0     1033    21687    20025     1662  2.499525593   02119  \n",
              "1     1033    21687    20025     1662  2.499525593   02119  \n",
              "2     1033    21687    20025     1662  2.499525593   02119  \n",
              "3     1033    21687    20025     1662  2.499525593   02119  \n",
              "4     1033    21687    20025     1662  2.499525593   02119  \n",
              "\n",
              "[5 rows x 37 columns]"
            ]
          },
          "execution_count": 34,
          "metadata": {},
          "output_type": "execute_result"
        }
      ],
      "source": [
        "merged_df.head()"
      ]
    },
    {
      "cell_type": "code",
      "execution_count": 35,
      "metadata": {
        "id": "qi0SVZjG9X4b"
      },
      "outputs": [],
      "source": [
        "merged_df['P0020001'] = pd.to_numeric(merged_df['P0020001'], errors='coerce')\n",
        "merged_df['P0020005'] = pd.to_numeric(merged_df['P0020005'], errors='coerce')\n",
        "merged_df['P0020006'] = pd.to_numeric(merged_df['P0020006'], errors='coerce')\n",
        "merged_df['P0020002'] = pd.to_numeric(merged_df['P0020002'], errors='coerce')\n",
        "merged_df['P002aapi'] = pd.to_numeric(merged_df['P002aapi'], errors='coerce')\n"
      ]
    },
    {
      "cell_type": "code",
      "execution_count": 36,
      "metadata": {
        "id": "V1_UR9NpMOV0"
      },
      "outputs": [],
      "source": [
        "merged_df['P002others'] = pd.to_numeric(merged_df['P002others'], errors='coerce')"
      ]
    },
    {
      "cell_type": "code",
      "execution_count": 37,
      "metadata": {
        "id": "eFRCQqwBDzLV"
      },
      "outputs": [],
      "source": [
        "# Grouping by 'Route' and summing the numeric values in 'P0020001' column\n",
        "grouped_data = merged_df.groupby('Route')['P0020001'].sum()"
      ]
    },
    {
      "cell_type": "code",
      "execution_count": 38,
      "metadata": {
        "colab": {
          "base_uri": "https://localhost:8080/"
        },
        "id": "7Qz2n68q-u6B",
        "outputId": "531f7121-019b-4bb5-874e-0b1d7dc47d62"
      },
      "outputs": [
        {
          "data": {
            "text/plain": [
              "Route\n",
              "1       85437\n",
              "10     128933\n",
              "104     19120\n",
              "105     19120\n",
              "109     19120\n",
              "Name: P0020001, dtype: int64"
            ]
          },
          "execution_count": 38,
          "metadata": {},
          "output_type": "execute_result"
        }
      ],
      "source": [
        "grouped_data.head()"
      ]
    },
    {
      "cell_type": "code",
      "execution_count": 39,
      "metadata": {
        "id": "LQXUw-YE-x6f"
      },
      "outputs": [],
      "source": [
        "# Get the top 10 routes with maximum population\n",
        "top_routes_max_population = grouped_data.nlargest(10)\n",
        "\n",
        "# Get the top 10 routes with minimum population\n",
        "top_routes_min_population = grouped_data.nsmallest(10)\n"
      ]
    },
    {
      "cell_type": "code",
      "execution_count": 40,
      "metadata": {
        "colab": {
          "base_uri": "https://localhost:8080/",
          "height": 407
        },
        "id": "k9Vzb86DASYe",
        "outputId": "51ae19fa-9bb9-4681-e65b-cf0f2f134c4d"
      },
      "outputs": [
        {
          "data": {
            "image/png": "[encoded data removed]",
            "text/plain": [
              "<Figure size 800x400 with 2 Axes>"
            ]
          },
          "metadata": {},
          "output_type": "display_data"
        }
      ],
      "source": [
        "fig, axes = plt.subplots(nrows=1, ncols=2, figsize=(8, 4))\n",
        "\n",
        "# Plotting top 10 routes with maximum population\n",
        "axes[0].bar(top_routes_max_population.index, top_routes_max_population.values, color='skyblue')\n",
        "axes[0].set_title('Most Accessible Routes')\n",
        "axes[0].set_xlabel('Bus Route')\n",
        "axes[0].set_ylabel('Total Population')\n",
        "axes[0].tick_params(axis='x', rotation=45)\n",
        "\n",
        "# Plotting top 10 routes with minimum population\n",
        "axes[1].bar(top_routes_min_population.index, top_routes_min_population.values, color='lightgreen')\n",
        "axes[1].set_title('Least Accessible Routes')\n",
        "axes[1].set_xlabel('Bus Route')\n",
        "axes[1].set_ylabel('Total Population')\n",
        "axes[1].tick_params(axis='x', rotation=45)\n",
        "\n",
        "# Adjust layout and display the plots\n",
        "plt.tight_layout()\n",
        "plt.show()"
      ]
    },
    {
      "cell_type": "code",
      "execution_count": 41,
      "metadata": {
        "id": "0cjptnRfDUoY"
      },
      "outputs": [],
      "source": [
        "grouped_data1 = merged_df.groupby('Route').agg({\n",
        "    'P0020001': 'sum',  # Total population\n",
        "    'P0020005': 'sum',\n",
        "    'P0020006': 'sum',\n",
        "     'P0020002': 'sum',\n",
        "     'P002aapi': 'sum',\n",
        "    'P002others' : 'sum'\n",
        "\n",
        "    # Add other population characteristics you want to analyze\n",
        "})"
      ]
    },
    {
      "cell_type": "code",
      "execution_count": 42,
      "metadata": {
        "id": "EhDTcFb-Dext"
      },
      "outputs": [],
      "source": [
        "new_column_names = {\n",
        "    'P0020001': 'Total Population',\n",
        "    'P0020005': 'White alone',\n",
        "    'P0020006': 'Black or African American alone',\n",
        "    'P0020002': 'Hispanic or Latino',\n",
        "    'P002aapi': 'Asian, Native Hawaiian and Pacific Islander alone, all ages',\n",
        "    'P002others' : 'Other Races'\n",
        "\n",
        "}\n",
        "\n",
        "# Rename the columns using the 'rename()' function\n",
        "grouped_data1.rename(columns=new_column_names, inplace=True)"
      ]
    },
    {
      "cell_type": "code",
      "execution_count": 43,
      "metadata": {
        "colab": {
          "base_uri": "https://localhost:8080/"
        },
        "id": "09bzgq4fFSMw",
        "outputId": "37f5b2d6-c4ef-4099-9489-c78e89c03c60"
      },
      "outputs": [
        {
          "data": {
            "text/plain": [
              "Index(['Total Population', 'White alone', 'Black or African American alone',\n",
              "       'Hispanic or Latino',\n",
              "       'Asian, Native Hawaiian and Pacific Islander alone, all ages',\n",
              "       'Other Races'],\n",
              "      dtype='object')"
            ]
          },
          "execution_count": 43,
          "metadata": {},
          "output_type": "execute_result"
        }
      ],
      "source": [
        "grouped_data1.columns"
      ]
    },
    {
      "cell_type": "code",
      "execution_count": 44,
      "metadata": {
        "colab": {
          "base_uri": "https://localhost:8080/",
          "height": 346
        },
        "id": "UpkHbjy8DfwC",
        "outputId": "65a1b69f-659e-4053-f00c-0f5248afd3af"
      },
      "outputs": [
        {
          "name": "stdout",
          "output_type": "stream",
          "text": [
            "Index(['Total Population', 'White alone', 'Black or African American alone',\n",
            "       'Hispanic or Latino',\n",
            "       'Asian, Native Hawaiian and Pacific Islander alone, all ages',\n",
            "       'Other Races'],\n",
            "      dtype='object')\n"
          ]
        },
        {
          "data": {
            "image/png": "[encoded data removed]",
            "text/plain": [
              "<Figure size 1400x400 with 1 Axes>"
            ]
          },
          "metadata": {},
          "output_type": "display_data"
        }
      ],
      "source": [
        "# Get the top 10 routes with maximum total population\n",
        "top_routes_max_population = grouped_data1['Total Population'].nlargest(10)\n",
        "\n",
        "# Extract data for the top 10 routes from the grouped data\n",
        "top_routes_data = grouped_data1.loc[top_routes_max_population.index]\n",
        "print(top_routes_data.columns)\n",
        "top_routes_data.drop('Total Population', inplace=True, axis=1)\n",
        "top_routes_data_renamed = top_routes_data\n",
        "# top_routes_data_renamed.rename(columns={'oldName1': 'newName1', 'oldName2': 'newName2'})\n",
        "\n",
        "# Transpose the DataFrame for better plotting (rows become columns)\n",
        "# top_routes_data = top_routes_data.T\n",
        "\n",
        "# Plotting grouped bar chart for top 10 routes' population distribution\n",
        "top_routes_data.plot(kind='bar', figsize=(14,4), colormap='viridis',width=0.8)\n",
        "plt.xlabel('Route Id')\n",
        "plt.ylabel('Population Count')\n",
        "plt.title('Population Distribution for Most Accessible Routes')\n",
        "plt.legend(title='Index', bbox_to_anchor=(1.05, 1), loc='upper left')\n",
        "plt.xticks(rotation=45)\n",
        "plt.tight_layout()\n",
        "plt.show()"
      ]
    },
    {
      "cell_type": "code",
      "execution_count": 45,
      "metadata": {
        "colab": {
          "base_uri": "https://localhost:8080/",
          "height": 427
        },
        "id": "2_zYjlpREYb5",
        "outputId": "b421ac88-61b6-4224-a799-548730f734b6"
      },
      "outputs": [
        {
          "data": {
            "image/png": "[encoded data removed]",
            "text/plain": [
              "<Figure size 1400x400 with 1 Axes>"
            ]
          },
          "metadata": {},
          "output_type": "display_data"
        }
      ],
      "source": [
        "# Get the top 10 routes with maximum total population\n",
        "top_routes_min_population = grouped_data1['Total Population'].nsmallest(10)\n",
        "\n",
        "# Extract data for the top 10 routes from the grouped data\n",
        "top_routes_data1 = grouped_data1.loc[top_routes_min_population.index]\n",
        "top_routes_data1.drop('Total Population', inplace=True, axis=1)\n",
        "\n",
        "# Transpose the DataFrame for better plotting (rows become columns)\n",
        "# top_routes_data = top_routes_data.T\n",
        "\n",
        "# Plotting grouped bar chart for top 10 routes' population distribution\n",
        "top_routes_data1.plot(kind='bar', figsize=(14,4), colormap='viridis',width=0.8)\n",
        "plt.xlabel('Route Id')\n",
        "plt.ylabel('Population Count')\n",
        "plt.title('Population Distribution for Least Accessible Routes')\n",
        "plt.legend(title='Index', bbox_to_anchor=(1.05, 1), loc='upper left')\n",
        "plt.xticks(rotation=45)\n",
        "plt.tight_layout()\n",
        "plt.show()"
      ]
    },
    {
      "cell_type": "code",
      "execution_count": 46,
      "metadata": {
        "colab": {
          "base_uri": "https://localhost:8080/",
          "height": 509
        },
        "id": "zUk9R_auLweq",
        "outputId": "b300e822-6d74-49ef-bccd-873e9e88338c"
      },
      "outputs": [
        {
          "data": {
            "text/html": [
              "<div>\n",
              "<style scoped>\n",
              "    .dataframe tbody tr th:only-of-type {\n",
              "        vertical-align: middle;\n",
              "    }\n",
              "\n",
              "    .dataframe tbody tr th {\n",
              "        vertical-align: top;\n",
              "    }\n",
              "\n",
              "    .dataframe thead th {\n",
              "        text-align: right;\n",
              "    }\n",
              "</style>\n",
              "<table border=\"1\" class=\"dataframe\">\n",
              "  <thead>\n",
              "    <tr style=\"text-align: right;\">\n",
              "      <th></th>\n",
              "      <th>Neighborhoods</th>\n",
              "      <th>tract20_nbhd</th>\n",
              "      <th>P0020001</th>\n",
              "      <th>P0020005</th>\n",
              "      <th>P0020006</th>\n",
              "      <th>P0020002</th>\n",
              "      <th>P002aapi</th>\n",
              "      <th>P002others</th>\n",
              "      <th>P0040001</th>\n",
              "      <th>P0040005</th>\n",
              "      <th>...</th>\n",
              "      <th>P0050006</th>\n",
              "      <th>P0050007</th>\n",
              "      <th>P0050008</th>\n",
              "      <th>P0050009</th>\n",
              "      <th>P0050010</th>\n",
              "      <th>H0010001</th>\n",
              "      <th>H0010002</th>\n",
              "      <th>H0010003</th>\n",
              "      <th>hhsize</th>\n",
              "      <th>zipcode</th>\n",
              "    </tr>\n",
              "    <tr>\n",
              "      <th>Route</th>\n",
              "      <th></th>\n",
              "      <th></th>\n",
              "      <th></th>\n",
              "      <th></th>\n",
              "      <th></th>\n",
              "      <th></th>\n",
              "      <th></th>\n",
              "      <th></th>\n",
              "      <th></th>\n",
              "      <th></th>\n",
              "      <th></th>\n",
              "      <th></th>\n",
              "      <th></th>\n",
              "      <th></th>\n",
              "      <th></th>\n",
              "      <th></th>\n",
              "      <th></th>\n",
              "      <th></th>\n",
              "      <th></th>\n",
              "      <th></th>\n",
              "      <th></th>\n",
              "    </tr>\n",
              "  </thead>\n",
              "  <tbody>\n",
              "    <tr>\n",
              "      <th>1</th>\n",
              "      <td>RoxburySouth End</td>\n",
              "      <td>RoxburySouth End</td>\n",
              "      <td>85437</td>\n",
              "      <td>24499</td>\n",
              "      <td>25883</td>\n",
              "      <td>20631</td>\n",
              "      <td>8097</td>\n",
              "      <td>6327</td>\n",
              "      <td>4315227315</td>\n",
              "      <td>661815908</td>\n",
              "      <td>...</td>\n",
              "      <td>4145</td>\n",
              "      <td>3553743</td>\n",
              "      <td>25200</td>\n",
              "      <td>00</td>\n",
              "      <td>1033743</td>\n",
              "      <td>2168717598</td>\n",
              "      <td>2002516152</td>\n",
              "      <td>16621446</td>\n",
              "      <td>2.4995255931.86354631</td>\n",
              "      <td>0211902118</td>\n",
              "    </tr>\n",
              "    <tr>\n",
              "      <th>10</th>\n",
              "      <td>RoxburySouth EndSouth BostonSouth Boston Water...</td>\n",
              "      <td>RoxburySouth EndSouth BostonSouth Boston Water...</td>\n",
              "      <td>128933</td>\n",
              "      <td>57953</td>\n",
              "      <td>27572</td>\n",
              "      <td>24834</td>\n",
              "      <td>10656</td>\n",
              "      <td>7918</td>\n",
              "      <td>4315227315336145286</td>\n",
              "      <td>661815908269304171</td>\n",
              "      <td>...</td>\n",
              "      <td>414500</td>\n",
              "      <td>35537431251</td>\n",
              "      <td>2520000</td>\n",
              "      <td>0000</td>\n",
              "      <td>10337431251</td>\n",
              "      <td>2168717598191404622</td>\n",
              "      <td>2002516152179613624</td>\n",
              "      <td>166214461179998</td>\n",
              "      <td>2.4995255931.863546312.0905294811.539183223</td>\n",
              "      <td>02119021180212702125</td>\n",
              "    </tr>\n",
              "    <tr>\n",
              "      <th>104</th>\n",
              "      <td>Charlestown</td>\n",
              "      <td>Charlestown</td>\n",
              "      <td>19120</td>\n",
              "      <td>13626</td>\n",
              "      <td>990</td>\n",
              "      <td>2075</td>\n",
              "      <td>1650</td>\n",
              "      <td>779</td>\n",
              "      <td>15661</td>\n",
              "      <td>11689</td>\n",
              "      <td>...</td>\n",
              "      <td>0</td>\n",
              "      <td>55</td>\n",
              "      <td>0</td>\n",
              "      <td>30</td>\n",
              "      <td>25</td>\n",
              "      <td>9525</td>\n",
              "      <td>8932</td>\n",
              "      <td>593</td>\n",
              "      <td>2.128302732</td>\n",
              "      <td>02129</td>\n",
              "    </tr>\n",
              "    <tr>\n",
              "      <th>105</th>\n",
              "      <td>Charlestown</td>\n",
              "      <td>Charlestown</td>\n",
              "      <td>19120</td>\n",
              "      <td>13626</td>\n",
              "      <td>990</td>\n",
              "      <td>2075</td>\n",
              "      <td>1650</td>\n",
              "      <td>779</td>\n",
              "      <td>15661</td>\n",
              "      <td>11689</td>\n",
              "      <td>...</td>\n",
              "      <td>0</td>\n",
              "      <td>55</td>\n",
              "      <td>0</td>\n",
              "      <td>30</td>\n",
              "      <td>25</td>\n",
              "      <td>9525</td>\n",
              "      <td>8932</td>\n",
              "      <td>593</td>\n",
              "      <td>2.128302732</td>\n",
              "      <td>02129</td>\n",
              "    </tr>\n",
              "    <tr>\n",
              "      <th>109</th>\n",
              "      <td>Charlestown</td>\n",
              "      <td>Charlestown</td>\n",
              "      <td>19120</td>\n",
              "      <td>13626</td>\n",
              "      <td>990</td>\n",
              "      <td>2075</td>\n",
              "      <td>1650</td>\n",
              "      <td>779</td>\n",
              "      <td>15661</td>\n",
              "      <td>11689</td>\n",
              "      <td>...</td>\n",
              "      <td>0</td>\n",
              "      <td>55</td>\n",
              "      <td>0</td>\n",
              "      <td>30</td>\n",
              "      <td>25</td>\n",
              "      <td>9525</td>\n",
              "      <td>8932</td>\n",
              "      <td>593</td>\n",
              "      <td>2.128302732</td>\n",
              "      <td>02129</td>\n",
              "    </tr>\n",
              "    <tr>\n",
              "      <th>...</th>\n",
              "      <td>...</td>\n",
              "      <td>...</td>\n",
              "      <td>...</td>\n",
              "      <td>...</td>\n",
              "      <td>...</td>\n",
              "      <td>...</td>\n",
              "      <td>...</td>\n",
              "      <td>...</td>\n",
              "      <td>...</td>\n",
              "      <td>...</td>\n",
              "      <td>...</td>\n",
              "      <td>...</td>\n",
              "      <td>...</td>\n",
              "      <td>...</td>\n",
              "      <td>...</td>\n",
              "      <td>...</td>\n",
              "      <td>...</td>\n",
              "      <td>...</td>\n",
              "      <td>...</td>\n",
              "      <td>...</td>\n",
              "      <td>...</td>\n",
              "    </tr>\n",
              "    <tr>\n",
              "      <th>8993</th>\n",
              "      <td>Charlestown</td>\n",
              "      <td>Charlestown</td>\n",
              "      <td>19120</td>\n",
              "      <td>13626</td>\n",
              "      <td>990</td>\n",
              "      <td>2075</td>\n",
              "      <td>1650</td>\n",
              "      <td>779</td>\n",
              "      <td>15661</td>\n",
              "      <td>11689</td>\n",
              "      <td>...</td>\n",
              "      <td>0</td>\n",
              "      <td>55</td>\n",
              "      <td>0</td>\n",
              "      <td>30</td>\n",
              "      <td>25</td>\n",
              "      <td>9525</td>\n",
              "      <td>8932</td>\n",
              "      <td>593</td>\n",
              "      <td>2.128302732</td>\n",
              "      <td>02129</td>\n",
              "    </tr>\n",
              "    <tr>\n",
              "      <th>9</th>\n",
              "      <td>RoxburySouth EndSouth BostonChinatownMission H...</td>\n",
              "      <td>RoxburySouth EndSouth BostonChinatownMission H...</td>\n",
              "      <td>184576</td>\n",
              "      <td>82467</td>\n",
              "      <td>32426</td>\n",
              "      <td>31875</td>\n",
              "      <td>27179</td>\n",
              "      <td>10629</td>\n",
              "      <td>43152273153361454771559636437</td>\n",
              "      <td>661815908269301741634419950</td>\n",
              "      <td>...</td>\n",
              "      <td>41450000</td>\n",
              "      <td>3553743125446165715169</td>\n",
              "      <td>252000443150214960</td>\n",
              "      <td>000000</td>\n",
              "      <td>10337431253155209</td>\n",
              "      <td>2168717598191403272695514625</td>\n",
              "      <td>2002516152179612937666813273</td>\n",
              "      <td>1662144611793352871352</td>\n",
              "      <td>2.4995255931.863546312.0905294811.96288732.361...</td>\n",
              "      <td>021190211802127021110212002215</td>\n",
              "    </tr>\n",
              "    <tr>\n",
              "      <th>91</th>\n",
              "      <td>Charlestown</td>\n",
              "      <td>Charlestown</td>\n",
              "      <td>19120</td>\n",
              "      <td>13626</td>\n",
              "      <td>990</td>\n",
              "      <td>2075</td>\n",
              "      <td>1650</td>\n",
              "      <td>779</td>\n",
              "      <td>15661</td>\n",
              "      <td>11689</td>\n",
              "      <td>...</td>\n",
              "      <td>0</td>\n",
              "      <td>55</td>\n",
              "      <td>0</td>\n",
              "      <td>30</td>\n",
              "      <td>25</td>\n",
              "      <td>9525</td>\n",
              "      <td>8932</td>\n",
              "      <td>593</td>\n",
              "      <td>2.128302732</td>\n",
              "      <td>02129</td>\n",
              "    </tr>\n",
              "    <tr>\n",
              "      <th>92</th>\n",
              "      <td>Charlestown</td>\n",
              "      <td>Charlestown</td>\n",
              "      <td>19120</td>\n",
              "      <td>13626</td>\n",
              "      <td>990</td>\n",
              "      <td>2075</td>\n",
              "      <td>1650</td>\n",
              "      <td>779</td>\n",
              "      <td>15661</td>\n",
              "      <td>11689</td>\n",
              "      <td>...</td>\n",
              "      <td>0</td>\n",
              "      <td>55</td>\n",
              "      <td>0</td>\n",
              "      <td>30</td>\n",
              "      <td>25</td>\n",
              "      <td>9525</td>\n",
              "      <td>8932</td>\n",
              "      <td>593</td>\n",
              "      <td>2.128302732</td>\n",
              "      <td>02129</td>\n",
              "    </tr>\n",
              "    <tr>\n",
              "      <th>93</th>\n",
              "      <td>Charlestown</td>\n",
              "      <td>Charlestown</td>\n",
              "      <td>19120</td>\n",
              "      <td>13626</td>\n",
              "      <td>990</td>\n",
              "      <td>2075</td>\n",
              "      <td>1650</td>\n",
              "      <td>779</td>\n",
              "      <td>15661</td>\n",
              "      <td>11689</td>\n",
              "      <td>...</td>\n",
              "      <td>0</td>\n",
              "      <td>55</td>\n",
              "      <td>0</td>\n",
              "      <td>30</td>\n",
              "      <td>25</td>\n",
              "      <td>9525</td>\n",
              "      <td>8932</td>\n",
              "      <td>593</td>\n",
              "      <td>2.128302732</td>\n",
              "      <td>02129</td>\n",
              "    </tr>\n",
              "  </tbody>\n",
              "</table>\n",
              "<p>82 rows × 36 columns</p>\n",
              "</div>"
            ],
            "text/plain": [
              "                                           Neighborhoods  \\\n",
              "Route                                                      \n",
              "1                                       RoxburySouth End   \n",
              "10     RoxburySouth EndSouth BostonSouth Boston Water...   \n",
              "104                                          Charlestown   \n",
              "105                                          Charlestown   \n",
              "109                                          Charlestown   \n",
              "...                                                  ...   \n",
              "8993                                         Charlestown   \n",
              "9      RoxburySouth EndSouth BostonChinatownMission H...   \n",
              "91                                           Charlestown   \n",
              "92                                           Charlestown   \n",
              "93                                           Charlestown   \n",
              "\n",
              "                                            tract20_nbhd  P0020001  P0020005  \\\n",
              "Route                                                                          \n",
              "1                                       RoxburySouth End     85437     24499   \n",
              "10     RoxburySouth EndSouth BostonSouth Boston Water...    128933     57953   \n",
              "104                                          Charlestown     19120     13626   \n",
              "105                                          Charlestown     19120     13626   \n",
              "109                                          Charlestown     19120     13626   \n",
              "...                                                  ...       ...       ...   \n",
              "8993                                         Charlestown     19120     13626   \n",
              "9      RoxburySouth EndSouth BostonChinatownMission H...    184576     82467   \n",
              "91                                           Charlestown     19120     13626   \n",
              "92                                           Charlestown     19120     13626   \n",
              "93                                           Charlestown     19120     13626   \n",
              "\n",
              "       P0020006  P0020002  P002aapi  P002others  \\\n",
              "Route                                             \n",
              "1         25883     20631      8097        6327   \n",
              "10        27572     24834     10656        7918   \n",
              "104         990      2075      1650         779   \n",
              "105         990      2075      1650         779   \n",
              "109         990      2075      1650         779   \n",
              "...         ...       ...       ...         ...   \n",
              "8993        990      2075      1650         779   \n",
              "9         32426     31875     27179       10629   \n",
              "91          990      2075      1650         779   \n",
              "92          990      2075      1650         779   \n",
              "93          990      2075      1650         779   \n",
              "\n",
              "                            P0040001                     P0040005  ...  \\\n",
              "Route                                                              ...   \n",
              "1                         4315227315                    661815908  ...   \n",
              "10               4315227315336145286           661815908269304171  ...   \n",
              "104                            15661                        11689  ...   \n",
              "105                            15661                        11689  ...   \n",
              "109                            15661                        11689  ...   \n",
              "...                              ...                          ...  ...   \n",
              "8993                           15661                        11689  ...   \n",
              "9      43152273153361454771559636437  661815908269301741634419950  ...   \n",
              "91                             15661                        11689  ...   \n",
              "92                             15661                        11689  ...   \n",
              "93                             15661                        11689  ...   \n",
              "\n",
              "       P0050006                P0050007            P0050008 P0050009  \\\n",
              "Route                                                                  \n",
              "1          4145                 3553743               25200       00   \n",
              "10       414500             35537431251             2520000     0000   \n",
              "104           0                      55                   0       30   \n",
              "105           0                      55                   0       30   \n",
              "109           0                      55                   0       30   \n",
              "...         ...                     ...                 ...      ...   \n",
              "8993          0                      55                   0       30   \n",
              "9      41450000  3553743125446165715169  252000443150214960   000000   \n",
              "91            0                      55                   0       30   \n",
              "92            0                      55                   0       30   \n",
              "93            0                      55                   0       30   \n",
              "\n",
              "                P0050010                      H0010001  \\\n",
              "Route                                                    \n",
              "1                1033743                    2168717598   \n",
              "10           10337431251           2168717598191404622   \n",
              "104                   25                          9525   \n",
              "105                   25                          9525   \n",
              "109                   25                          9525   \n",
              "...                  ...                           ...   \n",
              "8993                  25                          9525   \n",
              "9      10337431253155209  2168717598191403272695514625   \n",
              "91                    25                          9525   \n",
              "92                    25                          9525   \n",
              "93                    25                          9525   \n",
              "\n",
              "                           H0010002                H0010003  \\\n",
              "Route                                                         \n",
              "1                        2002516152                16621446   \n",
              "10              2002516152179613624         166214461179998   \n",
              "104                            8932                     593   \n",
              "105                            8932                     593   \n",
              "109                            8932                     593   \n",
              "...                             ...                     ...   \n",
              "8993                           8932                     593   \n",
              "9      2002516152179612937666813273  1662144611793352871352   \n",
              "91                             8932                     593   \n",
              "92                             8932                     593   \n",
              "93                             8932                     593   \n",
              "\n",
              "                                                  hhsize  \\\n",
              "Route                                                      \n",
              "1                                  2.4995255931.86354631   \n",
              "10           2.4995255931.863546312.0905294811.539183223   \n",
              "104                                          2.128302732   \n",
              "105                                          2.128302732   \n",
              "109                                          2.128302732   \n",
              "...                                                  ...   \n",
              "8993                                         2.128302732   \n",
              "9      2.4995255931.863546312.0905294811.96288732.361...   \n",
              "91                                           2.128302732   \n",
              "92                                           2.128302732   \n",
              "93                                           2.128302732   \n",
              "\n",
              "                              zipcode  \n",
              "Route                                  \n",
              "1                          0211902118  \n",
              "10               02119021180212702125  \n",
              "104                             02129  \n",
              "105                             02129  \n",
              "109                             02129  \n",
              "...                               ...  \n",
              "8993                            02129  \n",
              "9      021190211802127021110212002215  \n",
              "91                              02129  \n",
              "92                              02129  \n",
              "93                              02129  \n",
              "\n",
              "[82 rows x 36 columns]"
            ]
          },
          "execution_count": 46,
          "metadata": {},
          "output_type": "execute_result"
        }
      ],
      "source": [
        "# Grouping the data by 'Route' and summing up the ethnic columns for each route\n",
        "grouped = merged_df.groupby('Route').sum()\n",
        "grouped"
      ]
    },
    {
      "cell_type": "code",
      "execution_count": 47,
      "metadata": {
        "id": "5LFEnfjzNJFI"
      },
      "outputs": [],
      "source": [
        "# Calculating the count of unique neighborhoods for each route\n",
        "route_neighborhood_count = merged_df.groupby('Route')['Neighborhoods'].nunique()\n",
        "\n",
        "# Extracting top 5 routes with the largest counts of unique neighborhoods\n",
        "top_routes = route_neighborhood_count.nlargest(5).index"
      ]
    },
    {
      "cell_type": "code",
      "execution_count": 48,
      "metadata": {
        "colab": {
          "base_uri": "https://localhost:8080/"
        },
        "id": "-0XSzkrtOoFq",
        "outputId": "46305ce4-d011-4e4a-ed42-9957e4cae897"
      },
      "outputs": [
        {
          "name": "stdout",
          "output_type": "stream",
          "text": [
            "[15, 39, 8, 9, 14]\n"
          ]
        }
      ],
      "source": [
        "top_routes_int = [int(route) for route in top_routes]\n",
        "print(top_routes_int)"
      ]
    },
    {
      "cell_type": "code",
      "execution_count": 49,
      "metadata": {
        "id": "qbCMZHjPPm7h"
      },
      "outputs": [],
      "source": [
        "grouped=grouped.drop(columns='P0020001')"
      ]
    },
    {
      "cell_type": "code",
      "execution_count": 50,
      "metadata": {
        "colab": {
          "base_uri": "https://localhost:8080/",
          "height": 807
        },
        "id": "quLKK3P-JCrp",
        "outputId": "0b2476dc-6bf7-4ae0-dae2-294d49783255"
      },
      "outputs": [
        {
          "ename": "TypeError",
          "evalue": "'value' must be an instance of str or bytes, not a numpy.int64",
          "output_type": "error",
          "traceback": [
            "\u001b[1;31m---------------------------------------------------------------------------\u001b[0m",
            "\u001b[1;31mTypeError\u001b[0m                                 Traceback (most recent call last)",
            "\u001b[1;32mc:\\Users\\munir\\Desktop\\Munir\\BU\\5th Semester\\CS506\\ds-boston-transit-performance\\fa23-team-c\\BaseQuestion3_Visualizations.ipynb Cell 25\u001b[0m line \u001b[0;36m9\n\u001b[0;32m      <a href='vscode-notebook-cell:/c%3A/Users/munir/Desktop/Munir/BU/5th%20Semester/CS506/ds-boston-transit-performance/fa23-team-c/BaseQuestion3_Visualizations.ipynb#X33sZmlsZQ%3D%3D?line=6'>7</a>\u001b[0m bottom \u001b[39m=\u001b[39m \u001b[39mNone\u001b[39;00m\n\u001b[0;32m      <a href='vscode-notebook-cell:/c%3A/Users/munir/Desktop/Munir/BU/5th%20Semester/CS506/ds-boston-transit-performance/fa23-team-c/BaseQuestion3_Visualizations.ipynb#X33sZmlsZQ%3D%3D?line=7'>8</a>\u001b[0m \u001b[39mfor\u001b[39;00m route \u001b[39min\u001b[39;00m top_routes_int:\n\u001b[1;32m----> <a href='vscode-notebook-cell:/c%3A/Users/munir/Desktop/Munir/BU/5th%20Semester/CS506/ds-boston-transit-performance/fa23-team-c/BaseQuestion3_Visualizations.ipynb#X33sZmlsZQ%3D%3D?line=8'>9</a>\u001b[0m     plt\u001b[39m.\u001b[39;49mbar(ethnic_labels, grouped\u001b[39m.\u001b[39;49miloc[route], label\u001b[39m=\u001b[39;49m\u001b[39mf\u001b[39;49m\u001b[39m'\u001b[39;49m\u001b[39mRoute \u001b[39;49m\u001b[39m{\u001b[39;49;00mroute\u001b[39m}\u001b[39;49;00m\u001b[39m'\u001b[39;49m, bottom\u001b[39m=\u001b[39;49mbottom,width\u001b[39m=\u001b[39;49m\u001b[39m0.5\u001b[39;49m)\n\u001b[0;32m     <a href='vscode-notebook-cell:/c%3A/Users/munir/Desktop/Munir/BU/5th%20Semester/CS506/ds-boston-transit-performance/fa23-team-c/BaseQuestion3_Visualizations.ipynb#X33sZmlsZQ%3D%3D?line=9'>10</a>\u001b[0m     \u001b[39mif\u001b[39;00m bottom \u001b[39mis\u001b[39;00m \u001b[39mNone\u001b[39;00m:\n\u001b[0;32m     <a href='vscode-notebook-cell:/c%3A/Users/munir/Desktop/Munir/BU/5th%20Semester/CS506/ds-boston-transit-performance/fa23-team-c/BaseQuestion3_Visualizations.ipynb#X33sZmlsZQ%3D%3D?line=10'>11</a>\u001b[0m         bottom \u001b[39m=\u001b[39m grouped\u001b[39m.\u001b[39miloc[route]\n",
            "File \u001b[1;32mc:\\Users\\munir\\AppData\\Local\\Programs\\Python\\Python310\\lib\\site-packages\\matplotlib\\pyplot.py:2742\u001b[0m, in \u001b[0;36mbar\u001b[1;34m(x, height, width, bottom, align, data, **kwargs)\u001b[0m\n\u001b[0;32m   2731\u001b[0m \u001b[39m@_copy_docstring_and_deprecators\u001b[39m(Axes\u001b[39m.\u001b[39mbar)\n\u001b[0;32m   2732\u001b[0m \u001b[39mdef\u001b[39;00m \u001b[39mbar\u001b[39m(\n\u001b[0;32m   2733\u001b[0m     x: \u001b[39mfloat\u001b[39m \u001b[39m|\u001b[39m ArrayLike,\n\u001b[1;32m   (...)\u001b[0m\n\u001b[0;32m   2740\u001b[0m     \u001b[39m*\u001b[39m\u001b[39m*\u001b[39mkwargs,\n\u001b[0;32m   2741\u001b[0m ) \u001b[39m-\u001b[39m\u001b[39m>\u001b[39m BarContainer:\n\u001b[1;32m-> 2742\u001b[0m     \u001b[39mreturn\u001b[39;00m gca()\u001b[39m.\u001b[39mbar(\n\u001b[0;32m   2743\u001b[0m         x,\n\u001b[0;32m   2744\u001b[0m         height,\n\u001b[0;32m   2745\u001b[0m         width\u001b[39m=\u001b[39mwidth,\n\u001b[0;32m   2746\u001b[0m         bottom\u001b[39m=\u001b[39mbottom,\n\u001b[0;32m   2747\u001b[0m         align\u001b[39m=\u001b[39malign,\n\u001b[0;32m   2748\u001b[0m         \u001b[39m*\u001b[39m\u001b[39m*\u001b[39m({\u001b[39m\"\u001b[39m\u001b[39mdata\u001b[39m\u001b[39m\"\u001b[39m: data} \u001b[39mif\u001b[39;00m data \u001b[39mis\u001b[39;00m \u001b[39mnot\u001b[39;00m \u001b[39mNone\u001b[39;00m \u001b[39melse\u001b[39;00m {}),\n\u001b[0;32m   2749\u001b[0m         \u001b[39m*\u001b[39m\u001b[39m*\u001b[39mkwargs,\n\u001b[0;32m   2750\u001b[0m     )\n",
            "File \u001b[1;32mc:\\Users\\munir\\AppData\\Local\\Programs\\Python\\Python310\\lib\\site-packages\\matplotlib\\__init__.py:1478\u001b[0m, in \u001b[0;36m_preprocess_data.<locals>.inner\u001b[1;34m(ax, data, *args, **kwargs)\u001b[0m\n\u001b[0;32m   1475\u001b[0m \u001b[39m@functools\u001b[39m\u001b[39m.\u001b[39mwraps(func)\n\u001b[0;32m   1476\u001b[0m \u001b[39mdef\u001b[39;00m \u001b[39minner\u001b[39m(ax, \u001b[39m*\u001b[39margs, data\u001b[39m=\u001b[39m\u001b[39mNone\u001b[39;00m, \u001b[39m*\u001b[39m\u001b[39m*\u001b[39mkwargs):\n\u001b[0;32m   1477\u001b[0m     \u001b[39mif\u001b[39;00m data \u001b[39mis\u001b[39;00m \u001b[39mNone\u001b[39;00m:\n\u001b[1;32m-> 1478\u001b[0m         \u001b[39mreturn\u001b[39;00m func(ax, \u001b[39m*\u001b[39m\u001b[39mmap\u001b[39m(sanitize_sequence, args), \u001b[39m*\u001b[39m\u001b[39m*\u001b[39mkwargs)\n\u001b[0;32m   1480\u001b[0m     bound \u001b[39m=\u001b[39m new_sig\u001b[39m.\u001b[39mbind(ax, \u001b[39m*\u001b[39margs, \u001b[39m*\u001b[39m\u001b[39m*\u001b[39mkwargs)\n\u001b[0;32m   1481\u001b[0m     auto_label \u001b[39m=\u001b[39m (bound\u001b[39m.\u001b[39marguments\u001b[39m.\u001b[39mget(label_namer)\n\u001b[0;32m   1482\u001b[0m                   \u001b[39mor\u001b[39;00m bound\u001b[39m.\u001b[39mkwargs\u001b[39m.\u001b[39mget(label_namer))\n",
            "File \u001b[1;32mc:\\Users\\munir\\AppData\\Local\\Programs\\Python\\Python310\\lib\\site-packages\\matplotlib\\axes\\_axes.py:2429\u001b[0m, in \u001b[0;36mAxes.bar\u001b[1;34m(self, x, height, width, bottom, align, **kwargs)\u001b[0m\n\u001b[0;32m   2423\u001b[0m         x \u001b[39m=\u001b[39m \u001b[39m0\u001b[39m\n\u001b[0;32m   2425\u001b[0m \u001b[39mif\u001b[39;00m orientation \u001b[39m==\u001b[39m \u001b[39m'\u001b[39m\u001b[39mvertical\u001b[39m\u001b[39m'\u001b[39m:\n\u001b[0;32m   2426\u001b[0m     \u001b[39m# It is possible for y (bottom) to contain unit information.\u001b[39;00m\n\u001b[0;32m   2427\u001b[0m     \u001b[39m# However, it is also possible for y=0 for the default and height\u001b[39;00m\n\u001b[0;32m   2428\u001b[0m     \u001b[39m# to contain unit information.  This will prioritize the units of y.\u001b[39;00m\n\u001b[1;32m-> 2429\u001b[0m     \u001b[39mself\u001b[39;49m\u001b[39m.\u001b[39;49m_process_unit_info(\n\u001b[0;32m   2430\u001b[0m         [(\u001b[39m\"\u001b[39;49m\u001b[39mx\u001b[39;49m\u001b[39m\"\u001b[39;49m, x), (\u001b[39m\"\u001b[39;49m\u001b[39my\u001b[39;49m\u001b[39m\"\u001b[39;49m, y), (\u001b[39m\"\u001b[39;49m\u001b[39my\u001b[39;49m\u001b[39m\"\u001b[39;49m, height)], kwargs, convert\u001b[39m=\u001b[39;49m\u001b[39mFalse\u001b[39;49;00m)\n\u001b[0;32m   2431\u001b[0m     \u001b[39mif\u001b[39;00m log:\n\u001b[0;32m   2432\u001b[0m         \u001b[39mself\u001b[39m\u001b[39m.\u001b[39mset_yscale(\u001b[39m'\u001b[39m\u001b[39mlog\u001b[39m\u001b[39m'\u001b[39m, nonpositive\u001b[39m=\u001b[39m\u001b[39m'\u001b[39m\u001b[39mclip\u001b[39m\u001b[39m'\u001b[39m)\n",
            "File \u001b[1;32mc:\\Users\\munir\\AppData\\Local\\Programs\\Python\\Python310\\lib\\site-packages\\matplotlib\\axes\\_base.py:2555\u001b[0m, in \u001b[0;36m_AxesBase._process_unit_info\u001b[1;34m(self, datasets, kwargs, convert)\u001b[0m\n\u001b[0;32m   2553\u001b[0m     \u001b[39m# Update from data if axis is already set but no unit is set yet.\u001b[39;00m\n\u001b[0;32m   2554\u001b[0m     \u001b[39mif\u001b[39;00m axis \u001b[39mis\u001b[39;00m \u001b[39mnot\u001b[39;00m \u001b[39mNone\u001b[39;00m \u001b[39mand\u001b[39;00m data \u001b[39mis\u001b[39;00m \u001b[39mnot\u001b[39;00m \u001b[39mNone\u001b[39;00m \u001b[39mand\u001b[39;00m \u001b[39mnot\u001b[39;00m axis\u001b[39m.\u001b[39mhave_units():\n\u001b[1;32m-> 2555\u001b[0m         axis\u001b[39m.\u001b[39;49mupdate_units(data)\n\u001b[0;32m   2556\u001b[0m \u001b[39mfor\u001b[39;00m axis_name, axis \u001b[39min\u001b[39;00m axis_map\u001b[39m.\u001b[39mitems():\n\u001b[0;32m   2557\u001b[0m     \u001b[39m# Return if no axis is set.\u001b[39;00m\n\u001b[0;32m   2558\u001b[0m     \u001b[39mif\u001b[39;00m axis \u001b[39mis\u001b[39;00m \u001b[39mNone\u001b[39;00m:\n",
            "File \u001b[1;32mc:\\Users\\munir\\AppData\\Local\\Programs\\Python\\Python310\\lib\\site-packages\\matplotlib\\axis.py:1712\u001b[0m, in \u001b[0;36mAxis.update_units\u001b[1;34m(self, data)\u001b[0m\n\u001b[0;32m   1710\u001b[0m neednew \u001b[39m=\u001b[39m \u001b[39mself\u001b[39m\u001b[39m.\u001b[39mconverter \u001b[39m!=\u001b[39m converter\n\u001b[0;32m   1711\u001b[0m \u001b[39mself\u001b[39m\u001b[39m.\u001b[39mconverter \u001b[39m=\u001b[39m converter\n\u001b[1;32m-> 1712\u001b[0m default \u001b[39m=\u001b[39m \u001b[39mself\u001b[39;49m\u001b[39m.\u001b[39;49mconverter\u001b[39m.\u001b[39;49mdefault_units(data, \u001b[39mself\u001b[39;49m)\n\u001b[0;32m   1713\u001b[0m \u001b[39mif\u001b[39;00m default \u001b[39mis\u001b[39;00m \u001b[39mnot\u001b[39;00m \u001b[39mNone\u001b[39;00m \u001b[39mand\u001b[39;00m \u001b[39mself\u001b[39m\u001b[39m.\u001b[39munits \u001b[39mis\u001b[39;00m \u001b[39mNone\u001b[39;00m:\n\u001b[0;32m   1714\u001b[0m     \u001b[39mself\u001b[39m\u001b[39m.\u001b[39mset_units(default)\n",
            "File \u001b[1;32mc:\\Users\\munir\\AppData\\Local\\Programs\\Python\\Python310\\lib\\site-packages\\matplotlib\\category.py:105\u001b[0m, in \u001b[0;36mStrCategoryConverter.default_units\u001b[1;34m(data, axis)\u001b[0m\n\u001b[0;32m    103\u001b[0m \u001b[39m# the conversion call stack is default_units -> axis_info -> convert\u001b[39;00m\n\u001b[0;32m    104\u001b[0m \u001b[39mif\u001b[39;00m axis\u001b[39m.\u001b[39munits \u001b[39mis\u001b[39;00m \u001b[39mNone\u001b[39;00m:\n\u001b[1;32m--> 105\u001b[0m     axis\u001b[39m.\u001b[39mset_units(UnitData(data))\n\u001b[0;32m    106\u001b[0m \u001b[39melse\u001b[39;00m:\n\u001b[0;32m    107\u001b[0m     axis\u001b[39m.\u001b[39munits\u001b[39m.\u001b[39mupdate(data)\n",
            "File \u001b[1;32mc:\\Users\\munir\\AppData\\Local\\Programs\\Python\\Python310\\lib\\site-packages\\matplotlib\\category.py:181\u001b[0m, in \u001b[0;36mUnitData.__init__\u001b[1;34m(self, data)\u001b[0m\n\u001b[0;32m    179\u001b[0m \u001b[39mself\u001b[39m\u001b[39m.\u001b[39m_counter \u001b[39m=\u001b[39m itertools\u001b[39m.\u001b[39mcount()\n\u001b[0;32m    180\u001b[0m \u001b[39mif\u001b[39;00m data \u001b[39mis\u001b[39;00m \u001b[39mnot\u001b[39;00m \u001b[39mNone\u001b[39;00m:\n\u001b[1;32m--> 181\u001b[0m     \u001b[39mself\u001b[39;49m\u001b[39m.\u001b[39;49mupdate(data)\n",
            "File \u001b[1;32mc:\\Users\\munir\\AppData\\Local\\Programs\\Python\\Python310\\lib\\site-packages\\matplotlib\\category.py:216\u001b[0m, in \u001b[0;36mUnitData.update\u001b[1;34m(self, data)\u001b[0m\n\u001b[0;32m    213\u001b[0m convertible \u001b[39m=\u001b[39m \u001b[39mTrue\u001b[39;00m\n\u001b[0;32m    214\u001b[0m \u001b[39mfor\u001b[39;00m val \u001b[39min\u001b[39;00m OrderedDict\u001b[39m.\u001b[39mfromkeys(data):\n\u001b[0;32m    215\u001b[0m     \u001b[39m# OrderedDict just iterates over unique values in data.\u001b[39;00m\n\u001b[1;32m--> 216\u001b[0m     _api\u001b[39m.\u001b[39;49mcheck_isinstance((\u001b[39mstr\u001b[39;49m, \u001b[39mbytes\u001b[39;49m), value\u001b[39m=\u001b[39;49mval)\n\u001b[0;32m    217\u001b[0m     \u001b[39mif\u001b[39;00m convertible:\n\u001b[0;32m    218\u001b[0m         \u001b[39m# this will only be called so long as convertible is True.\u001b[39;00m\n\u001b[0;32m    219\u001b[0m         convertible \u001b[39m=\u001b[39m \u001b[39mself\u001b[39m\u001b[39m.\u001b[39m_str_is_convertible(val)\n",
            "File \u001b[1;32mc:\\Users\\munir\\AppData\\Local\\Programs\\Python\\Python310\\lib\\site-packages\\matplotlib\\_api\\__init__.py:91\u001b[0m, in \u001b[0;36mcheck_isinstance\u001b[1;34m(types, **kwargs)\u001b[0m\n\u001b[0;32m     89\u001b[0m     names\u001b[39m.\u001b[39mremove(\u001b[39m\"\u001b[39m\u001b[39mNone\u001b[39m\u001b[39m\"\u001b[39m)\n\u001b[0;32m     90\u001b[0m     names\u001b[39m.\u001b[39mappend(\u001b[39m\"\u001b[39m\u001b[39mNone\u001b[39m\u001b[39m\"\u001b[39m)\n\u001b[1;32m---> 91\u001b[0m \u001b[39mraise\u001b[39;00m \u001b[39mTypeError\u001b[39;00m(\n\u001b[0;32m     92\u001b[0m     \u001b[39m\"\u001b[39m\u001b[39m{!r}\u001b[39;00m\u001b[39m must be an instance of \u001b[39m\u001b[39m{}\u001b[39;00m\u001b[39m, not a \u001b[39m\u001b[39m{}\u001b[39;00m\u001b[39m\"\u001b[39m\u001b[39m.\u001b[39mformat(\n\u001b[0;32m     93\u001b[0m         k,\n\u001b[0;32m     94\u001b[0m         \u001b[39m\"\u001b[39m\u001b[39m, \u001b[39m\u001b[39m\"\u001b[39m\u001b[39m.\u001b[39mjoin(names[:\u001b[39m-\u001b[39m\u001b[39m1\u001b[39m]) \u001b[39m+\u001b[39m \u001b[39m\"\u001b[39m\u001b[39m or \u001b[39m\u001b[39m\"\u001b[39m \u001b[39m+\u001b[39m names[\u001b[39m-\u001b[39m\u001b[39m1\u001b[39m]\n\u001b[0;32m     95\u001b[0m         \u001b[39mif\u001b[39;00m \u001b[39mlen\u001b[39m(names) \u001b[39m>\u001b[39m \u001b[39m1\u001b[39m \u001b[39melse\u001b[39;00m names[\u001b[39m0\u001b[39m],\n\u001b[0;32m     96\u001b[0m         type_name(\u001b[39mtype\u001b[39m(v))))\n",
            "\u001b[1;31mTypeError\u001b[0m: 'value' must be an instance of str or bytes, not a numpy.int64"
          ]
        },
        {
          "data": {
            "image/png": "[encoded data removed]",
            "text/plain": [
              "<Figure size 1000x800 with 1 Axes>"
            ]
          },
          "metadata": {},
          "output_type": "display_data"
        }
      ],
      "source": [
        "# Selecting ethnic columns for pie chart\n",
        "ethnic_columns = ['P0020005', 'P0020006', 'P0020002', 'P002aapi','P002others']\n",
        "ethnic_labels = ['White alone', 'Black or African American alone', 'Hispanic or Latino', 'Asian, Native Hawaiian and Pacific Islander alone, all ages','Other Races']\n",
        "\n",
        "# Plotting stacked bar chart for ethnic distribution of top routes with max neighborhoods\n",
        "plt.figure(figsize=(10, 8))\n",
        "bottom = None\n",
        "for route in top_routes_int:\n",
        "    plt.bar(ethnic_labels, grouped.iloc[route], label=f'Route {route}', bottom=bottom,width=0.5)\n",
        "    if bottom is None:\n",
        "        bottom = grouped.iloc[route]\n",
        "    else:\n",
        "        bottom += grouped.iloc[route]\n",
        "\n",
        "# Adding legend\n",
        "plt.legend(title='Routes')\n",
        "plt.xlabel('Ethnic Groups')\n",
        "plt.ylabel('Population Count')\n",
        "plt.title('Ethnic Distribution for Routes Servicing Most Neighborhoods')\n",
        "plt.xticks(rotation=75)\n",
        "plt.tight_layout()\n",
        "plt.show()"
      ]
    },
    {
      "cell_type": "code",
      "execution_count": null,
      "metadata": {
        "id": "Kf3q0r4nSqkf"
      },
      "outputs": [],
      "source": []
    }
  ],
  "metadata": {
    "colab": {
      "provenance": []
    },
    "kernelspec": {
      "display_name": "Python 3",
      "name": "python3"
    },
    "language_info": {
      "codemirror_mode": {
        "name": "ipython",
        "version": 3
      },
      "file_extension": ".py",
      "mimetype": "text/x-python",
      "name": "python",
      "nbconvert_exporter": "python",
      "pygments_lexer": "ipython3",
      "version": "3.10.7"
    }
  },
  "nbformat": 4,
  "nbformat_minor": 0
}
