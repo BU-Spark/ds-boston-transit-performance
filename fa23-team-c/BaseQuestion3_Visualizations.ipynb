{
  "cells": [
    {
      "cell_type": "code",
      "execution_count": 1,
      "metadata": {
        "id": "hDD-gnnq4Ya1"
      },
      "outputs": [],
      "source": [
        "import pandas as pd\n",
        "import numpy as np\n",
        "import matplotlib.pyplot as plt\n",
        "import seaborn as sns"
      ]
    },
    {
      "cell_type": "code",
      "execution_count": 2,
      "metadata": {
        "id": "TEZRpU8f47m8"
      },
      "outputs": [],
      "source": [
        "bus_routes_df = pd.read_csv('data/routes_to_neighborhoods_new.csv')\n",
        "census_data = pd.read_csv('data/census_data.csv')"
      ]
    },
    {
      "cell_type": "code",
      "execution_count": 4,
      "metadata": {
        "colab": {
          "base_uri": "https://localhost:8080/",
          "height": 423
        },
        "id": "pQsmVVoX74Nc",
        "outputId": "62971fc6-64ed-4b2b-9719-9b05d077025d"
      },
      "outputs": [
        {
          "data": {
            "text/html": [
              "<div>\n",
              "<style scoped>\n",
              "    .dataframe tbody tr th:only-of-type {\n",
              "        vertical-align: middle;\n",
              "    }\n",
              "\n",
              "    .dataframe tbody tr th {\n",
              "        vertical-align: top;\n",
              "    }\n",
              "\n",
              "    .dataframe thead th {\n",
              "        text-align: right;\n",
              "    }\n",
              "</style>\n",
              "<table border=\"1\" class=\"dataframe\">\n",
              "  <thead>\n",
              "    <tr style=\"text-align: right;\">\n",
              "      <th></th>\n",
              "      <th>route_id</th>\n",
              "      <th>stop_id</th>\n",
              "      <th>neighborhood</th>\n",
              "    </tr>\n",
              "  </thead>\n",
              "  <tbody>\n",
              "    <tr>\n",
              "      <th>0</th>\n",
              "      <td>01</td>\n",
              "      <td>[2, 59, 62, 64, 79, 93, 187, 188, 10590]</td>\n",
              "      <td>['Roxbury', 'South End', 'Roxbury', 'Roxbury',...</td>\n",
              "    </tr>\n",
              "    <tr>\n",
              "      <th>1</th>\n",
              "      <td>04</td>\n",
              "      <td>[113, 114, 117, 190, 214, 224, 236, 892, 6564,...</td>\n",
              "      <td>['West End', 'West End', 'Downtown', 'Downtown...</td>\n",
              "    </tr>\n",
              "    <tr>\n",
              "      <th>2</th>\n",
              "      <td>07</td>\n",
              "      <td>[33, 879, 886, 889, 890, 892, 6564, 16535, 16538]</td>\n",
              "      <td>['South Boston Waterfront', 'South Boston', 'S...</td>\n",
              "    </tr>\n",
              "    <tr>\n",
              "      <th>3</th>\n",
              "      <td>08</td>\n",
              "      <td>[64, 111, 121, 123, 134, 142, 899, 1518, 1563,...</td>\n",
              "      <td>['Roxbury', 'Dorchester', 'Dorchester', 'Dorch...</td>\n",
              "    </tr>\n",
              "    <tr>\n",
              "      <th>4</th>\n",
              "      <td>09</td>\n",
              "      <td>[13, 21, 25, 33, 41, 45, 148, 150, 151, 175, 8...</td>\n",
              "      <td>['South Boston', 'South Boston', 'South Boston...</td>\n",
              "    </tr>\n",
              "  </tbody>\n",
              "</table>\n",
              "</div>"
            ],
            "text/plain": [
              "  route_id                                            stop_id  \\\n",
              "0       01           [2, 59, 62, 64, 79, 93, 187, 188, 10590]   \n",
              "1       04  [113, 114, 117, 190, 214, 224, 236, 892, 6564,...   \n",
              "2       07  [33, 879, 886, 889, 890, 892, 6564, 16535, 16538]   \n",
              "3       08  [64, 111, 121, 123, 134, 142, 899, 1518, 1563,...   \n",
              "4       09  [13, 21, 25, 33, 41, 45, 148, 150, 151, 175, 8...   \n",
              "\n",
              "                                        neighborhood  \n",
              "0  ['Roxbury', 'South End', 'Roxbury', 'Roxbury',...  \n",
              "1  ['West End', 'West End', 'Downtown', 'Downtown...  \n",
              "2  ['South Boston Waterfront', 'South Boston', 'S...  \n",
              "3  ['Roxbury', 'Dorchester', 'Dorchester', 'Dorch...  \n",
              "4  ['South Boston', 'South Boston', 'South Boston...  "
            ]
          },
          "execution_count": 4,
          "metadata": {},
          "output_type": "execute_result"
        }
      ],
      "source": [
        "bus_routes_df.head()"
      ]
    },
    {
      "cell_type": "code",
      "execution_count": 5,
      "metadata": {
        "id": "57wIh5k15Lnm"
      },
      "outputs": [],
      "source": [
        "bus_routes_df['neighborhood'] = bus_routes_df['neighborhood'].apply(lambda x: x.strip(\"[]\").replace(\"'\", \"\").split(\", \"))\n",
        "\n",
        "# Explode the 'Neighborhoods' column\n",
        "bus_routes_exploded = bus_routes_df.explode('neighborhood')"
      ]
    },
    {
      "cell_type": "code",
      "execution_count": 6,
      "metadata": {
        "colab": {
          "base_uri": "https://localhost:8080/",
          "height": 423
        },
        "id": "pYCsWYIm5QlW",
        "outputId": "e69e92c8-4635-4636-b638-29a7204da75b"
      },
      "outputs": [
        {
          "data": {
            "text/html": [
              "<div>\n",
              "<style scoped>\n",
              "    .dataframe tbody tr th:only-of-type {\n",
              "        vertical-align: middle;\n",
              "    }\n",
              "\n",
              "    .dataframe tbody tr th {\n",
              "        vertical-align: top;\n",
              "    }\n",
              "\n",
              "    .dataframe thead th {\n",
              "        text-align: right;\n",
              "    }\n",
              "</style>\n",
              "<table border=\"1\" class=\"dataframe\">\n",
              "  <thead>\n",
              "    <tr style=\"text-align: right;\">\n",
              "      <th></th>\n",
              "      <th>route_id</th>\n",
              "      <th>stop_id</th>\n",
              "      <th>neighborhood</th>\n",
              "    </tr>\n",
              "  </thead>\n",
              "  <tbody>\n",
              "    <tr>\n",
              "      <th>0</th>\n",
              "      <td>01</td>\n",
              "      <td>[2, 59, 62, 64, 79, 93, 187, 188, 10590]</td>\n",
              "      <td>Roxbury</td>\n",
              "    </tr>\n",
              "    <tr>\n",
              "      <th>0</th>\n",
              "      <td>01</td>\n",
              "      <td>[2, 59, 62, 64, 79, 93, 187, 188, 10590]</td>\n",
              "      <td>South End</td>\n",
              "    </tr>\n",
              "    <tr>\n",
              "      <th>0</th>\n",
              "      <td>01</td>\n",
              "      <td>[2, 59, 62, 64, 79, 93, 187, 188, 10590]</td>\n",
              "      <td>Roxbury</td>\n",
              "    </tr>\n",
              "    <tr>\n",
              "      <th>0</th>\n",
              "      <td>01</td>\n",
              "      <td>[2, 59, 62, 64, 79, 93, 187, 188, 10590]</td>\n",
              "      <td>Roxbury</td>\n",
              "    </tr>\n",
              "    <tr>\n",
              "      <th>0</th>\n",
              "      <td>01</td>\n",
              "      <td>[2, 59, 62, 64, 79, 93, 187, 188, 10590]</td>\n",
              "      <td>Fenway</td>\n",
              "    </tr>\n",
              "    <tr>\n",
              "      <th>...</th>\n",
              "      <td>...</td>\n",
              "      <td>...</td>\n",
              "      <td>...</td>\n",
              "    </tr>\n",
              "    <tr>\n",
              "      <th>93</th>\n",
              "      <td>SL5</td>\n",
              "      <td>[5, 55, 64, 5095, 5098, 6565, 49001, 49002]</td>\n",
              "      <td>South End</td>\n",
              "    </tr>\n",
              "    <tr>\n",
              "      <th>93</th>\n",
              "      <td>SL5</td>\n",
              "      <td>[5, 55, 64, 5095, 5098, 6565, 49001, 49002]</td>\n",
              "      <td>South End</td>\n",
              "    </tr>\n",
              "    <tr>\n",
              "      <th>93</th>\n",
              "      <td>SL5</td>\n",
              "      <td>[5, 55, 64, 5095, 5098, 6565, 49001, 49002]</td>\n",
              "      <td>Chinatown</td>\n",
              "    </tr>\n",
              "    <tr>\n",
              "      <th>93</th>\n",
              "      <td>SL5</td>\n",
              "      <td>[5, 55, 64, 5095, 5098, 6565, 49001, 49002]</td>\n",
              "      <td>Downtown</td>\n",
              "    </tr>\n",
              "    <tr>\n",
              "      <th>93</th>\n",
              "      <td>SL5</td>\n",
              "      <td>[5, 55, 64, 5095, 5098, 6565, 49001, 49002]</td>\n",
              "      <td>Downtown</td>\n",
              "    </tr>\n",
              "  </tbody>\n",
              "</table>\n",
              "<p>986 rows × 3 columns</p>\n",
              "</div>"
            ],
            "text/plain": [
              "   route_id                                      stop_id neighborhood\n",
              "0        01     [2, 59, 62, 64, 79, 93, 187, 188, 10590]      Roxbury\n",
              "0        01     [2, 59, 62, 64, 79, 93, 187, 188, 10590]    South End\n",
              "0        01     [2, 59, 62, 64, 79, 93, 187, 188, 10590]      Roxbury\n",
              "0        01     [2, 59, 62, 64, 79, 93, 187, 188, 10590]      Roxbury\n",
              "0        01     [2, 59, 62, 64, 79, 93, 187, 188, 10590]       Fenway\n",
              "..      ...                                          ...          ...\n",
              "93      SL5  [5, 55, 64, 5095, 5098, 6565, 49001, 49002]    South End\n",
              "93      SL5  [5, 55, 64, 5095, 5098, 6565, 49001, 49002]    South End\n",
              "93      SL5  [5, 55, 64, 5095, 5098, 6565, 49001, 49002]    Chinatown\n",
              "93      SL5  [5, 55, 64, 5095, 5098, 6565, 49001, 49002]     Downtown\n",
              "93      SL5  [5, 55, 64, 5095, 5098, 6565, 49001, 49002]     Downtown\n",
              "\n",
              "[986 rows x 3 columns]"
            ]
          },
          "execution_count": 6,
          "metadata": {},
          "output_type": "execute_result"
        }
      ],
      "source": [
        "bus_routes_exploded"
      ]
    },
    {
      "cell_type": "code",
      "execution_count": 7,
      "metadata": {
        "colab": {
          "base_uri": "https://localhost:8080/"
        },
        "id": "nhUqfrjE82aR",
        "outputId": "145f8411-0476-4604-8f41-a39b0123e599"
      },
      "outputs": [
        {
          "data": {
            "text/plain": [
              "Index(['tract20_nbhd', 'P0020001', 'P0020005', 'P0020006', 'P0020002',\n",
              "       'P002aapi', 'P002others', 'P0040001', 'P0040005', 'P0040006',\n",
              "       'P0040002', 'P004aapi', 'P004others', 'P00x0001', 'P00x0005',\n",
              "       'P00x0006', 'P00x0002', 'P00xaapi', 'P00xothers', 'hhpop', 'P0050001',\n",
              "       'P0050002', 'P0050003', 'P0050004', 'P0050005', 'P0050006', 'P0050007',\n",
              "       'P0050008', 'P0050009', 'P0050010', 'H0010001', 'H0010002', 'H0010003',\n",
              "       'hhsize', 'zipcode'],\n",
              "      dtype='object')"
            ]
          },
          "execution_count": 7,
          "metadata": {},
          "output_type": "execute_result"
        }
      ],
      "source": [
        "census_data.columns"
      ]
    },
    {
      "cell_type": "code",
      "execution_count": 8,
      "metadata": {
        "id": "jGvXhlXB6Y4Y"
      },
      "outputs": [],
      "source": [
        "merged_df = pd.merge(bus_routes_exploded, census_data, left_on='neighborhood', right_on='tract20_nbhd')"
      ]
    },
    {
      "cell_type": "code",
      "execution_count": 9,
      "metadata": {
        "colab": {
          "base_uri": "https://localhost:8080/",
          "height": 255
        },
        "id": "VTOvmCgq9Onn",
        "outputId": "35c45896-796d-47aa-d072-2cae99df7bda"
      },
      "outputs": [
        {
          "data": {
            "text/html": [
              "<div>\n",
              "<style scoped>\n",
              "    .dataframe tbody tr th:only-of-type {\n",
              "        vertical-align: middle;\n",
              "    }\n",
              "\n",
              "    .dataframe tbody tr th {\n",
              "        vertical-align: top;\n",
              "    }\n",
              "\n",
              "    .dataframe thead th {\n",
              "        text-align: right;\n",
              "    }\n",
              "</style>\n",
              "<table border=\"1\" class=\"dataframe\">\n",
              "  <thead>\n",
              "    <tr style=\"text-align: right;\">\n",
              "      <th></th>\n",
              "      <th>route_id</th>\n",
              "      <th>stop_id</th>\n",
              "      <th>neighborhood</th>\n",
              "      <th>tract20_nbhd</th>\n",
              "      <th>P0020001</th>\n",
              "      <th>P0020005</th>\n",
              "      <th>P0020006</th>\n",
              "      <th>P0020002</th>\n",
              "      <th>P002aapi</th>\n",
              "      <th>P002others</th>\n",
              "      <th>...</th>\n",
              "      <th>P0050006</th>\n",
              "      <th>P0050007</th>\n",
              "      <th>P0050008</th>\n",
              "      <th>P0050009</th>\n",
              "      <th>P0050010</th>\n",
              "      <th>H0010001</th>\n",
              "      <th>H0010002</th>\n",
              "      <th>H0010003</th>\n",
              "      <th>hhsize</th>\n",
              "      <th>zipcode</th>\n",
              "    </tr>\n",
              "  </thead>\n",
              "  <tbody>\n",
              "    <tr>\n",
              "      <th>0</th>\n",
              "      <td>01</td>\n",
              "      <td>[2, 59, 62, 64, 79, 93, 187, 188, 10590]</td>\n",
              "      <td>Roxbury</td>\n",
              "      <td>Roxbury</td>\n",
              "      <td>54533</td>\n",
              "      <td>7137</td>\n",
              "      <td>22624</td>\n",
              "      <td>16633</td>\n",
              "      <td>3222</td>\n",
              "      <td>4917</td>\n",
              "      <td>...</td>\n",
              "      <td>41</td>\n",
              "      <td>3553</td>\n",
              "      <td>2520</td>\n",
              "      <td>0</td>\n",
              "      <td>1033</td>\n",
              "      <td>21687</td>\n",
              "      <td>20025</td>\n",
              "      <td>1662</td>\n",
              "      <td>2.499525593</td>\n",
              "      <td>02119</td>\n",
              "    </tr>\n",
              "    <tr>\n",
              "      <th>1</th>\n",
              "      <td>01</td>\n",
              "      <td>[2, 59, 62, 64, 79, 93, 187, 188, 10590]</td>\n",
              "      <td>Roxbury</td>\n",
              "      <td>Roxbury</td>\n",
              "      <td>54533</td>\n",
              "      <td>7137</td>\n",
              "      <td>22624</td>\n",
              "      <td>16633</td>\n",
              "      <td>3222</td>\n",
              "      <td>4917</td>\n",
              "      <td>...</td>\n",
              "      <td>41</td>\n",
              "      <td>3553</td>\n",
              "      <td>2520</td>\n",
              "      <td>0</td>\n",
              "      <td>1033</td>\n",
              "      <td>21687</td>\n",
              "      <td>20025</td>\n",
              "      <td>1662</td>\n",
              "      <td>2.499525593</td>\n",
              "      <td>02119</td>\n",
              "    </tr>\n",
              "    <tr>\n",
              "      <th>2</th>\n",
              "      <td>01</td>\n",
              "      <td>[2, 59, 62, 64, 79, 93, 187, 188, 10590]</td>\n",
              "      <td>Roxbury</td>\n",
              "      <td>Roxbury</td>\n",
              "      <td>54533</td>\n",
              "      <td>7137</td>\n",
              "      <td>22624</td>\n",
              "      <td>16633</td>\n",
              "      <td>3222</td>\n",
              "      <td>4917</td>\n",
              "      <td>...</td>\n",
              "      <td>41</td>\n",
              "      <td>3553</td>\n",
              "      <td>2520</td>\n",
              "      <td>0</td>\n",
              "      <td>1033</td>\n",
              "      <td>21687</td>\n",
              "      <td>20025</td>\n",
              "      <td>1662</td>\n",
              "      <td>2.499525593</td>\n",
              "      <td>02119</td>\n",
              "    </tr>\n",
              "    <tr>\n",
              "      <th>3</th>\n",
              "      <td>01</td>\n",
              "      <td>[2, 59, 62, 64, 79, 93, 187, 188, 10590]</td>\n",
              "      <td>Roxbury</td>\n",
              "      <td>Roxbury</td>\n",
              "      <td>54533</td>\n",
              "      <td>7137</td>\n",
              "      <td>22624</td>\n",
              "      <td>16633</td>\n",
              "      <td>3222</td>\n",
              "      <td>4917</td>\n",
              "      <td>...</td>\n",
              "      <td>41</td>\n",
              "      <td>3553</td>\n",
              "      <td>2520</td>\n",
              "      <td>0</td>\n",
              "      <td>1033</td>\n",
              "      <td>21687</td>\n",
              "      <td>20025</td>\n",
              "      <td>1662</td>\n",
              "      <td>2.499525593</td>\n",
              "      <td>02119</td>\n",
              "    </tr>\n",
              "    <tr>\n",
              "      <th>4</th>\n",
              "      <td>08</td>\n",
              "      <td>[64, 111, 121, 123, 134, 142, 899, 1518, 1563,...</td>\n",
              "      <td>Roxbury</td>\n",
              "      <td>Roxbury</td>\n",
              "      <td>54533</td>\n",
              "      <td>7137</td>\n",
              "      <td>22624</td>\n",
              "      <td>16633</td>\n",
              "      <td>3222</td>\n",
              "      <td>4917</td>\n",
              "      <td>...</td>\n",
              "      <td>41</td>\n",
              "      <td>3553</td>\n",
              "      <td>2520</td>\n",
              "      <td>0</td>\n",
              "      <td>1033</td>\n",
              "      <td>21687</td>\n",
              "      <td>20025</td>\n",
              "      <td>1662</td>\n",
              "      <td>2.499525593</td>\n",
              "      <td>02119</td>\n",
              "    </tr>\n",
              "  </tbody>\n",
              "</table>\n",
              "<p>5 rows × 38 columns</p>\n",
              "</div>"
            ],
            "text/plain": [
              "  route_id                                            stop_id neighborhood  \\\n",
              "0       01           [2, 59, 62, 64, 79, 93, 187, 188, 10590]      Roxbury   \n",
              "1       01           [2, 59, 62, 64, 79, 93, 187, 188, 10590]      Roxbury   \n",
              "2       01           [2, 59, 62, 64, 79, 93, 187, 188, 10590]      Roxbury   \n",
              "3       01           [2, 59, 62, 64, 79, 93, 187, 188, 10590]      Roxbury   \n",
              "4       08  [64, 111, 121, 123, 134, 142, 899, 1518, 1563,...      Roxbury   \n",
              "\n",
              "  tract20_nbhd P0020001 P0020005 P0020006 P0020002 P002aapi P002others  ...  \\\n",
              "0      Roxbury    54533     7137    22624    16633     3222       4917  ...   \n",
              "1      Roxbury    54533     7137    22624    16633     3222       4917  ...   \n",
              "2      Roxbury    54533     7137    22624    16633     3222       4917  ...   \n",
              "3      Roxbury    54533     7137    22624    16633     3222       4917  ...   \n",
              "4      Roxbury    54533     7137    22624    16633     3222       4917  ...   \n",
              "\n",
              "  P0050006 P0050007 P0050008 P0050009 P0050010 H0010001 H0010002 H0010003  \\\n",
              "0       41     3553     2520        0     1033    21687    20025     1662   \n",
              "1       41     3553     2520        0     1033    21687    20025     1662   \n",
              "2       41     3553     2520        0     1033    21687    20025     1662   \n",
              "3       41     3553     2520        0     1033    21687    20025     1662   \n",
              "4       41     3553     2520        0     1033    21687    20025     1662   \n",
              "\n",
              "        hhsize zipcode  \n",
              "0  2.499525593   02119  \n",
              "1  2.499525593   02119  \n",
              "2  2.499525593   02119  \n",
              "3  2.499525593   02119  \n",
              "4  2.499525593   02119  \n",
              "\n",
              "[5 rows x 38 columns]"
            ]
          },
          "execution_count": 9,
          "metadata": {},
          "output_type": "execute_result"
        }
      ],
      "source": [
        "merged_df.head()"
      ]
    },
    {
      "cell_type": "code",
      "execution_count": 11,
      "metadata": {
        "id": "qi0SVZjG9X4b"
      },
      "outputs": [],
      "source": [
        "merged_df['P0020001'] = pd.to_numeric(merged_df['P0020001'], errors='coerce')\n",
        "merged_df['P0020005'] = pd.to_numeric(merged_df['P0020005'], errors='coerce')\n",
        "merged_df['P0020006'] = pd.to_numeric(merged_df['P0020006'], errors='coerce')\n",
        "merged_df['P0020002'] = pd.to_numeric(merged_df['P0020002'], errors='coerce')\n",
        "merged_df['P002aapi'] = pd.to_numeric(merged_df['P002aapi'], errors='coerce')\n",
        "merged_df['P002others'] = pd.to_numeric(merged_df['P002others'], errors='coerce')\n"
      ]
    },
    {
      "cell_type": "code",
      "execution_count": 12,
      "metadata": {},
      "outputs": [
        {
          "data": {
            "text/plain": [
              "Index(['route_id', 'stop_id', 'neighborhood', 'tract20_nbhd', 'P0020001',\n",
              "       'P0020005', 'P0020006', 'P0020002', 'P002aapi', 'P002others',\n",
              "       'P0040001', 'P0040005', 'P0040006', 'P0040002', 'P004aapi',\n",
              "       'P004others', 'P00x0001', 'P00x0005', 'P00x0006', 'P00x0002',\n",
              "       'P00xaapi', 'P00xothers', 'hhpop', 'P0050001', 'P0050002', 'P0050003',\n",
              "       'P0050004', 'P0050005', 'P0050006', 'P0050007', 'P0050008', 'P0050009',\n",
              "       'P0050010', 'H0010001', 'H0010002', 'H0010003', 'hhsize', 'zipcode'],\n",
              "      dtype='object')"
            ]
          },
          "execution_count": 12,
          "metadata": {},
          "output_type": "execute_result"
        }
      ],
      "source": [
        "merged_df.columns"
      ]
    },
    {
      "cell_type": "code",
      "execution_count": 13,
      "metadata": {
        "id": "eFRCQqwBDzLV"
      },
      "outputs": [],
      "source": [
        "# Grouping by 'Route' and summing the numeric values in 'P0020001' column\n",
        "grouped_data = merged_df.groupby('route_id')['P0020001'].sum()"
      ]
    },
    {
      "cell_type": "code",
      "execution_count": 14,
      "metadata": {
        "colab": {
          "base_uri": "https://localhost:8080/"
        },
        "id": "7Qz2n68q-u6B",
        "outputId": "531f7121-019b-4bb5-874e-0b1d7dc47d62"
      },
      "outputs": [
        {
          "data": {
            "text/plain": [
              "route_id\n",
              "01     373116\n",
              "04     153449\n",
              "07     147643\n",
              "08    1222994\n",
              "09     535140\n",
              "Name: P0020001, dtype: int64"
            ]
          },
          "execution_count": 14,
          "metadata": {},
          "output_type": "execute_result"
        }
      ],
      "source": [
        "grouped_data.head()"
      ]
    },
    {
      "cell_type": "code",
      "execution_count": 15,
      "metadata": {
        "id": "LQXUw-YE-x6f"
      },
      "outputs": [],
      "source": [
        "# Get the top 10 routes with maximum population\n",
        "top_routes_max_population = grouped_data.nlargest(10)\n",
        "\n",
        "# Get the top 10 routes with minimum population\n",
        "top_routes_min_population = grouped_data.nsmallest(10)\n"
      ]
    },
    {
      "cell_type": "code",
      "execution_count": 16,
      "metadata": {
        "colab": {
          "base_uri": "https://localhost:8080/",
          "height": 407
        },
        "id": "k9Vzb86DASYe",
        "outputId": "51ae19fa-9bb9-4681-e65b-cf0f2f134c4d"
      },
      "outputs": [
        {
          "data": {
            "image/png": "[encoded data removed]",
            "text/plain": [
              "<Figure size 576x288 with 2 Axes>"
            ]
          },
          "metadata": {
            "needs_background": "light"
          },
          "output_type": "display_data"
        }
      ],
      "source": [
        "fig, axes = plt.subplots(nrows=1, ncols=2, figsize=(8, 4))\n",
        "\n",
        "# Plotting top 10 routes with maximum population\n",
        "axes[0].bar(top_routes_max_population.index, top_routes_max_population.values, color='skyblue')\n",
        "axes[0].set_title('Most Accessible Routes')\n",
        "axes[0].set_xlabel('Bus Route')\n",
        "axes[0].set_ylabel('Total Population')\n",
        "axes[0].tick_params(axis='x', rotation=45)\n",
        "\n",
        "# Plotting top 10 routes with minimum population\n",
        "axes[1].bar(top_routes_min_population.index, top_routes_min_population.values, color='lightgreen')\n",
        "axes[1].set_title('Least Accessible Routes')\n",
        "axes[1].set_xlabel('Bus Route')\n",
        "axes[1].set_ylabel('Total Population')\n",
        "axes[1].tick_params(axis='x', rotation=45)\n",
        "\n",
        "# Adjust layout and display the plots\n",
        "plt.tight_layout()\n",
        "plt.show()"
      ]
    },
    {
      "cell_type": "code",
      "execution_count": 21,
      "metadata": {
        "id": "0cjptnRfDUoY"
      },
      "outputs": [],
      "source": [
        "grouped_data1 = merged_df.groupby('route_id').agg({\n",
        "    'P0020001': 'sum',  # Total population\n",
        "    'P0020005': 'sum',\n",
        "    'P0020006': 'sum',\n",
        "     'P0020002': 'sum',\n",
        "     'P002aapi': 'sum',\n",
        "    'P002others' : 'sum'\n",
        "\n",
        "    # Add other population characteristics you want to analyze\n",
        "})"
      ]
    },
    {
      "cell_type": "code",
      "execution_count": 22,
      "metadata": {
        "id": "EhDTcFb-Dext"
      },
      "outputs": [],
      "source": [
        "new_column_names = {\n",
        "    'P0020001': 'Total Population',\n",
        "    'P0020005': 'White alone',\n",
        "    'P0020006': 'Black or African American alone',\n",
        "    'P0020002': 'Hispanic or Latino',\n",
        "    'P002aapi': 'Asian, Native Hawaiian and Pacific Islander alone, all ages',\n",
        "    'P002others' : 'Other Races'\n",
        "\n",
        "}\n",
        "\n",
        "# Rename the columns using the 'rename()' function\n",
        "grouped_data1.rename(columns=new_column_names, inplace=True)"
      ]
    },
    {
      "cell_type": "code",
      "execution_count": 23,
      "metadata": {
        "colab": {
          "base_uri": "https://localhost:8080/"
        },
        "id": "09bzgq4fFSMw",
        "outputId": "37f5b2d6-c4ef-4099-9489-c78e89c03c60"
      },
      "outputs": [
        {
          "data": {
            "text/plain": [
              "Index(['Total Population', 'White alone', 'Black or African American alone',\n",
              "       'Hispanic or Latino',\n",
              "       'Asian, Native Hawaiian and Pacific Islander alone, all ages',\n",
              "       'Other Races'],\n",
              "      dtype='object')"
            ]
          },
          "execution_count": 23,
          "metadata": {},
          "output_type": "execute_result"
        }
      ],
      "source": [
        "grouped_data1.columns"
      ]
    },
    {
      "cell_type": "code",
      "execution_count": 24,
      "metadata": {
        "colab": {
          "base_uri": "https://localhost:8080/",
          "height": 346
        },
        "id": "UpkHbjy8DfwC",
        "outputId": "65a1b69f-659e-4053-f00c-0f5248afd3af"
      },
      "outputs": [
        {
          "name": "stdout",
          "output_type": "stream",
          "text": [
            "Index(['Total Population', 'White alone', 'Black or African American alone',\n",
            "       'Hispanic or Latino',\n",
            "       'Asian, Native Hawaiian and Pacific Islander alone, all ages',\n",
            "       'Other Races'],\n",
            "      dtype='object')\n"
          ]
        },
        {
          "data": {
            "image/png": "[encoded data removed]",
            "text/plain": [
              "<Figure size 1008x288 with 1 Axes>"
            ]
          },
          "metadata": {
            "needs_background": "light"
          },
          "output_type": "display_data"
        }
      ],
      "source": [
        "# Get the top 10 routes with maximum total population\n",
        "top_routes_max_population = grouped_data1['Total Population'].nlargest(10)\n",
        "\n",
        "# Extract data for the top 10 routes from the grouped data\n",
        "top_routes_data = grouped_data1.loc[top_routes_max_population.index]\n",
        "print(top_routes_data.columns)\n",
        "top_routes_data.drop('Total Population', inplace=True, axis=1)\n",
        "top_routes_data_renamed = top_routes_data\n",
        "# top_routes_data_renamed.rename(columns={'oldName1': 'newName1', 'oldName2': 'newName2'})\n",
        "\n",
        "# Transpose the DataFrame for better plotting (rows become columns)\n",
        "# top_routes_data = top_routes_data.T\n",
        "\n",
        "# Plotting grouped bar chart for top 10 routes' population distribution\n",
        "top_routes_data.plot(kind='bar', figsize=(14,4), colormap='viridis',width=0.8)\n",
        "plt.xlabel('Route Id')\n",
        "plt.ylabel('Population Count')\n",
        "plt.title('Population Distribution for Most Accessible Routes')\n",
        "plt.legend(title='Index', bbox_to_anchor=(1.05, 1), loc='upper left')\n",
        "plt.xticks(rotation=45)\n",
        "plt.tight_layout()\n",
        "plt.show()"
      ]
    },
    {
      "cell_type": "code",
      "execution_count": 25,
      "metadata": {
        "colab": {
          "base_uri": "https://localhost:8080/",
          "height": 427
        },
        "id": "2_zYjlpREYb5",
        "outputId": "b421ac88-61b6-4224-a799-548730f734b6"
      },
      "outputs": [
        {
          "data": {
            "image/png": "[encoded data removed]",
            "text/plain": [
              "<Figure size 1008x288 with 1 Axes>"
            ]
          },
          "metadata": {
            "needs_background": "light"
          },
          "output_type": "display_data"
        }
      ],
      "source": [
        "# Get the top 10 routes with maximum total population\n",
        "top_routes_min_population = grouped_data1['Total Population'].nsmallest(10)\n",
        "\n",
        "# Extract data for the top 10 routes from the grouped data\n",
        "top_routes_data1 = grouped_data1.loc[top_routes_min_population.index]\n",
        "top_routes_data1.drop('Total Population', inplace=True, axis=1)\n",
        "\n",
        "# Transpose the DataFrame for better plotting (rows become columns)\n",
        "# top_routes_data = top_routes_data.T\n",
        "\n",
        "# Plotting grouped bar chart for top 10 routes' population distribution\n",
        "top_routes_data1.plot(kind='bar', figsize=(14,4), colormap='viridis',width=0.8)\n",
        "plt.xlabel('Route Id')\n",
        "plt.ylabel('Population Count')\n",
        "plt.title('Population Distribution for Least Accessible Routes')\n",
        "plt.legend(title='Index', bbox_to_anchor=(1.05, 1), loc='upper left')\n",
        "plt.xticks(rotation=45)\n",
        "plt.tight_layout()\n",
        "plt.show()"
      ]
    },
    {
      "cell_type": "code",
      "execution_count": 26,
      "metadata": {
        "colab": {
          "base_uri": "https://localhost:8080/",
          "height": 509
        },
        "id": "zUk9R_auLweq",
        "outputId": "b300e822-6d74-49ef-bccd-873e9e88338c"
      },
      "outputs": [
        {
          "data": {
            "text/html": [
              "<div>\n",
              "<style scoped>\n",
              "    .dataframe tbody tr th:only-of-type {\n",
              "        vertical-align: middle;\n",
              "    }\n",
              "\n",
              "    .dataframe tbody tr th {\n",
              "        vertical-align: top;\n",
              "    }\n",
              "\n",
              "    .dataframe thead th {\n",
              "        text-align: right;\n",
              "    }\n",
              "</style>\n",
              "<table border=\"1\" class=\"dataframe\">\n",
              "  <thead>\n",
              "    <tr style=\"text-align: right;\">\n",
              "      <th></th>\n",
              "      <th>P0020001</th>\n",
              "      <th>P0020005</th>\n",
              "      <th>P0020006</th>\n",
              "      <th>P0020002</th>\n",
              "      <th>P002aapi</th>\n",
              "      <th>P002others</th>\n",
              "    </tr>\n",
              "    <tr>\n",
              "      <th>route_id</th>\n",
              "      <th></th>\n",
              "      <th></th>\n",
              "      <th></th>\n",
              "      <th></th>\n",
              "      <th></th>\n",
              "      <th></th>\n",
              "    </tr>\n",
              "  </thead>\n",
              "  <tbody>\n",
              "    <tr>\n",
              "      <th>01</th>\n",
              "      <td>373116</td>\n",
              "      <td>117037</td>\n",
              "      <td>102370</td>\n",
              "      <td>82866</td>\n",
              "      <td>43468</td>\n",
              "      <td>27375</td>\n",
              "    </tr>\n",
              "    <tr>\n",
              "      <th>04</th>\n",
              "      <td>153449</td>\n",
              "      <td>101281</td>\n",
              "      <td>6028</td>\n",
              "      <td>10542</td>\n",
              "      <td>29434</td>\n",
              "      <td>6164</td>\n",
              "    </tr>\n",
              "    <tr>\n",
              "      <th>07</th>\n",
              "      <td>147643</td>\n",
              "      <td>106143</td>\n",
              "      <td>5814</td>\n",
              "      <td>12590</td>\n",
              "      <td>17672</td>\n",
              "      <td>5424</td>\n",
              "    </tr>\n",
              "    <tr>\n",
              "      <th>08</th>\n",
              "      <td>1222994</td>\n",
              "      <td>342117</td>\n",
              "      <td>364353</td>\n",
              "      <td>239252</td>\n",
              "      <td>160131</td>\n",
              "      <td>117141</td>\n",
              "    </tr>\n",
              "    <tr>\n",
              "      <th>09</th>\n",
              "      <td>535140</td>\n",
              "      <td>370083</td>\n",
              "      <td>28276</td>\n",
              "      <td>53977</td>\n",
              "      <td>61134</td>\n",
              "      <td>21670</td>\n",
              "    </tr>\n",
              "    <tr>\n",
              "      <th>...</th>\n",
              "      <td>...</td>\n",
              "      <td>...</td>\n",
              "      <td>...</td>\n",
              "      <td>...</td>\n",
              "      <td>...</td>\n",
              "      <td>...</td>\n",
              "    </tr>\n",
              "    <tr>\n",
              "      <th>CT3</th>\n",
              "      <td>466588</td>\n",
              "      <td>127060</td>\n",
              "      <td>146279</td>\n",
              "      <td>116047</td>\n",
              "      <td>41645</td>\n",
              "      <td>35557</td>\n",
              "    </tr>\n",
              "    <tr>\n",
              "      <th>SL1</th>\n",
              "      <td>295687</td>\n",
              "      <td>135195</td>\n",
              "      <td>9842</td>\n",
              "      <td>113613</td>\n",
              "      <td>22088</td>\n",
              "      <td>14949</td>\n",
              "    </tr>\n",
              "    <tr>\n",
              "      <th>SL2</th>\n",
              "      <td>72168</td>\n",
              "      <td>51980</td>\n",
              "      <td>2418</td>\n",
              "      <td>4462</td>\n",
              "      <td>9892</td>\n",
              "      <td>3416</td>\n",
              "    </tr>\n",
              "    <tr>\n",
              "      <th>SL4</th>\n",
              "      <td>235525</td>\n",
              "      <td>85664</td>\n",
              "      <td>56417</td>\n",
              "      <td>47645</td>\n",
              "      <td>30585</td>\n",
              "      <td>15214</td>\n",
              "    </tr>\n",
              "    <tr>\n",
              "      <th>SL5</th>\n",
              "      <td>235525</td>\n",
              "      <td>85664</td>\n",
              "      <td>56417</td>\n",
              "      <td>47645</td>\n",
              "      <td>30585</td>\n",
              "      <td>15214</td>\n",
              "    </tr>\n",
              "  </tbody>\n",
              "</table>\n",
              "<p>94 rows × 6 columns</p>\n",
              "</div>"
            ],
            "text/plain": [
              "          P0020001  P0020005  P0020006  P0020002  P002aapi  P002others\n",
              "route_id                                                              \n",
              "01          373116    117037    102370     82866     43468       27375\n",
              "04          153449    101281      6028     10542     29434        6164\n",
              "07          147643    106143      5814     12590     17672        5424\n",
              "08         1222994    342117    364353    239252    160131      117141\n",
              "09          535140    370083     28276     53977     61134       21670\n",
              "...            ...       ...       ...       ...       ...         ...\n",
              "CT3         466588    127060    146279    116047     41645       35557\n",
              "SL1         295687    135195      9842    113613     22088       14949\n",
              "SL2          72168     51980      2418      4462      9892        3416\n",
              "SL4         235525     85664     56417     47645     30585       15214\n",
              "SL5         235525     85664     56417     47645     30585       15214\n",
              "\n",
              "[94 rows x 6 columns]"
            ]
          },
          "execution_count": 26,
          "metadata": {},
          "output_type": "execute_result"
        }
      ],
      "source": [
        "# Grouping the data by 'Route' and summing up the ethnic columns for each route\n",
        "grouped = merged_df.groupby('route_id').sum()\n",
        "grouped"
      ]
    },
    {
      "cell_type": "code",
      "execution_count": 27,
      "metadata": {
        "id": "5LFEnfjzNJFI"
      },
      "outputs": [],
      "source": [
        "# Calculating the count of unique neighborhoods for each route\n",
        "route_neighborhood_count = merged_df.groupby('route_id')['neighborhood'].nunique()\n",
        "\n",
        "# Extracting top 5 routes with the largest counts of unique neighborhoods\n",
        "top_routes = route_neighborhood_count.nlargest(5).index"
      ]
    },
    {
      "cell_type": "code",
      "execution_count": 38,
      "metadata": {},
      "outputs": [
        {
          "data": {
            "text/plain": [
              "route_id\n",
              "192    9\n",
              "34     7\n",
              "08     6\n",
              "09     6\n",
              "10     6\n",
              "Name: neighborhood, dtype: int64"
            ]
          },
          "execution_count": 38,
          "metadata": {},
          "output_type": "execute_result"
        }
      ],
      "source": [
        "route_neighborhood_count.nlargest(5)"
      ]
    },
    {
      "cell_type": "code",
      "execution_count": 74,
      "metadata": {},
      "outputs": [
        {
          "data": {
            "text/plain": [
              "Index(['192', '34', '08', '09', '10'], dtype='object', name='route_id')"
            ]
          },
          "execution_count": 74,
          "metadata": {},
          "output_type": "execute_result"
        }
      ],
      "source": [
        "top_routes"
      ]
    },
    {
      "cell_type": "code",
      "execution_count": 29,
      "metadata": {
        "id": "qbCMZHjPPm7h"
      },
      "outputs": [],
      "source": [
        "grouped=grouped.drop(columns='P0020001')"
      ]
    },
    {
      "cell_type": "code",
      "execution_count": 58,
      "metadata": {
        "colab": {
          "base_uri": "https://localhost:8080/",
          "height": 807
        },
        "id": "quLKK3P-JCrp",
        "outputId": "0b2476dc-6bf7-4ae0-dae2-294d49783255"
      },
      "outputs": [
        {
          "data": {
            "text/plain": [
              "<Figure size 720x576 with 0 Axes>"
            ]
          },
          "metadata": {},
          "output_type": "display_data"
        },
        {
          "data": {
            "image/png": "[encoded data removed]",
            "text/plain": [
              "<Figure size 432x288 with 1 Axes>"
            ]
          },
          "metadata": {
            "needs_background": "light"
          },
          "output_type": "display_data"
        }
      ],
      "source": [
        "# Selecting ethnic columns for pie chart\n",
        "ethnic_columns = ['P0020005', 'P0020006', 'P0020002', 'P002aapi', 'P002others']\n",
        "ethnic_labels = {\n",
        "    'White alone',\n",
        "    'Black or African American alone',\n",
        "    'Hispanic or Latino',\n",
        "    'Asian, Native Hawaiian and Pacific Islander alone, all ages',\n",
        "    'Other Races'\n",
        "}\n",
        "\n",
        "# Filtering rows based on specific indices\n",
        "filtered_routes = grouped.loc[['192', '34', '08', '09', '10'], ethnic_columns]\n",
        "\n",
        "renaming_dict = dict(zip(ethnic_columns, ethnic_labels))\n",
        "filtered_routes = filtered_routes.rename(columns=renaming_dict)\n",
        "\n",
        "# Plotting stacked bar chart for ethnic distribution of filtered routes\n",
        "plt.figure(figsize=(10, 8))\n",
        "filtered_routes.plot(kind='bar', stacked=True, width=0.5)\n",
        "\n",
        "# Adding legend and labels\n",
        "plt.legend(title='Ethnic Groups')\n",
        "plt.xlabel('Routes')\n",
        "plt.ylabel('Population Count')\n",
        "plt.title('Ethnic Distribution for Specific Routes')\n",
        "plt.xticks(range(len(filtered_routes.index)), filtered_routes.index, rotation=75)\n",
        "plt.tight_layout()\n",
        "plt.show()"
      ]
    },
    {
      "cell_type": "code",
      "execution_count": 81,
      "metadata": {},
      "outputs": [
        {
          "data": {
            "text/html": [
              "<div>\n",
              "<style scoped>\n",
              "    .dataframe tbody tr th:only-of-type {\n",
              "        vertical-align: middle;\n",
              "    }\n",
              "\n",
              "    .dataframe tbody tr th {\n",
              "        vertical-align: top;\n",
              "    }\n",
              "\n",
              "    .dataframe thead th {\n",
              "        text-align: right;\n",
              "    }\n",
              "</style>\n",
              "<table border=\"1\" class=\"dataframe\">\n",
              "  <thead>\n",
              "    <tr style=\"text-align: right;\">\n",
              "      <th></th>\n",
              "      <th>neighborhood</th>\n",
              "      <th>stop_id</th>\n",
              "      <th>route_id</th>\n",
              "    </tr>\n",
              "  </thead>\n",
              "  <tbody>\n",
              "    <tr>\n",
              "      <th>0</th>\n",
              "      <td>Allston</td>\n",
              "      <td>[922, 922, 925, 925, 926, 926, 926, 926, 931, ...</td>\n",
              "      <td>['66', '57', '57', '66', '57', '66', '193', '5...</td>\n",
              "    </tr>\n",
              "    <tr>\n",
              "      <th>1</th>\n",
              "      <td>Back Bay</td>\n",
              "      <td>[93, 175, 175, 175, 176, 178, 178, 178, 178, 1...</td>\n",
              "      <td>['01', '09', '10', '39', '10', '10', '55', '19...</td>\n",
              "    </tr>\n",
              "    <tr>\n",
              "      <th>2</th>\n",
              "      <td>Beacon Hill</td>\n",
              "      <td>[10000, 10000]</td>\n",
              "      <td>['43', '192']</td>\n",
              "    </tr>\n",
              "    <tr>\n",
              "      <th>3</th>\n",
              "      <td>Brighton</td>\n",
              "      <td>[912, 912, 912, 913, 918, 918, 918, 966, 966, ...</td>\n",
              "      <td>['57', '193', '66', '57', '57', '193', '66', '...</td>\n",
              "    </tr>\n",
              "    <tr>\n",
              "      <th>4</th>\n",
              "      <td>Charlestown</td>\n",
              "      <td>[2821, 2835, 2844, 2844, 2850, 2855, 2855, 286...</td>\n",
              "      <td>['92', '92', '194', '93', '93', '194', '93', '...</td>\n",
              "    </tr>\n",
              "  </tbody>\n",
              "</table>\n",
              "</div>"
            ],
            "text/plain": [
              "  neighborhood                                            stop_id  \\\n",
              "0      Allston  [922, 922, 925, 925, 926, 926, 926, 926, 931, ...   \n",
              "1     Back Bay  [93, 175, 175, 175, 176, 178, 178, 178, 178, 1...   \n",
              "2  Beacon Hill                                     [10000, 10000]   \n",
              "3     Brighton  [912, 912, 912, 913, 918, 918, 918, 966, 966, ...   \n",
              "4  Charlestown  [2821, 2835, 2844, 2844, 2850, 2855, 2855, 286...   \n",
              "\n",
              "                                            route_id  \n",
              "0  ['66', '57', '57', '66', '57', '66', '193', '5...  \n",
              "1  ['01', '09', '10', '39', '10', '10', '55', '19...  \n",
              "2                                      ['43', '192']  \n",
              "3  ['57', '193', '66', '57', '57', '193', '66', '...  \n",
              "4  ['92', '92', '194', '93', '93', '194', '93', '...  "
            ]
          },
          "execution_count": 81,
          "metadata": {},
          "output_type": "execute_result"
        }
      ],
      "source": [
        "neighborhood_route_count=pd.read_csv(\"data/neighborhoods_to_routes_new.csv\")\n",
        "neighborhood_route_count.head()"
      ]
    },
    {
      "cell_type": "code",
      "execution_count": 86,
      "metadata": {},
      "outputs": [
        {
          "data": {
            "image/png": "[encoded data removed]",
            "text/plain": [
              "<Figure size 864x576 with 1 Axes>"
            ]
          },
          "metadata": {
            "needs_background": "light"
          },
          "output_type": "display_data"
        }
      ],
      "source": [
        "import pandas as pd\n",
        "import matplotlib.pyplot as plt\n",
        "\n",
        "# Assuming 'neighborhood_data' is your DataFrame\n",
        "\n",
        "# Create a copy of the DataFrame to avoid altering the original data\n",
        "neighborhood_data_copy = neighborhood_route_count.copy()\n",
        "\n",
        "# Count the number of unique route IDs per neighborhood\n",
        "routes_count_per_neighborhood = neighborhood_data_copy.explode('route_id').groupby('neighborhood')['route_id'].nunique()\n",
        "\n",
        "# Plotting the number of routes passing through each neighborhood\n",
        "plt.figure(figsize=(12, 8))\n",
        "routes_count_per_neighborhood.sort_values().plot(kind='barh')\n",
        "plt.xlabel('Number of Routes')\n",
        "plt.ylabel('Neighborhood')\n",
        "plt.title('Number of Routes Passing Through Each Neighborhood')\n",
        "plt.tight_layout()\n",
        "plt.show()\n"
      ]
    },
    {
      "cell_type": "code",
      "execution_count": null,
      "metadata": {},
      "outputs": [],
      "source": []
    }
  ],
  "metadata": {
    "colab": {
      "provenance": []
    },
    "kernelspec": {
      "display_name": "Python 3",
      "name": "python3"
    },
    "language_info": {
      "codemirror_mode": {
        "name": "ipython",
        "version": 3
      },
      "file_extension": ".py",
      "mimetype": "text/x-python",
      "name": "python",
      "nbconvert_exporter": "python",
      "pygments_lexer": "ipython3",
      "version": "3.8.5"
    }
  },
  "nbformat": 4,
  "nbformat_minor": 0
}
