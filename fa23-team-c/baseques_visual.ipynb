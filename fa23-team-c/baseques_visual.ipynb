{
 "cells": [
  {
   "cell_type": "code",
   "execution_count": 42,
   "metadata": {},
   "outputs": [],
   "source": [
    "import pandas as pd"
   ]
  },
  {
   "cell_type": "code",
   "execution_count": 64,
   "metadata": {},
   "outputs": [],
   "source": [
    "routes_to_neighborhoods = pd.read_csv('data/routes_to_neighborhoods_new.csv')\n",
    "travel_times = pd.read_csv('data/travel_times.csv')"
   ]
  },
  {
   "cell_type": "code",
   "execution_count": 65,
   "metadata": {},
   "outputs": [],
   "source": [
    "travel_times['route_id'] = travel_times['route_id'].apply(lambda x: '746' if str(x).startswith('746_') else x)\n",
    "route_ids = routes_to_neighborhoods['route_id']\n",
    "filtered_travel_times = travel_times[travel_times['route_id'].isin(route_ids)]"
   ]
  },
  {
   "cell_type": "code",
   "execution_count": 66,
   "metadata": {},
   "outputs": [
    {
     "name": "stdout",
     "output_type": "stream",
     "text": [
      "       route_id scheduled_travel_time travel_time\n",
      "0            26              00:10:00    00:10:06\n",
      "1            21              00:14:00    00:13:53\n",
      "2            42              00:11:00    00:10:30\n",
      "3            24              00:21:00    00:19:33\n",
      "4            24              00:24:00    00:22:29\n",
      "...         ...                   ...         ...\n",
      "333298       86              00:53:00    00:51:39\n",
      "333299       86              01:00:00    00:51:53\n",
      "333300       86              00:34:00    00:33:24\n",
      "333301       86              00:48:00    00:45:01\n",
      "333302       86              00:48:00    00:49:08\n",
      "\n",
      "[242839 rows x 3 columns]\n"
     ]
    }
   ],
   "source": [
    "print(filtered_travel_times[['route_id', 'scheduled_travel_time', 'travel_time']])"
   ]
  },
  {
   "cell_type": "code",
   "execution_count": 67,
   "metadata": {},
   "outputs": [
    {
     "name": "stderr",
     "output_type": "stream",
     "text": [
      "C:\\Users\\munir\\AppData\\Local\\Temp\\ipykernel_4672\\3850961901.py:1: SettingWithCopyWarning: \n",
      "A value is trying to be set on a copy of a slice from a DataFrame.\n",
      "Try using .loc[row_indexer,col_indexer] = value instead\n",
      "\n",
      "See the caveats in the documentation: https://pandas.pydata.org/pandas-docs/stable/user_guide/indexing.html#returning-a-view-versus-a-copy\n",
      "  filtered_travel_times['scheduled_travel_time'] = pd.to_datetime(filtered_travel_times['scheduled_travel_time'], format='mixed')\n"
     ]
    },
    {
     "name": "stdout",
     "output_type": "stream",
     "text": [
      "['746', 'CT2', '92', '121', '426']\n",
      "['428', '14', '86', '505', '171']\n"
     ]
    },
    {
     "name": "stderr",
     "output_type": "stream",
     "text": [
      "C:\\Users\\munir\\AppData\\Local\\Temp\\ipykernel_4672\\3850961901.py:2: SettingWithCopyWarning: \n",
      "A value is trying to be set on a copy of a slice from a DataFrame.\n",
      "Try using .loc[row_indexer,col_indexer] = value instead\n",
      "\n",
      "See the caveats in the documentation: https://pandas.pydata.org/pandas-docs/stable/user_guide/indexing.html#returning-a-view-versus-a-copy\n",
      "  filtered_travel_times['travel_time'] = pd.to_datetime(filtered_travel_times['travel_time'], format='mixed')\n",
      "C:\\Users\\munir\\AppData\\Local\\Temp\\ipykernel_4672\\3850961901.py:3: SettingWithCopyWarning: \n",
      "A value is trying to be set on a copy of a slice from a DataFrame.\n",
      "Try using .loc[row_indexer,col_indexer] = value instead\n",
      "\n",
      "See the caveats in the documentation: https://pandas.pydata.org/pandas-docs/stable/user_guide/indexing.html#returning-a-view-versus-a-copy\n",
      "  filtered_travel_times['lateness'] = (filtered_travel_times['travel_time'] - filtered_travel_times['scheduled_travel_time']).dt.total_seconds() / 60\n"
     ]
    }
   ],
   "source": [
    "filtered_travel_times['scheduled_travel_time'] = pd.to_datetime(filtered_travel_times['scheduled_travel_time'], format='mixed')\n",
    "filtered_travel_times['travel_time'] = pd.to_datetime(filtered_travel_times['travel_time'], format='mixed')\n",
    "filtered_travel_times['lateness'] = (filtered_travel_times['travel_time'] - filtered_travel_times['scheduled_travel_time']).dt.total_seconds() / 60\n",
    "average_lateness_by_route = filtered_travel_times.groupby('route_id')['lateness'].mean()\n",
    "sorted_routes = average_lateness_by_route.sort_values(ascending=True)\n",
    "five_least_late = sorted_routes.head(5)\n",
    "five_most_late = sorted_routes.tail(5).sort_values(ascending=False)\n",
    "most_late_route_ids = five_most_late.index.get_level_values('route_id').tolist()\n",
    "least_late_route_ids = five_least_late.index.get_level_values('route_id').tolist()\n",
    "\n",
    "print(most_late_route_ids)\n",
    "print(least_late_route_ids)"
   ]
  },
  {
   "cell_type": "code",
   "execution_count": 74,
   "metadata": {},
   "outputs": [
    {
     "name": "stdout",
     "output_type": "stream",
     "text": [
      "{'Downtown', 'South Boston Waterfront', 'Longwood', 'Mission Hill', 'Roxbury', 'East Boston', 'Charlestown', 'Fenway'}\n",
      "{'Hyde Park', 'Downtown', 'Roslindale', 'Dorchester', 'Mission Hill', 'Roxbury', 'Charlestown', 'Brighton', 'Jamaica Plain', 'East Boston', 'Allston', 'South Boston'}\n",
      "{'Downtown', 'Mission Hill', 'Roxbury', 'East Boston', 'Charlestown'}\n"
     ]
    }
   ],
   "source": [
    "import ast\n",
    "\n",
    "neighborhoods_most_late = routes_to_neighborhoods[routes_to_neighborhoods['route_id'].astype(str).isin(most_late_route_ids)]['neighborhood']\n",
    "neighborhoods_least_late = routes_to_neighborhoods[routes_to_neighborhoods['route_id'].astype(str).isin(least_late_route_ids)]['neighborhood']\n",
    "\n",
    "neighborhoods_most_late_list = [ast.literal_eval(neigh_str) for neigh_str in neighborhoods_most_late]\n",
    "neighborhoods_most_late_list = set([neighborhood for sublist in neighborhoods_most_late_list for neighborhood in sublist])\n",
    "neighborhoods_least_late_list = [ast.literal_eval(neigh_str) for neigh_str in neighborhoods_least_late]\n",
    "neighborhoods_least_late_list = set([neighborhood for sublist in neighborhoods_least_late_list for neighborhood in sublist])\n",
    "\n",
    "print(neighborhoods_most_late_list)\n",
    "print(neighborhoods_least_late_list)\n",
    "print(neighborhoods_least_late_list.intersection(neighborhoods_most_late_list))"
   ]
  }
 ],
 "metadata": {
  "kernelspec": {
   "display_name": "Python 3",
   "language": "python",
   "name": "python3"
  },
  "language_info": {
   "codemirror_mode": {
    "name": "ipython",
    "version": 3
   },
   "file_extension": ".py",
   "mimetype": "text/x-python",
   "name": "python",
   "nbconvert_exporter": "python",
   "pygments_lexer": "ipython3",
   "version": "3.10.7"
  }
 },
 "nbformat": 4,
 "nbformat_minor": 2
}
