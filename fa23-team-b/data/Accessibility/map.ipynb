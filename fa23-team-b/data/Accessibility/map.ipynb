{
 "cells": [
  {
   "cell_type": "code",
   "execution_count": 1,
   "metadata": {},
   "outputs": [],
   "source": [
    "import folium\n",
    "from folium.plugins import MarkerCluster\n",
    "import json"
   ]
  },
  {
   "cell_type": "code",
   "execution_count": 3,
   "metadata": {},
   "outputs": [],
   "source": [
    "import folium\n",
    "from folium.plugins import MarkerCluster\n",
    "import json\n",
    "\n",
    "# Load JSON data\n",
    "with open('stops.json', 'r') as f:\n",
    "    stops_data = json.load(f)\n",
    "\n",
    "# Create a base map\n",
    "m = folium.Map(location=[42.3601, -71.0589], zoom_start=12)\n",
    "\n",
    "# Create a Marker Cluster\n",
    "marker_cluster = MarkerCluster().add_to(m)\n",
    "\n",
    "# Loop through the data and add each stop to the marker cluster\n",
    "for stop_name, info in stops_data.items():\n",
    "    location = [info['latitude'], info['longitude']]\n",
    "    wheelchair_count = info['wheelchair']\n",
    "    bus_ids = ', '.join(info['bus_ids'])  # Join bus IDs into a string\n",
    "    popup_text = f\"{stop_name}<br>Wheelchairs: {wheelchair_count}<br>Bus IDs: {bus_ids}\"\n",
    "    \n",
    "    folium.Marker(\n",
    "        location=location,\n",
    "        popup=popup_text,\n",
    "        icon=folium.Icon(color='blue', icon='info-sign')\n",
    "    ).add_to(marker_cluster)\n",
    "\n",
    "# Save the map to an HTML file\n",
    "m.save('bus_stops_wheelchair_map.html')\n"
   ]
  }
 ],
 "metadata": {
  "kernelspec": {
   "display_name": "Python 3",
   "language": "python",
   "name": "python3"
  },
  "language_info": {
   "codemirror_mode": {
    "name": "ipython",
    "version": 3
   },
   "file_extension": ".py",
   "mimetype": "text/x-python",
   "name": "python",
   "nbconvert_exporter": "python",
   "pygments_lexer": "ipython3",
   "version": "3.11.1"
  }
 },
 "nbformat": 4,
 "nbformat_minor": 2
}
