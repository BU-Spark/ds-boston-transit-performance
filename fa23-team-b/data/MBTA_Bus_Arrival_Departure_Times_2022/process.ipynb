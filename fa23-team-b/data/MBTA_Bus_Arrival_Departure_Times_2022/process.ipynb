{
 "cells": [
  {
   "cell_type": "code",
   "execution_count": 11,
   "metadata": {},
   "outputs": [],
   "source": [
    "import pandas as pd\n",
    "\n",
    "# Path to your CSV file\n",
    "file_path = 'MBTA-Bus-Arrival-Departure-Times_2022-01.csv'\n",
    "\n",
    "\n",
    "df = pd.read_csv(file_path)\n",
    "columns_to_keep = ['service_date', 'route_id', 'direction_id', 'half_trip_id', 'point_type', 'actual']\n",
    "df = df[columns_to_keep]\n",
    "df = df[df['point_type'].isin(['startpoint', 'endpoint'])]\n",
    "\n"
   ]
  },
  {
   "cell_type": "code",
   "execution_count": 5,
   "metadata": {},
   "outputs": [
    {
     "name": "stdout",
     "output_type": "stream",
     "text": [
      "  service_date route_id direction_id  half_trip_id  time_point_order    actual\n",
      "0   2022-01-01       01      Inbound    54137355.0                 1  06:24:56\n",
      "1   2022-01-01       01      Inbound    54137355.0                 2  06:27:46\n",
      "2   2022-01-01       01      Inbound    54137355.0                 3  06:32:16\n",
      "3   2022-01-01       01      Inbound    54137355.0                 4  06:35:03\n",
      "4   2022-01-01       01      Inbound    54137355.0                 5  06:38:10\n",
      "5   2022-01-01       01      Inbound    54137355.0                 6  06:42:40\n",
      "6   2022-01-01       01      Inbound    54137355.0                 7  06:45:39\n",
      "7   2022-01-01       01      Inbound    54137203.0                 1  06:25:53\n",
      "8   2022-01-01       01      Inbound    54137203.0                 2  06:27:52\n",
      "9   2022-01-01       01      Inbound    54137355.0                 8  06:49:47\n"
     ]
    }
   ],
   "source": [
    "df['actual'] = pd.to_datetime(df['actual'])\n",
    "df['actual'] = df['actual'].dt.time\n",
    "print(df.head(10))"
   ]
  },
  {
   "cell_type": "code",
   "execution_count": 9,
   "metadata": {},
   "outputs": [
    {
     "name": "stdout",
     "output_type": "stream",
     "text": [
      "   service_date route_id direction_id  half_trip_id  time_point_order  \\\n",
      "7    2022-01-01       01      Inbound    54137203.0                 1   \n",
      "8    2022-01-01       01      Inbound    54137203.0                 2   \n",
      "11   2022-01-01       01      Inbound    54137203.0                 3   \n",
      "12   2022-01-01       01      Inbound    54137203.0                 4   \n",
      "13   2022-01-01       01      Inbound    54137203.0                 5   \n",
      "15   2022-01-01       01      Inbound    54137203.0                 6   \n",
      "17   2022-01-01       01      Inbound    54137203.0                 7   \n",
      "19   2022-01-01       01      Inbound    54137203.0                 8   \n",
      "20   2022-01-01       01      Inbound    54137203.0                 9   \n",
      "41   2022-01-01       01      Inbound    54137205.0                 1   \n",
      "43   2022-01-01       01      Inbound    54137205.0                 2   \n",
      "45   2022-01-01       01      Inbound    54137205.0                 3   \n",
      "48   2022-01-01       01      Inbound    54137205.0                 4   \n",
      "49   2022-01-01       01      Inbound    54137205.0                 5   \n",
      "51   2022-01-01       01      Inbound    54137205.0                 6   \n",
      "\n",
      "      actual  \n",
      "7   06:25:53  \n",
      "8   06:27:52  \n",
      "11  06:31:11  \n",
      "12  06:33:49  \n",
      "13  06:38:04  \n",
      "15  06:41:22  \n",
      "17  06:44:14  \n",
      "19  06:49:51  \n",
      "20  06:50:47  \n",
      "41  07:26:08  \n",
      "43  07:28:35  \n",
      "45  07:30:53  \n",
      "48  07:33:48  \n",
      "49  07:36:37  \n",
      "51  07:40:01  \n"
     ]
    }
   ],
   "source": [
    "df_sorted = df.sort_values(by=['service_date','route_id', 'direction_id', 'half_trip_id'])\n",
    "print(df_sorted.head(15))"
   ]
  },
  {
   "cell_type": "code",
   "execution_count": 10,
   "metadata": {},
   "outputs": [
    {
     "name": "stdout",
     "output_type": "stream",
     "text": [
      "151\n"
     ]
    }
   ],
   "source": [
    "num_unique_routes = df['route_id'].nunique()\n",
    "print(num_unique_routes)"
   ]
  }
 ],
 "metadata": {
  "kernelspec": {
   "display_name": "Python 3",
   "language": "python",
   "name": "python3"
  },
  "language_info": {
   "codemirror_mode": {
    "name": "ipython",
    "version": 3
   },
   "file_extension": ".py",
   "mimetype": "text/x-python",
   "name": "python",
   "nbconvert_exporter": "python",
   "pygments_lexer": "ipython3",
   "version": "3.11.1"
  }
 },
 "nbformat": 4,
 "nbformat_minor": 2
}
