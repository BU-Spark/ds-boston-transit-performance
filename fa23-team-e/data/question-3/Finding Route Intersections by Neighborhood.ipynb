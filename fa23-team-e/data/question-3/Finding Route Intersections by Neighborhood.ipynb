{
 "cells": [
  {
   "cell_type": "code",
   "execution_count": 18,
   "id": "96c8dac4",
   "metadata": {},
   "outputs": [],
   "source": [
    "import math\n",
    "import numpy as np\n",
    "import pandas as pd\n",
    "import geopandas as gpd\n",
    "import folium\n",
    "import matplotlib.pyplot as plt\n",
    "\n",
    "from shapely.geometry import LineString\n",
    "from pyproj import Transformer"
   ]
  },
  {
   "cell_type": "code",
   "execution_count": 15,
   "id": "48bedf0a",
   "metadata": {
    "scrolled": false
   },
   "outputs": [
    {
     "data": {
      "text/plain": [
       "(     OBJECTID shape_id route_id route_shor  \\\n",
       " 0       66654   010111        1          1   \n",
       " 1       66655   010118        1          1   \n",
       " 2       66656   040070        4          4   \n",
       " 3       66657   040071        4          4   \n",
       " 4       66658   040072        4          4   \n",
       " ..        ...      ...      ...        ...   \n",
       " 674     67379   970075       97         97   \n",
       " 675     67413   990123       99         99   \n",
       " 676     67414   990124       99         99   \n",
       " 677     67415   990125       99         99   \n",
       " 678     67416   990126       99         99   \n",
       " \n",
       "                                      route_long    route_desc route_type  \\\n",
       " 0               Harvard Square - Nubian Station       Key Bus          3   \n",
       " 1               Harvard Square - Nubian Station       Key Bus          3   \n",
       " 2                   North Station - Tide Street  Commuter Bus          3   \n",
       " 3                   North Station - Tide Street  Commuter Bus          3   \n",
       " 4                   North Station - Tide Street  Commuter Bus          3   \n",
       " ..                                          ...           ...        ...   \n",
       " 674  Malden Center Station - Wellington Station     Local Bus          3   \n",
       " 675          Woodland Road - Wellington Station     Local Bus          3   \n",
       " 676          Woodland Road - Wellington Station     Local Bus          3   \n",
       " 677          Woodland Road - Wellington Station     Local Bus          3   \n",
       " 678          Woodland Road - Wellington Station     Local Bus          3   \n",
       " \n",
       "                              route_url route_colo route_fare  line_id  \\\n",
       " 0     https://www.mbta.com/schedules/1     FFC72C  Local Bus   line-1   \n",
       " 1     https://www.mbta.com/schedules/1     FFC72C  Local Bus   line-1   \n",
       " 2     https://www.mbta.com/schedules/4     FFC72C  Local Bus   line-4   \n",
       " 3     https://www.mbta.com/schedules/4     FFC72C  Local Bus   line-4   \n",
       " 4     https://www.mbta.com/schedules/4     FFC72C  Local Bus   line-4   \n",
       " ..                                 ...        ...        ...      ...   \n",
       " 674  https://www.mbta.com/schedules/97     FFC72C  Local Bus  line-97   \n",
       " 675  https://www.mbta.com/schedules/99     FFC72C  Local Bus  line-99   \n",
       " 676  https://www.mbta.com/schedules/99     FFC72C  Local Bus  line-99   \n",
       " 677  https://www.mbta.com/schedules/99     FFC72C  Local Bus  line-99   \n",
       " 678  https://www.mbta.com/schedules/99     FFC72C  Local Bus  line-99   \n",
       " \n",
       "     listed_rou route_ty_1 created_us  created_da last_edite  last_edi_1  \\\n",
       " 0          NaN        Bus  DOT_ADMIN  2023-05-30  DOT_ADMIN  2023-05-30   \n",
       " 1          NaN        Bus  DOT_ADMIN  2023-05-30  DOT_ADMIN  2023-05-30   \n",
       " 2          NaN        Bus  DOT_ADMIN  2023-05-30  DOT_ADMIN  2023-05-30   \n",
       " 3          NaN        Bus  DOT_ADMIN  2023-05-30  DOT_ADMIN  2023-05-30   \n",
       " 4          NaN        Bus  DOT_ADMIN  2023-05-30  DOT_ADMIN  2023-05-30   \n",
       " ..         ...        ...        ...         ...        ...         ...   \n",
       " 674        NaN        Bus  DOT_ADMIN  2023-05-30  DOT_ADMIN  2023-05-30   \n",
       " 675        NaN        Bus  DOT_ADMIN  2023-05-30  DOT_ADMIN  2023-05-30   \n",
       " 676        NaN        Bus  DOT_ADMIN  2023-05-30  DOT_ADMIN  2023-05-30   \n",
       " 677        NaN        Bus  DOT_ADMIN  2023-05-30  DOT_ADMIN  2023-05-30   \n",
       " 678        NaN        Bus  DOT_ADMIN  2023-05-30  DOT_ADMIN  2023-05-30   \n",
       " \n",
       "        ShapeSTLen                                           geometry  \n",
       " 0     7164.930370  LINESTRING (-71.08388 42.32986, -71.08327 42.3...  \n",
       " 1     7403.376167  LINESTRING (-71.11817 42.37319, -71.11846 42.3...  \n",
       " 2     5186.243369  LINESTRING (-71.06004 42.36609, -71.06022 42.3...  \n",
       " 3     4314.240826  LINESTRING (-71.03906 42.34435, -71.04034 42.3...  \n",
       " 4     5031.592156  LINESTRING (-71.06227 42.36470, -71.06241 42.3...  \n",
       " ..            ...                                                ...  \n",
       " 674   7827.064844  LINESTRING (-71.07609 42.40263, -71.07585 42.4...  \n",
       " 675  11637.790823  LINESTRING (-71.08969 42.45173, -71.08969 42.4...  \n",
       " 676  11245.133353  LINESTRING (-71.07609 42.40263, -71.07585 42.4...  \n",
       " 677  13410.409335  LINESTRING (-71.08969 42.45173, -71.08969 42.4...  \n",
       " 678  12552.812645  LINESTRING (-71.07609 42.40263, -71.07585 42.4...  \n",
       " \n",
       " [679 rows x 19 columns],\n",
       "     OBJECTID               BlockGr202     Shape_Leng    Shape_Area  \\\n",
       " 0          1                  Allston   35808.619278  4.154760e+07   \n",
       " 1          2                 Back Bay   18815.103609  1.538724e+07   \n",
       " 2          3              Beacon Hill   11668.951169  7.891524e+06   \n",
       " 3          4                 Brighton   47051.804654  7.658156e+07   \n",
       " 4          5              Charlestown   33910.754786  5.127021e+07   \n",
       " 5          6                Chinatown   10843.828683  3.436019e+06   \n",
       " 6          7               Dorchester   80692.139164  2.193038e+08   \n",
       " 7          8                 Downtown   32767.370822  2.159010e+07   \n",
       " 8          9              East Boston   79266.383121  1.948618e+08   \n",
       " 9         10                   Fenway  101396.628071  4.281357e+07   \n",
       " 10        11           Harbor Islands  113958.523276  9.323786e+07   \n",
       " 11        12                Hyde Park   67564.952412  1.392618e+08   \n",
       " 12        13            Jamaica Plain   84247.669196  1.133604e+08   \n",
       " 13        14                 Longwood   10323.502097  6.850800e+06   \n",
       " 14        15                 Mattapan   42492.887324  5.841597e+07   \n",
       " 15        16             Mission Hill   18371.907652  1.503162e+07   \n",
       " 16        17                North End   12442.564411  8.469988e+06   \n",
       " 17        18               Roslindale   50479.988849  6.708703e+07   \n",
       " 18        19                  Roxbury   52634.679821  9.651296e+07   \n",
       " 19        20             South Boston   51182.523447  6.880844e+07   \n",
       " 20        21  South Boston Waterfront   39588.254634  4.765240e+07   \n",
       " 21        22                South End   21548.515177  2.240995e+07   \n",
       " 22        23                 West End   13523.427266  8.374876e+06   \n",
       " 23        24             West Roxbury   66869.375339  1.456876e+08   \n",
       " \n",
       "                                              geometry  \n",
       " 0   POLYGON ((758525.831 2959265.091, 758671.805 2...  \n",
       " 1   POLYGON ((771539.219 2954877.239, 771575.861 2...  \n",
       " 2   POLYGON ((774297.440 2956963.715, 774312.270 2...  \n",
       " 3   POLYGON ((754177.850 2955969.986, 754151.917 2...  \n",
       " 4   POLYGON ((773132.501 2968902.714, 773021.919 2...  \n",
       " 5   POLYGON ((775639.044 2953734.864, 775595.372 2...  \n",
       " 6   POLYGON ((775867.212 2944875.352, 775903.995 2...  \n",
       " 7   MULTIPOLYGON (((773867.690 2953737.779, 773824...  \n",
       " 8   POLYGON ((790588.304 2971526.017, 790707.690 2...  \n",
       " 9   POLYGON ((756955.208 2961112.383, 757042.651 2...  \n",
       " 10  MULTIPOLYGON (((798813.776 2954456.614, 799651...  \n",
       " 11  POLYGON ((754259.235 2924349.611, 754523.323 2...  \n",
       " 12  POLYGON ((765919.691 2949442.426, 765781.513 2...  \n",
       " 13  POLYGON ((764137.652 2947905.244, 764063.611 2...  \n",
       " 14  POLYGON ((764249.497 2932048.915, 764438.709 2...  \n",
       " 15  POLYGON ((766278.100 2946912.462, 766190.932 2...  \n",
       " 16  POLYGON ((778689.191 2958216.224, 778757.507 2...  \n",
       " 17  POLYGON ((759173.686 2930971.062, 759151.242 2...  \n",
       " 18  POLYGON ((771715.190 2946675.217, 771852.023 2...  \n",
       " 19  POLYGON ((775862.468 2950686.122, 775867.357 2...  \n",
       " 20  POLYGON ((787979.849 2950275.168, 788581.254 2...  \n",
       " 21  POLYGON ((772321.820 2953248.893, 772429.733 2...  \n",
       " 22  POLYGON ((773661.744 2959777.142, 773689.313 2...  \n",
       " 23  POLYGON ((750269.263 2932585.691, 750278.769 2...  )"
      ]
     },
     "execution_count": 15,
     "metadata": {},
     "output_type": "execute_result"
    }
   ],
   "source": [
    "data_dir = '../'\n",
    "routes_gdf = gpd.read_file(data_dir + 'MBTA_Systemwide_GTFS_Map/MBTA_Systemwide_GTFS_Map.shp')\n",
    "neighborhoods_gdf = gpd.read_file(data_dir + '/Census2020_BG_Neighborhoods/Census2020_BG_Neighborhoods.shp')\n",
    "routes_gdf, neighborhoods_gdf"
   ]
  },
  {
   "cell_type": "code",
   "execution_count": 9,
   "id": "ce06264f",
   "metadata": {},
   "outputs": [],
   "source": [
    "routes_by_neighborhood = pd.DataFrame()"
   ]
  },
  {
   "cell_type": "code",
   "execution_count": 16,
   "id": "cc77bd5d",
   "metadata": {},
   "outputs": [],
   "source": [
    "neighborhoods_gdf['BlockGr202'].unique()\n"
   ]
  },
  {
   "cell_type": "code",
   "execution_count": 45,
   "id": "1cd6aa0b",
   "metadata": {},
   "outputs": [],
   "source": [
    "# transformer = Transformer.from_crs(routes_gdf.crs, neighborhoods_gdf.crs)\n",
    "# new_route = transformer.transform(first_route)\n",
    "\n",
    "routes_gdf = routes_gdf.to_crs(neighborhoods_gdf.crs)\n",
    "first_route = routes_gdf.iloc[0]\n",
    "\n",
    "df = pd.DataFrame(columns=['route_id', 'neighborhood'])\n",
    "\n",
    "# Loop through each geometry in route_gdf\n",
    "for idx, route in routes_gdf.iterrows():\n",
    "    # Check if the route intersects with any geometry in neighborhood_gdf\n",
    "    intersection = neighborhoods_gdf.geometry.intersects(route.geometry)\n",
    "    # If there is an intersection, add the 'route_id' and 'neighbor' to the DataFrame\n",
    "    if intersection.any():\n",
    "        intersecting_neighbors = neighborhoods_gdf[intersection]\n",
    "        for _, neighbor in intersecting_neighbors.iterrows():\n",
    "            new_df = pd.DataFrame([[route.route_id, neighbor.BlockGr202]],\n",
    "                   columns=['route_id', 'neighborhood'])\n",
    "            df = pd.concat([new_df, df], ignore_index=True)"
   ]
  },
  {
   "cell_type": "code",
   "execution_count": 53,
   "id": "d3d09b1d",
   "metadata": {},
   "outputs": [
    {
     "data": {
      "text/plain": [
       "96"
      ]
     },
     "execution_count": 53,
     "metadata": {},
     "output_type": "execute_result"
    }
   ],
   "source": []
  },
  {
   "cell_type": "code",
   "execution_count": 55,
   "id": "72983981",
   "metadata": {},
   "outputs": [],
   "source": [
    "test_df = df.drop_duplicates()"
   ]
  },
  {
   "cell_type": "code",
   "execution_count": 60,
   "id": "663d4ba2",
   "metadata": {},
   "outputs": [],
   "source": [
    "test_df.to_csv(data_dir + 'routes_and_neighborhoods.csv', index=False)"
   ]
  },
  {
   "cell_type": "code",
   "execution_count": null,
   "id": "f125b061",
   "metadata": {},
   "outputs": [],
   "source": []
  }
 ],
 "metadata": {
  "kernelspec": {
   "display_name": "Python 3 (ipykernel)",
   "language": "python",
   "name": "python3"
  },
  "language_info": {
   "codemirror_mode": {
    "name": "ipython",
    "version": 3
   },
   "file_extension": ".py",
   "mimetype": "text/x-python",
   "name": "python",
   "nbconvert_exporter": "python",
   "pygments_lexer": "ipython3",
   "version": "3.8.18"
  }
 },
 "nbformat": 4,
 "nbformat_minor": 5
}
