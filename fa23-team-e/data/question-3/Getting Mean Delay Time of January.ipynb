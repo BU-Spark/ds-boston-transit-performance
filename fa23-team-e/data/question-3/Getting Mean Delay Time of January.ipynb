{
 "cells": [
  {
   "cell_type": "code",
   "execution_count": 15,
   "id": "daa8b8f6",
   "metadata": {},
   "outputs": [],
   "source": [
    "import os\n",
    "import pandas as pd\n",
    "\n",
    "combined_data = pd.DataFrame()\n",
    "\n",
    "folder_path = '../question-2/processed/avg/'\n",
    "\n",
    "for filename in os.listdir(folder_path):\n",
    "    if filename.endswith('.csv'):\n",
    "        file_path = os.path.join(folder_path, filename)\n",
    "        # Read the CSV file into a DataFrame\n",
    "        df = pd.read_csv(file_path)\n",
    "        # Append the DataFrame to the combined_data\n",
    "        combined_data = pd.concat([combined_data, df], ignore_index=True)\n",
    "# Step 4: Group by 'route_id' and calculate the mean delay time\n",
    "mean_delay_per_route = combined_data.groupby('route_id')['delay_time'].mean().reset_index()\n",
    "# Step 5: Save the final DataFrame to a new CSV file\n",
    "output_file_path = '../question-3/mean_delay_time.csv'  # Replace with the desired output file path\n",
    "mean_delay_per_route.to_csv(output_file_path, index=False)"
   ]
  }
 ],
 "metadata": {
  "kernelspec": {
   "display_name": "Python 3 (ipykernel)",
   "language": "python",
   "name": "python3"
  },
  "language_info": {
   "codemirror_mode": {
    "name": "ipython",
    "version": 3
   },
   "file_extension": ".py",
   "mimetype": "text/x-python",
   "name": "python",
   "nbconvert_exporter": "python",
   "pygments_lexer": "ipython3",
   "version": "3.8.18"
  }
 },
 "nbformat": 4,
 "nbformat_minor": 5
}
