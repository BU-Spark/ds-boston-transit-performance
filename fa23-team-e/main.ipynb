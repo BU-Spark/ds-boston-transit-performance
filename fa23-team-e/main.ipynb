{
 "cells": [
  {
   "cell_type": "code",
   "execution_count": 17,
   "id": "917a2405-7dbc-4b10-b9a5-ffbcfa8a3993",
   "metadata": {},
   "outputs": [],
   "source": [
    "import pandas as pd\n",
    "import numpy as np\n",
    "import matplotlib.pyplot as plt\n",
    "import folium\n",
    "from collections import Counter\n",
    "import re"
   ]
  },
  {
   "cell_type": "markdown",
   "id": "9af945fc-2112-4601-b078-db8844d11399",
   "metadata": {},
   "source": [
    "## EDA"
   ]
  },
  {
   "cell_type": "code",
   "execution_count": null,
   "id": "79463e18-93d6-4648-996f-e1c4a9e857df",
   "metadata": {},
   "outputs": [],
   "source": []
  },
  {
   "cell_type": "code",
   "execution_count": null,
   "id": "362dfd84-1984-46bd-8d0b-18a71a36c564",
   "metadata": {},
   "outputs": [],
   "source": []
  },
  {
   "cell_type": "markdown",
   "id": "878fdcab-a174-4f6f-80e9-0f0ca537aa00",
   "metadata": {},
   "source": [
    "## Base Question 1: What are the end-to-end travel times for different bus routes?"
   ]
  },
  {
   "cell_type": "markdown",
   "id": "d5e10735-dc9a-4769-bcf4-87171d9c5513",
   "metadata": {},
   "source": [
    "To address the research question, our team initiated a preliminary investigation to identify suitable datasets related to MBTA Bus Routes and travel times. Subsequent research led us to discover a dataset containing bus arrival and departure events. We proceeded to download and meticulously analyze this dataset, determining that it contained sufficient data to effectively address the initial and secondary research inquiries.\n",
    "\n",
    "Since we knew the timeframe focus of this project was January 1, 2022 - January 31, 2022 (mentioned in the overview document), we specifically downloaded the [MBTA Bus Arrival Departure Times 2022](https://mbta-massdot.opendata.arcgis.com/datasets/mbta-bus-arrival-departure-times-2022/about)."
   ]
  },
  {
   "cell_type": "code",
   "execution_count": 6,
   "id": "9c0666f6-8431-4911-8196-bf03b6f099fc",
   "metadata": {},
   "outputs": [],
   "source": [
    "q1_file_path = \"./data/question-1/raw/1.csv\" # 1 denoting January 2022\n",
    "df = pd.read_csv(q1_file_path)"
   ]
  },
  {
   "cell_type": "markdown",
   "id": "6dbbfd5d-1e24-4485-ba74-feb4a02bb663",
   "metadata": {},
   "source": [
    "We performed basic EDA on the dataset."
   ]
  },
  {
   "cell_type": "code",
   "execution_count": 7,
   "id": "0ad0f0c9-aa55-403c-98cb-19da583cb479",
   "metadata": {},
   "outputs": [
    {
     "data": {
      "text/plain": [
       "(2348823, 13)"
      ]
     },
     "execution_count": 7,
     "metadata": {},
     "output_type": "execute_result"
    }
   ],
   "source": [
    "df.shape"
   ]
  },
  {
   "cell_type": "code",
   "execution_count": 8,
   "id": "6d088c5c-a6f7-4de9-a153-2a1a7d40d4c9",
   "metadata": {},
   "outputs": [
    {
     "name": "stdout",
     "output_type": "stream",
     "text": [
      "<class 'pandas.core.frame.DataFrame'>\n",
      "RangeIndex: 2348823 entries, 0 to 2348822\n",
      "Data columns (total 13 columns):\n",
      " #   Column             Dtype  \n",
      "---  ------             -----  \n",
      " 0   service_date       object \n",
      " 1   route_id           object \n",
      " 2   direction_id       object \n",
      " 3   half_trip_id       float64\n",
      " 4   stop_id            int64  \n",
      " 5   time_point_id      object \n",
      " 6   time_point_order   int64  \n",
      " 7   point_type         object \n",
      " 8   standard_type      object \n",
      " 9   scheduled          object \n",
      " 10  actual             object \n",
      " 11  scheduled_headway  float64\n",
      " 12  headway            float64\n",
      "dtypes: float64(3), int64(2), object(8)\n",
      "memory usage: 233.0+ MB\n"
     ]
    }
   ],
   "source": [
    "df.info()"
   ]
  },
  {
   "cell_type": "code",
   "execution_count": 9,
   "id": "67f8f324-5883-46b7-ab46-1580b1df210a",
   "metadata": {},
   "outputs": [
    {
     "data": {
      "text/plain": [
       "0"
      ]
     },
     "execution_count": 9,
     "metadata": {},
     "output_type": "execute_result"
    }
   ],
   "source": [
    "# Checking if there are any duplicate data in our dataset\n",
    "df.duplicated().sum()"
   ]
  },
  {
   "cell_type": "code",
   "execution_count": 10,
   "id": "4bde9345-8d8d-49f3-9115-cf8dc59ad78a",
   "metadata": {},
   "outputs": [
    {
     "data": {
      "text/plain": [
       "service_date               0\n",
       "route_id                   0\n",
       "direction_id               0\n",
       "half_trip_id             213\n",
       "stop_id                    0\n",
       "time_point_id              0\n",
       "time_point_order           0\n",
       "point_type                 0\n",
       "standard_type              0\n",
       "scheduled                  0\n",
       "actual                180264\n",
       "scheduled_headway    1196318\n",
       "headway              1418416\n",
       "dtype: int64"
      ]
     },
     "execution_count": 10,
     "metadata": {},
     "output_type": "execute_result"
    }
   ],
   "source": [
    "# Checking if there are any null values in our dataset\n",
    "df.isnull().sum()"
   ]
  },
  {
   "cell_type": "markdown",
   "id": "f9cbcf4f-baae-4a8d-aa5e-e28ed26d5abc",
   "metadata": {},
   "source": [
    "To work with the time data, we decided to convert our `scheduled` and `actual` data column to a pandas datetime object, making comparisons and operations much more easier to work with."
   ]
  },
  {
   "cell_type": "code",
   "execution_count": 11,
   "id": "b0ffdd35-b032-4d96-911b-c124ae84e2c6",
   "metadata": {},
   "outputs": [],
   "source": [
    "df['scheduled'] = pd.to_datetime(df['scheduled'])\n",
    "df['actual'] = pd.to_datetime(df['actual'])"
   ]
  },
  {
   "cell_type": "markdown",
   "id": "c4c8055e-b6e0-4fd7-9689-4be9c4ac0e73",
   "metadata": {},
   "source": [
    "Knowing that we have data from January 1 to January 31 of 2022, we decided to find the inbound and outbound travel times for each date as weekday, weekend, or holiday travel times could differ.\n",
    "\n",
    "We created a helper function that does the necessary operations to group the routes together and find the raw, average, and median end-to-end times of each route's inbound and outbound times."
   ]
  },
  {
   "cell_type": "code",
   "execution_count": 22,
   "id": "3df6d5c3-9d0d-4d1a-bac4-3efcfd9d3d19",
   "metadata": {},
   "outputs": [],
   "source": [
    "def process_end_to_end_time(date):\n",
    "    date_pattern = r'^\\d{4}-\\d{2}-\\d{2}$'\n",
    "    if not re.match(date_pattern, date):\n",
    "        raise \"Incorrect input.\"\n",
    "        \n",
    "    # Get schedules of given date\n",
    "    df_type_schedule = df[df[\"standard_type\"] == \"Schedule\"]\n",
    "    # df_type_schedule = df_type_schedule[df_type_schedule[\"service_date\"] == \"2022-01-03\"]\n",
    "    df_type_schedule = df_type_schedule[df_type_schedule[\"service_date\"] == date]\n",
    "\n",
    "    # Filter by startpoint and endpoint\n",
    "    df_start_end = df_type_schedule[(df_type_schedule[\"point_type\"] == \"Startpoint\") | (df_type_schedule[\"point_type\"] == \"Endpoint\")]\n",
    "\n",
    "    # Filter for \"Startpoint\" and \"Endpoint\" entries\n",
    "    startpoints = df[df[\"point_type\"] == \"Startpoint\"]\n",
    "    endpoints = df[df[\"point_type\"] == \"Endpoint\"]\n",
    "    \n",
    "    # Group Startpoints and Endpoints by 'half_trip_id'\n",
    "    startpoint_groups = startpoints.groupby(\"half_trip_id\")\n",
    "    endpoint_groups = endpoints.groupby(\"half_trip_id\")\n",
    "    \n",
    "    # Calculate the end-to-end travel time for each 'half_trip_id'\n",
    "    end_to_end_travel_times = (endpoint_groups[\"actual\"].max() - startpoint_groups[\"actual\"].min()).dt.total_seconds() / 60\n",
    "    \n",
    "    # Merge 'half_trip_id' and 'end-to-end travel times' into a new DataFrame\n",
    "    end_to_end_df = pd.DataFrame({'half_trip_id': end_to_end_travel_times.index, 'end_to_end_travel_time': end_to_end_travel_times.values})\n",
    "    \n",
    "    # Extract the start and end times for each 'half_trip_id'\n",
    "    start_times = startpoint_groups[\"actual\"].min()\n",
    "    end_times = endpoint_groups[\"actual\"].max()\n",
    "    \n",
    "    # Add the start and end times to the 'end_to_end_df'\n",
    "    end_to_end_df[\"start_time\"] = start_times.loc[end_to_end_df[\"half_trip_id\"].values].values\n",
    "    end_to_end_df[\"end_time\"] = end_times.loc[end_to_end_df[\"half_trip_id\"].values].values\n",
    "    \n",
    "    # Merge the 'route_id' and 'direction_id' from the original DataFrame\n",
    "    end_to_end_df = end_to_end_df.merge(df[['half_trip_id', 'route_id', 'direction_id']], on='half_trip_id', how='left')\n",
    "    \n",
    "    # Reorder the columns for better readability\n",
    "    end_to_end_df = end_to_end_df[['half_trip_id', 'route_id', 'direction_id', 'start_time', 'end_time', 'end_to_end_travel_time']]\n",
    "\n",
    "    unique_end_to_end = end_to_end_df.groupby(['half_trip_id', 'route_id', 'direction_id'], as_index=False).agg({\n",
    "        'start_time': 'first',\n",
    "        'end_time': 'first',\n",
    "        'end_to_end_travel_time': 'mean'\n",
    "    })\n",
    "\n",
    "    unique_end_to_end = unique_end_to_end.dropna()\n",
    "    output_file_path = f'./data/question-1/processed/raw/{date}.csv'  # Replace with your desired file path\n",
    "    unique_end_to_end.to_csv(output_file_path, index=False)\n",
    "\n",
    "    mean_end_to_end = unique_end_to_end.groupby(['route_id', 'direction_id'], as_index=False)['end_to_end_travel_time'].mean()\n",
    "    output_file_path = f'./data/question-1/processed/avg/{date}.csv'  # Replace with your desired file path\n",
    "    mean_end_to_end.to_csv(output_file_path, index=False)\n",
    "        \n",
    "    median_end_to_end = unique_end_to_end.groupby(['route_id', 'direction_id'], as_index=False)['end_to_end_travel_time'].median()\n",
    "    output_file_path = f'./data/question-1/processed/median/{date}.csv'  # Replace with your desired file path\n",
    "    median_end_to_end.to_csv(output_file_path, index=False)"
   ]
  },
  {
   "cell_type": "code",
   "execution_count": 23,
   "id": "078725a3-f961-45c0-ab58-d2196de4d598",
   "metadata": {},
   "outputs": [],
   "source": [
    "process_end_to_end_time(\"2022-01-01\")"
   ]
  },
  {
   "cell_type": "markdown",
   "id": "1af7d6ce-badf-48d9-95d9-50d8a5470d41",
   "metadata": {},
   "source": [
    "Here is an example of the raw, average and median end-to-end travel times of each route."
   ]
  },
  {
   "cell_type": "code",
   "execution_count": 24,
   "id": "68dc78cf-7fb3-4dd9-a977-e19a0211b628",
   "metadata": {},
   "outputs": [],
   "source": [
    "df_jan1 = pd.read_csv(\"./data/question-1/processed/raw/2022-01-01.csv\")\n",
    "df_jan1_avg = pd.read_csv(\"./data/question-1/processed/avg/2022-01-01.csv\")\n",
    "df_jan1_median = pd.read_csv(\"./data/question-1/processed/median/2022-01-01.csv\")"
   ]
  },
  {
   "cell_type": "code",
   "execution_count": 25,
   "id": "fa30f46e-82de-49ec-a423-5fec5ff17b88",
   "metadata": {},
   "outputs": [
    {
     "data": {
      "text/html": [
       "<div>\n",
       "<style scoped>\n",
       "    .dataframe tbody tr th:only-of-type {\n",
       "        vertical-align: middle;\n",
       "    }\n",
       "\n",
       "    .dataframe tbody tr th {\n",
       "        vertical-align: top;\n",
       "    }\n",
       "\n",
       "    .dataframe thead th {\n",
       "        text-align: right;\n",
       "    }\n",
       "</style>\n",
       "<table border=\"1\" class=\"dataframe\">\n",
       "  <thead>\n",
       "    <tr style=\"text-align: right;\">\n",
       "      <th></th>\n",
       "      <th>half_trip_id</th>\n",
       "      <th>route_id</th>\n",
       "      <th>direction_id</th>\n",
       "      <th>start_time</th>\n",
       "      <th>end_time</th>\n",
       "      <th>end_to_end_travel_time</th>\n",
       "    </tr>\n",
       "  </thead>\n",
       "  <tbody>\n",
       "    <tr>\n",
       "      <th>0</th>\n",
       "      <td>54136531.0</td>\n",
       "      <td>21</td>\n",
       "      <td>Outbound</td>\n",
       "      <td>1900-01-01 20:03:18</td>\n",
       "      <td>1900-01-01 20:15:58</td>\n",
       "      <td>12.666667</td>\n",
       "    </tr>\n",
       "    <tr>\n",
       "      <th>1</th>\n",
       "      <td>54136532.0</td>\n",
       "      <td>26</td>\n",
       "      <td>Inbound</td>\n",
       "      <td>1900-01-01 20:25:55</td>\n",
       "      <td>1900-01-01 20:36:01</td>\n",
       "      <td>10.100000</td>\n",
       "    </tr>\n",
       "    <tr>\n",
       "      <th>2</th>\n",
       "      <td>54136533.0</td>\n",
       "      <td>26</td>\n",
       "      <td>Outbound</td>\n",
       "      <td>1900-01-01 20:36:33</td>\n",
       "      <td>1900-01-01 20:45:40</td>\n",
       "      <td>9.116667</td>\n",
       "    </tr>\n",
       "    <tr>\n",
       "      <th>3</th>\n",
       "      <td>54136534.0</td>\n",
       "      <td>21</td>\n",
       "      <td>Inbound</td>\n",
       "      <td>1900-01-01 20:58:19</td>\n",
       "      <td>1900-01-01 21:12:12</td>\n",
       "      <td>13.883333</td>\n",
       "    </tr>\n",
       "    <tr>\n",
       "      <th>4</th>\n",
       "      <td>54136535.0</td>\n",
       "      <td>42</td>\n",
       "      <td>Inbound</td>\n",
       "      <td>1900-01-01 21:27:30</td>\n",
       "      <td>1900-01-01 21:38:00</td>\n",
       "      <td>10.500000</td>\n",
       "    </tr>\n",
       "  </tbody>\n",
       "</table>\n",
       "</div>"
      ],
      "text/plain": [
       "   half_trip_id route_id direction_id           start_time  \\\n",
       "0    54136531.0       21     Outbound  1900-01-01 20:03:18   \n",
       "1    54136532.0       26      Inbound  1900-01-01 20:25:55   \n",
       "2    54136533.0       26     Outbound  1900-01-01 20:36:33   \n",
       "3    54136534.0       21      Inbound  1900-01-01 20:58:19   \n",
       "4    54136535.0       42      Inbound  1900-01-01 21:27:30   \n",
       "\n",
       "              end_time  end_to_end_travel_time  \n",
       "0  1900-01-01 20:15:58               12.666667  \n",
       "1  1900-01-01 20:36:01               10.100000  \n",
       "2  1900-01-01 20:45:40                9.116667  \n",
       "3  1900-01-01 21:12:12               13.883333  \n",
       "4  1900-01-01 21:38:00               10.500000  "
      ]
     },
     "execution_count": 25,
     "metadata": {},
     "output_type": "execute_result"
    }
   ],
   "source": [
    "df_jan1.head()"
   ]
  },
  {
   "cell_type": "code",
   "execution_count": 26,
   "id": "d9c729f6-f317-4ee3-92a2-d6cf4253fcae",
   "metadata": {},
   "outputs": [
    {
     "data": {
      "text/html": [
       "<div>\n",
       "<style scoped>\n",
       "    .dataframe tbody tr th:only-of-type {\n",
       "        vertical-align: middle;\n",
       "    }\n",
       "\n",
       "    .dataframe tbody tr th {\n",
       "        vertical-align: top;\n",
       "    }\n",
       "\n",
       "    .dataframe thead th {\n",
       "        text-align: right;\n",
       "    }\n",
       "</style>\n",
       "<table border=\"1\" class=\"dataframe\">\n",
       "  <thead>\n",
       "    <tr style=\"text-align: right;\">\n",
       "      <th></th>\n",
       "      <th>route_id</th>\n",
       "      <th>direction_id</th>\n",
       "      <th>end_to_end_travel_time</th>\n",
       "    </tr>\n",
       "  </thead>\n",
       "  <tbody>\n",
       "    <tr>\n",
       "      <th>0</th>\n",
       "      <td>01</td>\n",
       "      <td>Inbound</td>\n",
       "      <td>30.473510</td>\n",
       "    </tr>\n",
       "    <tr>\n",
       "      <th>1</th>\n",
       "      <td>01</td>\n",
       "      <td>Outbound</td>\n",
       "      <td>30.899495</td>\n",
       "    </tr>\n",
       "    <tr>\n",
       "      <th>2</th>\n",
       "      <td>04</td>\n",
       "      <td>Inbound</td>\n",
       "      <td>25.630918</td>\n",
       "    </tr>\n",
       "    <tr>\n",
       "      <th>3</th>\n",
       "      <td>04</td>\n",
       "      <td>Outbound</td>\n",
       "      <td>18.729442</td>\n",
       "    </tr>\n",
       "    <tr>\n",
       "      <th>4</th>\n",
       "      <td>07</td>\n",
       "      <td>Inbound</td>\n",
       "      <td>14.421404</td>\n",
       "    </tr>\n",
       "  </tbody>\n",
       "</table>\n",
       "</div>"
      ],
      "text/plain": [
       "  route_id direction_id  end_to_end_travel_time\n",
       "0       01      Inbound               30.473510\n",
       "1       01     Outbound               30.899495\n",
       "2       04      Inbound               25.630918\n",
       "3       04     Outbound               18.729442\n",
       "4       07      Inbound               14.421404"
      ]
     },
     "execution_count": 26,
     "metadata": {},
     "output_type": "execute_result"
    }
   ],
   "source": [
    "df_jan1_avg.head()"
   ]
  },
  {
   "cell_type": "code",
   "execution_count": 27,
   "id": "ab7a9da1-effd-4b38-a60b-badc1eb03196",
   "metadata": {},
   "outputs": [
    {
     "data": {
      "text/html": [
       "<div>\n",
       "<style scoped>\n",
       "    .dataframe tbody tr th:only-of-type {\n",
       "        vertical-align: middle;\n",
       "    }\n",
       "\n",
       "    .dataframe tbody tr th {\n",
       "        vertical-align: top;\n",
       "    }\n",
       "\n",
       "    .dataframe thead th {\n",
       "        text-align: right;\n",
       "    }\n",
       "</style>\n",
       "<table border=\"1\" class=\"dataframe\">\n",
       "  <thead>\n",
       "    <tr style=\"text-align: right;\">\n",
       "      <th></th>\n",
       "      <th>route_id</th>\n",
       "      <th>direction_id</th>\n",
       "      <th>end_to_end_travel_time</th>\n",
       "    </tr>\n",
       "  </thead>\n",
       "  <tbody>\n",
       "    <tr>\n",
       "      <th>0</th>\n",
       "      <td>01</td>\n",
       "      <td>Inbound</td>\n",
       "      <td>30.108333</td>\n",
       "    </tr>\n",
       "    <tr>\n",
       "      <th>1</th>\n",
       "      <td>01</td>\n",
       "      <td>Outbound</td>\n",
       "      <td>30.533333</td>\n",
       "    </tr>\n",
       "    <tr>\n",
       "      <th>2</th>\n",
       "      <td>04</td>\n",
       "      <td>Inbound</td>\n",
       "      <td>21.850000</td>\n",
       "    </tr>\n",
       "    <tr>\n",
       "      <th>3</th>\n",
       "      <td>04</td>\n",
       "      <td>Outbound</td>\n",
       "      <td>16.266667</td>\n",
       "    </tr>\n",
       "    <tr>\n",
       "      <th>4</th>\n",
       "      <td>07</td>\n",
       "      <td>Inbound</td>\n",
       "      <td>14.266667</td>\n",
       "    </tr>\n",
       "  </tbody>\n",
       "</table>\n",
       "</div>"
      ],
      "text/plain": [
       "  route_id direction_id  end_to_end_travel_time\n",
       "0       01      Inbound               30.108333\n",
       "1       01     Outbound               30.533333\n",
       "2       04      Inbound               21.850000\n",
       "3       04     Outbound               16.266667\n",
       "4       07      Inbound               14.266667"
      ]
     },
     "execution_count": 27,
     "metadata": {},
     "output_type": "execute_result"
    }
   ],
   "source": [
    "df_jan1_median.head()"
   ]
  },
  {
   "cell_type": "markdown",
   "id": "69363751-ba3c-4968-b0b1-e0f27d11d54e",
   "metadata": {},
   "source": [
    "Then, we proceeded to generate the processed data for each day in January."
   ]
  },
  {
   "cell_type": "code",
   "execution_count": 28,
   "id": "4c44c470-b653-4960-90af-21adee991a91",
   "metadata": {},
   "outputs": [],
   "source": [
    "for day in range(1, 32):\n",
    "    # Format the day as a two-digit string\n",
    "    formatted_day = f\"{day:02}\"\n",
    "\n",
    "    # Create the date string with the formatted day\n",
    "    date = f\"2022-01-{formatted_day}\"\n",
    "\n",
    "    # Call your function with the date\n",
    "    process_end_to_end_time(date)"
   ]
  },
  {
   "cell_type": "code",
   "execution_count": null,
   "id": "69b812b7-79d7-47f2-9ed6-b04a9125bd88",
   "metadata": {},
   "outputs": [],
   "source": []
  }
 ],
 "metadata": {
  "kernelspec": {
   "display_name": "Python 3 (ipykernel)",
   "language": "python",
   "name": "python3"
  },
  "language_info": {
   "codemirror_mode": {
    "name": "ipython",
    "version": 3
   },
   "file_extension": ".py",
   "mimetype": "text/x-python",
   "name": "python",
   "nbconvert_exporter": "python",
   "pygments_lexer": "ipython3",
   "version": "3.11.5"
  }
 },
 "nbformat": 4,
 "nbformat_minor": 5
}
