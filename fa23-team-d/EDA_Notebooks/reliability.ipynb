{
 "cells": [
  {
   "cell_type": "code",
   "execution_count": 4,
   "metadata": {},
   "outputs": [],
   "source": [
    "import numpy as np\n",
    "import pandas as pd\n",
    "import seaborn as sns"
   ]
  },
  {
   "cell_type": "code",
   "execution_count": 9,
   "metadata": {},
   "outputs": [],
   "source": [
    "df = pd.read_csv('mbta.csv')"
   ]
  },
  {
   "cell_type": "code",
   "execution_count": 10,
   "metadata": {},
   "outputs": [
    {
     "data": {
      "text/html": [
       "<div>\n",
       "<style scoped>\n",
       "    .dataframe tbody tr th:only-of-type {\n",
       "        vertical-align: middle;\n",
       "    }\n",
       "\n",
       "    .dataframe tbody tr th {\n",
       "        vertical-align: top;\n",
       "    }\n",
       "\n",
       "    .dataframe thead th {\n",
       "        text-align: right;\n",
       "    }\n",
       "</style>\n",
       "<table border=\"1\" class=\"dataframe\">\n",
       "  <thead>\n",
       "    <tr style=\"text-align: right;\">\n",
       "      <th></th>\n",
       "      <th>service_date</th>\n",
       "      <th>gtfs_route_id</th>\n",
       "      <th>gtfs_route_short_name</th>\n",
       "      <th>gtfs_route_long_name</th>\n",
       "      <th>gtfs_route_desc</th>\n",
       "      <th>route_category</th>\n",
       "      <th>mode_type</th>\n",
       "      <th>peak_offpeak_ind</th>\n",
       "      <th>metric_type</th>\n",
       "      <th>otp_numerator</th>\n",
       "      <th>otp_denominator</th>\n",
       "      <th>cancelled_numerator</th>\n",
       "      <th>ObjectId</th>\n",
       "    </tr>\n",
       "  </thead>\n",
       "  <tbody>\n",
       "    <tr>\n",
       "      <th>0</th>\n",
       "      <td>2023/09/30 04:00:00+00</td>\n",
       "      <td>Blue</td>\n",
       "      <td>NaN</td>\n",
       "      <td>Blue Line</td>\n",
       "      <td>Rapid Transit</td>\n",
       "      <td>Blue Line</td>\n",
       "      <td>Rail</td>\n",
       "      <td>OFF_PEAK</td>\n",
       "      <td>Passenger Wait Time</td>\n",
       "      <td>40148.279348</td>\n",
       "      <td>40633.521004</td>\n",
       "      <td>NaN</td>\n",
       "      <td>1</td>\n",
       "    </tr>\n",
       "    <tr>\n",
       "      <th>1</th>\n",
       "      <td>2023/09/30 04:00:00+00</td>\n",
       "      <td>Red</td>\n",
       "      <td>NaN</td>\n",
       "      <td>Red Line</td>\n",
       "      <td>Rapid Transit</td>\n",
       "      <td>Red Line</td>\n",
       "      <td>Rail</td>\n",
       "      <td>OFF_PEAK</td>\n",
       "      <td>Passenger Wait Time</td>\n",
       "      <td>46854.423718</td>\n",
       "      <td>50017.376381</td>\n",
       "      <td>NaN</td>\n",
       "      <td>2</td>\n",
       "    </tr>\n",
       "    <tr>\n",
       "      <th>2</th>\n",
       "      <td>2023/09/30 04:00:00+00</td>\n",
       "      <td>Green-B</td>\n",
       "      <td>B</td>\n",
       "      <td>Green Line B</td>\n",
       "      <td>Rapid Transit</td>\n",
       "      <td>Green Line</td>\n",
       "      <td>Rail</td>\n",
       "      <td>OFF_PEAK</td>\n",
       "      <td>Passenger Wait Time</td>\n",
       "      <td>10038.165348</td>\n",
       "      <td>13239.079648</td>\n",
       "      <td>NaN</td>\n",
       "      <td>3</td>\n",
       "    </tr>\n",
       "    <tr>\n",
       "      <th>3</th>\n",
       "      <td>2023/09/30 04:00:00+00</td>\n",
       "      <td>Green-C</td>\n",
       "      <td>C</td>\n",
       "      <td>Green Line C</td>\n",
       "      <td>Rapid Transit</td>\n",
       "      <td>Green Line</td>\n",
       "      <td>Rail</td>\n",
       "      <td>OFF_PEAK</td>\n",
       "      <td>Passenger Wait Time</td>\n",
       "      <td>13165.341440</td>\n",
       "      <td>16740.568400</td>\n",
       "      <td>NaN</td>\n",
       "      <td>4</td>\n",
       "    </tr>\n",
       "    <tr>\n",
       "      <th>4</th>\n",
       "      <td>2023/09/30 04:00:00+00</td>\n",
       "      <td>Green-D</td>\n",
       "      <td>D</td>\n",
       "      <td>Green Line D</td>\n",
       "      <td>Rapid Transit</td>\n",
       "      <td>Green Line</td>\n",
       "      <td>Rail</td>\n",
       "      <td>OFF_PEAK</td>\n",
       "      <td>Passenger Wait Time</td>\n",
       "      <td>15855.367597</td>\n",
       "      <td>20742.686822</td>\n",
       "      <td>NaN</td>\n",
       "      <td>5</td>\n",
       "    </tr>\n",
       "  </tbody>\n",
       "</table>\n",
       "</div>"
      ],
      "text/plain": [
       "             service_date gtfs_route_id gtfs_route_short_name  \\\n",
       "0  2023/09/30 04:00:00+00          Blue                   NaN   \n",
       "1  2023/09/30 04:00:00+00           Red                   NaN   \n",
       "2  2023/09/30 04:00:00+00       Green-B                     B   \n",
       "3  2023/09/30 04:00:00+00       Green-C                     C   \n",
       "4  2023/09/30 04:00:00+00       Green-D                     D   \n",
       "\n",
       "  gtfs_route_long_name gtfs_route_desc route_category mode_type  \\\n",
       "0            Blue Line   Rapid Transit      Blue Line      Rail   \n",
       "1             Red Line   Rapid Transit       Red Line      Rail   \n",
       "2         Green Line B   Rapid Transit     Green Line      Rail   \n",
       "3         Green Line C   Rapid Transit     Green Line      Rail   \n",
       "4         Green Line D   Rapid Transit     Green Line      Rail   \n",
       "\n",
       "  peak_offpeak_ind          metric_type  otp_numerator  otp_denominator  \\\n",
       "0         OFF_PEAK  Passenger Wait Time   40148.279348     40633.521004   \n",
       "1         OFF_PEAK  Passenger Wait Time   46854.423718     50017.376381   \n",
       "2         OFF_PEAK  Passenger Wait Time   10038.165348     13239.079648   \n",
       "3         OFF_PEAK  Passenger Wait Time   13165.341440     16740.568400   \n",
       "4         OFF_PEAK  Passenger Wait Time   15855.367597     20742.686822   \n",
       "\n",
       "   cancelled_numerator  ObjectId  \n",
       "0                  NaN         1  \n",
       "1                  NaN         2  \n",
       "2                  NaN         3  \n",
       "3                  NaN         4  \n",
       "4                  NaN         5  "
      ]
     },
     "execution_count": 10,
     "metadata": {},
     "output_type": "execute_result"
    }
   ],
   "source": [
    "df.head()"
   ]
  },
  {
   "cell_type": "code",
   "execution_count": 11,
   "metadata": {},
   "outputs": [],
   "source": [
    "bus_mask = df['mode_type'] == 'Bus'\n",
    "df = df[bus_mask]"
   ]
  },
  {
   "cell_type": "code",
   "execution_count": 12,
   "metadata": {},
   "outputs": [
    {
     "data": {
      "text/html": [
       "<div>\n",
       "<style scoped>\n",
       "    .dataframe tbody tr th:only-of-type {\n",
       "        vertical-align: middle;\n",
       "    }\n",
       "\n",
       "    .dataframe tbody tr th {\n",
       "        vertical-align: top;\n",
       "    }\n",
       "\n",
       "    .dataframe thead th {\n",
       "        text-align: right;\n",
       "    }\n",
       "</style>\n",
       "<table border=\"1\" class=\"dataframe\">\n",
       "  <thead>\n",
       "    <tr style=\"text-align: right;\">\n",
       "      <th></th>\n",
       "      <th>service_date</th>\n",
       "      <th>gtfs_route_id</th>\n",
       "      <th>gtfs_route_short_name</th>\n",
       "      <th>gtfs_route_long_name</th>\n",
       "      <th>gtfs_route_desc</th>\n",
       "      <th>route_category</th>\n",
       "      <th>mode_type</th>\n",
       "      <th>peak_offpeak_ind</th>\n",
       "      <th>metric_type</th>\n",
       "      <th>otp_numerator</th>\n",
       "      <th>otp_denominator</th>\n",
       "      <th>cancelled_numerator</th>\n",
       "      <th>ObjectId</th>\n",
       "      <th>reliability</th>\n",
       "    </tr>\n",
       "  </thead>\n",
       "  <tbody>\n",
       "    <tr>\n",
       "      <th>7</th>\n",
       "      <td>2023/09/30 04:00:00+00</td>\n",
       "      <td>553</td>\n",
       "      <td>553</td>\n",
       "      <td>NaN</td>\n",
       "      <td>Express Bus</td>\n",
       "      <td>Other Bus</td>\n",
       "      <td>Bus</td>\n",
       "      <td>OFF_PEAK</td>\n",
       "      <td>Headway / Schedule Adherence</td>\n",
       "      <td>39.0</td>\n",
       "      <td>55.0</td>\n",
       "      <td>NaN</td>\n",
       "      <td>8</td>\n",
       "      <td>0.709091</td>\n",
       "    </tr>\n",
       "    <tr>\n",
       "      <th>8</th>\n",
       "      <td>2023/09/30 04:00:00+00</td>\n",
       "      <td>34E</td>\n",
       "      <td>34E</td>\n",
       "      <td>NaN</td>\n",
       "      <td>Local Bus</td>\n",
       "      <td>Other Bus</td>\n",
       "      <td>Bus</td>\n",
       "      <td>OFF_PEAK</td>\n",
       "      <td>Headway / Schedule Adherence</td>\n",
       "      <td>448.0</td>\n",
       "      <td>837.0</td>\n",
       "      <td>NaN</td>\n",
       "      <td>9</td>\n",
       "      <td>0.535245</td>\n",
       "    </tr>\n",
       "    <tr>\n",
       "      <th>9</th>\n",
       "      <td>2023/09/30 04:00:00+00</td>\n",
       "      <td>36</td>\n",
       "      <td>36</td>\n",
       "      <td>NaN</td>\n",
       "      <td>Local Bus</td>\n",
       "      <td>Other Bus</td>\n",
       "      <td>Bus</td>\n",
       "      <td>OFF_PEAK</td>\n",
       "      <td>Headway / Schedule Adherence</td>\n",
       "      <td>342.0</td>\n",
       "      <td>441.0</td>\n",
       "      <td>NaN</td>\n",
       "      <td>10</td>\n",
       "      <td>0.775510</td>\n",
       "    </tr>\n",
       "    <tr>\n",
       "      <th>10</th>\n",
       "      <td>2023/09/30 04:00:00+00</td>\n",
       "      <td>411</td>\n",
       "      <td>411</td>\n",
       "      <td>NaN</td>\n",
       "      <td>Local Bus</td>\n",
       "      <td>Other Bus</td>\n",
       "      <td>Bus</td>\n",
       "      <td>OFF_PEAK</td>\n",
       "      <td>Headway / Schedule Adherence</td>\n",
       "      <td>58.0</td>\n",
       "      <td>153.0</td>\n",
       "      <td>NaN</td>\n",
       "      <td>11</td>\n",
       "      <td>0.379085</td>\n",
       "    </tr>\n",
       "    <tr>\n",
       "      <th>11</th>\n",
       "      <td>2023/09/30 04:00:00+00</td>\n",
       "      <td>429</td>\n",
       "      <td>429</td>\n",
       "      <td>NaN</td>\n",
       "      <td>Local Bus</td>\n",
       "      <td>Other Bus</td>\n",
       "      <td>Bus</td>\n",
       "      <td>OFF_PEAK</td>\n",
       "      <td>Headway / Schedule Adherence</td>\n",
       "      <td>122.0</td>\n",
       "      <td>192.0</td>\n",
       "      <td>NaN</td>\n",
       "      <td>12</td>\n",
       "      <td>0.635417</td>\n",
       "    </tr>\n",
       "  </tbody>\n",
       "</table>\n",
       "</div>"
      ],
      "text/plain": [
       "              service_date gtfs_route_id gtfs_route_short_name  \\\n",
       "7   2023/09/30 04:00:00+00           553                   553   \n",
       "8   2023/09/30 04:00:00+00           34E                   34E   \n",
       "9   2023/09/30 04:00:00+00            36                    36   \n",
       "10  2023/09/30 04:00:00+00           411                   411   \n",
       "11  2023/09/30 04:00:00+00           429                   429   \n",
       "\n",
       "   gtfs_route_long_name gtfs_route_desc route_category mode_type  \\\n",
       "7                   NaN     Express Bus      Other Bus       Bus   \n",
       "8                   NaN       Local Bus      Other Bus       Bus   \n",
       "9                   NaN       Local Bus      Other Bus       Bus   \n",
       "10                  NaN       Local Bus      Other Bus       Bus   \n",
       "11                  NaN       Local Bus      Other Bus       Bus   \n",
       "\n",
       "   peak_offpeak_ind                   metric_type  otp_numerator  \\\n",
       "7          OFF_PEAK  Headway / Schedule Adherence           39.0   \n",
       "8          OFF_PEAK  Headway / Schedule Adherence          448.0   \n",
       "9          OFF_PEAK  Headway / Schedule Adherence          342.0   \n",
       "10         OFF_PEAK  Headway / Schedule Adherence           58.0   \n",
       "11         OFF_PEAK  Headway / Schedule Adherence          122.0   \n",
       "\n",
       "    otp_denominator  cancelled_numerator  ObjectId  reliability  \n",
       "7              55.0                  NaN         8     0.709091  \n",
       "8             837.0                  NaN         9     0.535245  \n",
       "9             441.0                  NaN        10     0.775510  \n",
       "10            153.0                  NaN        11     0.379085  \n",
       "11            192.0                  NaN        12     0.635417  "
      ]
     },
     "execution_count": 12,
     "metadata": {},
     "output_type": "execute_result"
    }
   ],
   "source": [
    "df['reliability'] = df.otp_numerator/df.otp_denominator\n",
    "df.head()"
   ]
  },
  {
   "cell_type": "code",
   "execution_count": 13,
   "metadata": {},
   "outputs": [
    {
     "data": {
      "text/plain": [
       "184"
      ]
     },
     "execution_count": 13,
     "metadata": {},
     "output_type": "execute_result"
    }
   ],
   "source": [
    "df.gtfs_route_id.nunique()"
   ]
  },
  {
   "cell_type": "code",
   "execution_count": 14,
   "metadata": {},
   "outputs": [
    {
     "data": {
      "text/plain": [
       "(708397, 14)"
      ]
     },
     "execution_count": 14,
     "metadata": {},
     "output_type": "execute_result"
    }
   ],
   "source": [
    "df.shape"
   ]
  },
  {
   "cell_type": "code",
   "execution_count": 15,
   "metadata": {},
   "outputs": [],
   "source": [
    "tf = df.groupby('gtfs_route_id')['reliability'].mean()"
   ]
  },
  {
   "cell_type": "code",
   "execution_count": 16,
   "metadata": {},
   "outputs": [
    {
     "data": {
      "text/plain": [
       "gtfs_route_id\n",
       "9703             0.320094\n",
       "449              0.402552\n",
       "448              0.406302\n",
       "459              0.429970\n",
       "747              0.454809\n",
       "                   ...   \n",
       "73               0.819827\n",
       "742              0.835040\n",
       "CR-Shuttle001    0.858203\n",
       "CR-Shuttle002    0.858203\n",
       "CR-Shuttle003    0.925859\n",
       "Name: reliability, Length: 184, dtype: float64"
      ]
     },
     "execution_count": 16,
     "metadata": {},
     "output_type": "execute_result"
    }
   ],
   "source": [
    "tf.sort_values()"
   ]
  },
  {
   "cell_type": "code",
   "execution_count": 20,
   "metadata": {},
   "outputs": [
    {
     "data": {
      "image/png": "[encoded data removed]",
      "text/plain": [
       "<Figure size 640x480 with 1 Axes>"
      ]
     },
     "metadata": {},
     "output_type": "display_data"
    }
   ],
   "source": [
    "df_sorted =tf.sort_values()\n",
    "\n",
    "ax = df_sorted.plot(kind='bar')  # Use your actual column names for 'x' and 'y'\n",
    "\n",
    "# Label the x and y axes\n",
    "ax.set_xlabel(\"gtfs_route_id\")\n",
    "ax.set_ylabel(\"reliability\")\n",
    "\n",
    "import  matplotlib.pyplot as plt\n",
    "# Show the plot\n",
    "plt.show()\n"
   ]
  },
  {
   "cell_type": "code",
   "execution_count": 21,
   "metadata": {},
   "outputs": [
    {
     "data": {
      "image/png": "[encoded data removed]",
      "text/plain": [
       "<Figure size 640x480 with 1 Axes>"
      ]
     },
     "metadata": {},
     "output_type": "display_data"
    }
   ],
   "source": [
    "df_sorted =tf[:10].sort_values()\n",
    "\n",
    "ax = df_sorted.plot(kind='bar')  # Use your actual column names for 'x' and 'y'\n",
    "\n",
    "# Label the x and y axes\n",
    "ax.set_xlabel(\"gtfs_route_id\")\n",
    "ax.set_ylabel(\"reliability\")\n",
    "\n",
    "import  matplotlib.pyplot as plt\n",
    "# Show the plot\n",
    "plt.show()\n"
   ]
  },
  {
   "cell_type": "code",
   "execution_count": 22,
   "metadata": {},
   "outputs": [
    {
     "data": {
      "image/png": "[encoded data removed]",
      "text/plain": [
       "<Figure size 640x480 with 1 Axes>"
      ]
     },
     "metadata": {},
     "output_type": "display_data"
    }
   ],
   "source": [
    "df_sorted =tf[-10:].sort_values()\n",
    "\n",
    "ax = df_sorted.plot(kind='bar')  # Use your actual column names for 'x' and 'y'\n",
    "\n",
    "# Label the x and y axes\n",
    "ax.set_xlabel(\"gtfs_route_id\")\n",
    "ax.set_ylabel(\"reliability\")\n",
    "\n",
    "import  matplotlib.pyplot as plt\n",
    "# Show the plot\n",
    "plt.show()\n"
   ]
  },
  {
   "cell_type": "code",
   "execution_count": null,
   "metadata": {},
   "outputs": [],
   "source": []
  }
 ],
 "metadata": {
  "kernelspec": {
   "display_name": "tf",
   "language": "python",
   "name": "python3"
  },
  "language_info": {
   "codemirror_mode": {
    "name": "ipython",
    "version": 3
   },
   "file_extension": ".py",
   "mimetype": "text/x-python",
   "name": "python",
   "nbconvert_exporter": "python",
   "pygments_lexer": "ipython3",
   "version": "3.9.16"
  }
 },
 "nbformat": 4,
 "nbformat_minor": 2
}
