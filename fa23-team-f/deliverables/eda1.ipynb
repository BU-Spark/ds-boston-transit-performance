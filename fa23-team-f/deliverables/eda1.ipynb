{
 "cells": [
  {
   "cell_type": "code",
   "execution_count": 3,
   "metadata": {},
   "outputs": [
    {
     "data": {
      "text/plain": [
       "(                   weekly mode route_id        bin arrival_departure  \\\n",
       " 0  2021/08/13 04:00:00+00  bus      NaN    0-3 min         departure   \n",
       " 1  2021/08/13 04:00:00+00  bus      NaN    3-6 min         departure   \n",
       " 2  2021/08/13 04:00:00+00  bus      NaN   6-12 min         departure   \n",
       " 3  2021/08/13 04:00:00+00  bus      NaN  12-30 min         departure   \n",
       " 4  2021/08/20 04:00:00+00  bus      NaN    0-3 min         departure   \n",
       " \n",
       "    num_predictions  num_accurate_predictions  ObjectId  \n",
       " 0           293039                    233562         1  \n",
       " 1           285817                    229090         2  \n",
       " 2           561098                    472923         3  \n",
       " 3          1594830                   1405620         4  \n",
       " 4           285591                    228653         5  ,\n",
       "    FID  Shape_Leng    shape_id  route_id  agency_id route_shor  \\\n",
       " 0    1    0.175046  1129916754  1ab5a43c          1         90   \n",
       " 1    2    0.168834  1129916755  1ab5a43c          1         90   \n",
       " 2    3    0.121879  1129916756  eb90f172          1       T101   \n",
       " 3    4    0.109456  1129916757  eb90f172          1       T101   \n",
       " 4    5    0.163993  1129916758  05b59cc7          1        T70   \n",
       " \n",
       "                                           route_long route_desc  route_type  \\\n",
       " 0  modified - MF (Chelsea-Everett-Assembly-Arling...                      3   \n",
       " 1  modified - MF (Chelsea-Everett-Assembly-Arling...                      3   \n",
       " 2           modified - HF (Medford-Sullivan-Kendall)                      3   \n",
       " 3           modified - HF (Medford-Sullivan-Kendall)                      3   \n",
       " 4          modified - HF (Waltham-Watertown-Kendall)                      3   \n",
       " \n",
       "   route_url route_colo route_text route_sort route_fare line_id listed_rou  \\\n",
       " 0               C9500E     ffffff             Local Bus                      \n",
       " 1               C9500E     ffffff             Local Bus                      \n",
       " 2               005BAA     ffffff             Local Bus                      \n",
       " 3               005BAA     ffffff             Local Bus                      \n",
       " 4               C9500E     ffffff             Local Bus                      \n",
       " \n",
       "   route_ty_1  Shape__Length  \n",
       " 0        Bus   22102.145108  \n",
       " 1        Bus   21085.336800  \n",
       " 2        Bus   15742.259768  \n",
       " 3        Bus   14202.104984  \n",
       " 4        Bus   18954.583239  )"
      ]
     },
     "execution_count": 3,
     "metadata": {},
     "output_type": "execute_result"
    }
   ],
   "source": [
    "import pandas as pd\n",
    "\n",
    "# Loading the directly uploaded files into dataframes\n",
    "df_accuracy = pd.read_csv(\"/Users/lijunyi/Downloads/cs506/bus performance/Rapid_Transit_and_Bus_Prediction_Accuracy_Data.csv\")\n",
    "df_routes = pd.read_csv(\"/Users/lijunyi/Downloads/cs506/bus performance/Bus_Network_Redesign_Draft_Bus_Routes.csv\")\n",
    "\n",
    "# Displaying the first few rows of each dataframe to understand their structure\n",
    "df_accuracy_head = df_accuracy.head()\n",
    "df_routes_head = df_routes.head()\n",
    "\n",
    "df_accuracy_head, df_routes_head\n"
   ]
  },
  {
   "cell_type": "code",
   "execution_count": 4,
   "metadata": {},
   "outputs": [
    {
     "data": {
      "text/plain": [
       "(             service_date gtfs_route_id gtfs_route_short_name  \\\n",
       " 0  2023/09/30 04:00:00+00          Blue                   NaN   \n",
       " 1  2023/09/30 04:00:00+00           Red                   NaN   \n",
       " 2  2023/09/30 04:00:00+00       Green-B                     B   \n",
       " 3  2023/09/30 04:00:00+00       Green-C                     C   \n",
       " 4  2023/09/30 04:00:00+00       Green-D                     D   \n",
       " \n",
       "   gtfs_route_long_name gtfs_route_desc route_category mode_type  \\\n",
       " 0            Blue Line   Rapid Transit      Blue Line      Rail   \n",
       " 1             Red Line   Rapid Transit       Red Line      Rail   \n",
       " 2         Green Line B   Rapid Transit     Green Line      Rail   \n",
       " 3         Green Line C   Rapid Transit     Green Line      Rail   \n",
       " 4         Green Line D   Rapid Transit     Green Line      Rail   \n",
       " \n",
       "   peak_offpeak_ind          metric_type  otp_numerator  otp_denominator  \\\n",
       " 0         OFF_PEAK  Passenger Wait Time   40148.279348     40633.521004   \n",
       " 1         OFF_PEAK  Passenger Wait Time   46854.423718     50017.376381   \n",
       " 2         OFF_PEAK  Passenger Wait Time   10038.165348     13239.079648   \n",
       " 3         OFF_PEAK  Passenger Wait Time   13165.341440     16740.568400   \n",
       " 4         OFF_PEAK  Passenger Wait Time   15855.367597     20742.686822   \n",
       " \n",
       "    cancelled_numerator  ObjectId  \n",
       " 0                  NaN         1  \n",
       " 1                  NaN         2  \n",
       " 2                  NaN         3  \n",
       " 3                  NaN         4  \n",
       " 4                  NaN         5  ,\n",
       "   service_date route_id direction_id  half_trip_id  stop_id time_point_id  \\\n",
       " 0   2023-06-01       01      Inbound    59645062.0      110         hhgat   \n",
       " 1   2023-06-01       01      Inbound    59645062.0       67         maput   \n",
       " 2   2023-06-01       01      Inbound    59645062.0       72         cntsq   \n",
       " 3   2023-06-01       01      Inbound    59645062.0       75           mit   \n",
       " 4   2023-06-01       01      Inbound    59645062.0       79         hynes   \n",
       " \n",
       "    time_point_order  point_type standard_type             scheduled  \\\n",
       " 0                 1  Startpoint      Schedule  1900-01-01T05:06:00Z   \n",
       " 1                 2    Midpoint      Schedule  1900-01-01T05:08:00Z   \n",
       " 2                 3    Midpoint      Schedule  1900-01-01T05:10:00Z   \n",
       " 3                 4    Midpoint      Schedule  1900-01-01T05:13:00Z   \n",
       " 4                 5    Midpoint      Schedule  1900-01-01T05:16:00Z   \n",
       " \n",
       "                  actual  scheduled_headway  headway  \n",
       " 0  1900-01-01T05:06:22Z                NaN      NaN  \n",
       " 1  1900-01-01T05:08:46Z                NaN      NaN  \n",
       " 2  1900-01-01T05:12:01Z                NaN      NaN  \n",
       " 3  1900-01-01T05:15:58Z                NaN      NaN  \n",
       " 4  1900-01-01T05:19:23Z                NaN      NaN  )"
      ]
     },
     "execution_count": 4,
     "metadata": {},
     "output_type": "execute_result"
    }
   ],
   "source": [
    "# Loading the unzipped files into dataframes\n",
    "df_reliability = pd.read_csv(\"/Users/lijunyi/Downloads/cs506/bus performance/MBTA_Bus%2C_Commuter_Rail%2C_%26_Rapid_Transit_Reliability.csv\")\n",
    "df_arrival_departure = pd.read_csv(\"/Users/lijunyi/Downloads/cs506/bus performance/MBTA_Bus_Arrival_Departure_Times_2023/MBTA-Bus-Arrival-Departure-Times_2023-06.csv\")\n",
    "\n",
    "# Displaying the first few rows of each dataframe to understand their structure\n",
    "df_reliability_head = df_reliability.head()\n",
    "df_arrival_departure_head = df_arrival_departure.head()\n",
    "\n",
    "df_reliability_head, df_arrival_departure_head\n"
   ]
  },
  {
   "cell_type": "code",
   "execution_count": 6,
   "metadata": {},
   "outputs": [],
   "source": [
    "# Filtering the data to consider only bus routes\n",
    "df_bus_times = df_arrival_departure[df_arrival_departure['route_id'].str.isnumeric()]\n",
    "\n",
    "# Extracting the earliest and latest time points for each route and direction\n",
    "min_times = df_bus_times.groupby(['route_id', 'direction_id']).scheduled.min().reset_index()\n",
    "max_times = df_bus_times.groupby(['route_id', 'direction_id']).scheduled.max().reset_index()\n",
    "\n",
    "# Merging the two dataframes to get both min and max times in one dataframe\n",
    "merged_times = pd.merge(min_times, max_times, on=['route_id', 'direction_id'], suffixes=('_start', '_end'))\n",
    "\n",
    "# Calculating the end-to-end travel time for each route and direction\n",
    "merged_times['travel_time'] = pd.to_datetime(merged_times['scheduled_end']) - pd.to_datetime(merged_times['scheduled_start'])\n",
    "\n",
    "# Displaying the end-to-end travel times for different bus routes\n",
    "end_to_end_travel_times = merged_times[['route_id', 'direction_id', 'travel_time']]\n",
    "\n",
    "end_to_end_travel_times.head()\n",
    "\n",
    "#save to csv\n",
    "end_to_end_travel_times.to_csv('end_to_end_travel_times.csv', index=False)\n"
   ]
  },
  {
   "cell_type": "markdown",
   "metadata": {},
   "source": [
    "The end-to-end travel times for different bus routes (for the month of June 2023) are calculated as shown in the table above. The travel times are represented as the difference between the earliest and latest scheduled times for each route and direction.\n",
    "\n",
    "For example:\n",
    "\n",
    "For route \"01\" in the \"Inbound\" direction, the end-to-end travel time is approximately 20 hours and 29 minutes.\n",
    "For route \"04\" in the \"Outbound\" direction, the end-to-end travel time is approximately 12 hours and 26 minutes.\n",
    "\n",
    "I have saved the data in a csv file called \"end_to_end_travel_times.csv\" "
   ]
  },
  {
   "cell_type": "code",
   "execution_count": 9,
   "metadata": {},
   "outputs": [
    {
     "name": "stderr",
     "output_type": "stream",
     "text": [
      "<ipython-input-9-762926e5dce2>:5: SettingWithCopyWarning: \n",
      "A value is trying to be set on a copy of a slice from a DataFrame.\n",
      "Try using .loc[row_indexer,col_indexer] = value instead\n",
      "\n",
      "See the caveats in the documentation: https://pandas.pydata.org/pandas-docs/stable/user_guide/indexing.html#returning-a-view-versus-a-copy\n",
      "  df_bus_reliability['reliability_score'] = (df_bus_reliability['otp_numerator'] / df_bus_reliability['otp_denominator']) * 100\n"
     ]
    },
    {
     "data": {
      "text/html": [
       "<div>\n",
       "<style scoped>\n",
       "    .dataframe tbody tr th:only-of-type {\n",
       "        vertical-align: middle;\n",
       "    }\n",
       "\n",
       "    .dataframe tbody tr th {\n",
       "        vertical-align: top;\n",
       "    }\n",
       "\n",
       "    .dataframe thead th {\n",
       "        text-align: right;\n",
       "    }\n",
       "</style>\n",
       "<table border=\"1\" class=\"dataframe\">\n",
       "  <thead>\n",
       "    <tr style=\"text-align: right;\">\n",
       "      <th></th>\n",
       "      <th>gtfs_route_id</th>\n",
       "      <th>reliability_score</th>\n",
       "    </tr>\n",
       "  </thead>\n",
       "  <tbody>\n",
       "    <tr>\n",
       "      <th>0</th>\n",
       "      <td>9703</td>\n",
       "      <td>32.009419</td>\n",
       "    </tr>\n",
       "    <tr>\n",
       "      <th>1</th>\n",
       "      <td>449</td>\n",
       "      <td>40.255245</td>\n",
       "    </tr>\n",
       "    <tr>\n",
       "      <th>2</th>\n",
       "      <td>448</td>\n",
       "      <td>40.630199</td>\n",
       "    </tr>\n",
       "    <tr>\n",
       "      <th>3</th>\n",
       "      <td>459</td>\n",
       "      <td>42.997044</td>\n",
       "    </tr>\n",
       "    <tr>\n",
       "      <th>4</th>\n",
       "      <td>747</td>\n",
       "      <td>45.480942</td>\n",
       "    </tr>\n",
       "  </tbody>\n",
       "</table>\n",
       "</div>"
      ],
      "text/plain": [
       "  gtfs_route_id  reliability_score\n",
       "0          9703          32.009419\n",
       "1           449          40.255245\n",
       "2           448          40.630199\n",
       "3           459          42.997044\n",
       "4           747          45.480942"
      ]
     },
     "execution_count": 9,
     "metadata": {},
     "output_type": "execute_result"
    }
   ],
   "source": [
    "# Filtering the data to consider only bus routes\n",
    "df_bus_reliability = df_reliability[df_reliability['mode_type'] == 'Bus']\n",
    "\n",
    "# Calculating the reliability score for each route\n",
    "df_bus_reliability['reliability_score'] = (df_bus_reliability['otp_numerator'] / df_bus_reliability['otp_denominator']) * 100\n",
    "\n",
    "# Averaging the reliability score for each route\n",
    "average_reliability = df_bus_reliability.groupby('gtfs_route_id').agg({\n",
    "    'reliability_score': 'mean'\n",
    "}).reset_index()\n",
    "\n",
    "# Sorting the routes based on average reliability score\n",
    "sorted_routes_reliability = average_reliability.sort_values(by='reliability_score').reset_index(drop=True)\n",
    "\n",
    "sorted_routes_reliability.head()\n"
   ]
  },
  {
   "cell_type": "code",
   "execution_count": 10,
   "metadata": {},
   "outputs": [],
   "source": [
    "#save to csv\n",
    "sorted_routes_reliability.to_csv('sorted_routes_reliability.csv', index=False)"
   ]
  },
  {
   "cell_type": "markdown",
   "metadata": {},
   "source": [
    "Based on the reliability data:\n",
    "\n",
    "Route \"9703\" has the lowest average reliability score of approximately 32.01%\n",
    "\n",
    "Route \"CR-Shuttle003\" has the highest average reliability score of approximately 92.58%\n",
    "\n",
    "Thus, from these datas, we can get the disparity between the reliability scores of the different routes. The routes with the lowest reliability scores are the ones with disparity that is the highest."
   ]
  }
 ],
 "metadata": {
  "kernelspec": {
   "display_name": "base",
   "language": "python",
   "name": "python3"
  },
  "language_info": {
   "codemirror_mode": {
    "name": "ipython",
    "version": 3
   },
   "file_extension": ".py",
   "mimetype": "text/x-python",
   "name": "python",
   "nbconvert_exporter": "python",
   "pygments_lexer": "ipython3",
   "version": "3.8.5"
  }
 },
 "nbformat": 4,
 "nbformat_minor": 2
}
