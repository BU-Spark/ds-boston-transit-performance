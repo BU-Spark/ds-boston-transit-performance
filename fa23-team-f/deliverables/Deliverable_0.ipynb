{
  "nbformat": 4,
  "nbformat_minor": 0,
  "metadata": {
    "colab": {
      "provenance": []
    },
    "kernelspec": {
      "name": "python3",
      "display_name": "Python 3"
    },
    "language_info": {
      "name": "python"
    }
  },
  "cells": [
    {
      "cell_type": "markdown",
      "source": [],
      "metadata": {
        "id": "BkwWrGOYNoKY"
      }
    },
    {
      "cell_type": "markdown",
      "source": [
        "\n",
        "1. **What is the project focus/overall goal?**\n",
        "\n",
        "  This project is to develop a data driven report based on an analysis of MBTA bus data. We are going to analyze service performance trends by geography based on metrics like end-to-end travel times, service levels of different routes, and population sizes and characteristics served by different bus routes.\n",
        "\n",
        "\n",
        "2. **Why is this project important?**\n",
        "\n",
        "  This information will provide important insights into potential disparities in public transportation by neighborhood and other demographic factors.\n",
        "\n",
        "3. What type of data will you collect or be analyzing?\n",
        "\n",
        "  MBTA bus service data, including alerts, facilities,\n",
        "predictions(predicted arrival/departure times), routes, schedules, scheduled arrival/departure times, shapes(stops and maps for branches, including route variations), stops, trips, vehicles(vehicle positions). Also the census data for the areas serviced by each bus route.\n",
        "\n",
        "\n",
        "4. What are potential limitations of the project?\n",
        "\n",
        "  Some of the bus routes are not properly tracked so it may be difficult for us to track on the transportation performance. The demographic data of different zones served by the bus lines may not be accurate since it's from 2020. Also, we may not have the historical real-time data record from MBTA for its bus routes.\n",
        "\n",
        "5. What are your next steps? Divide tasks amongst the team\n",
        "\n",
        "  * Jialu Li: Collect and pre-process a preliminary batch of data\n",
        "  * Junyi Li: Perform a preliminary analysis of the data\n",
        "  * Mutiraj Laksanawisit: Answer 1-2 key questions from base project\n",
        "  * Qinfeng Li: Explore differnt data fields in transit data and how one is related to each other\n",
        "  * Yifei Zhou: Look into demographic data and link them to the bus routes.\n",
        "\n",
        "\n"
      ],
      "metadata": {
        "id": "ywMVh5qiOH6j"
      }
    }
  ]
}