{
 "cells": [
  {
   "cell_type": "code",
   "execution_count": 1,
   "metadata": {},
   "outputs": [
    {
     "name": "stdout",
     "output_type": "stream",
     "text": [
      "stop_id,stop_code,stop_name,stop_desc,platform_code,platform_name,stop_lat,stop_lon,zone_id,stop_address,stop_url,level_id,location_type,parent_station,wheelchair_boarding,municipality,on_street,at_street,vehicle_type\n",
      "1,1,Washington St opp Ruggles St,,,,42.330957,-71.082754,ExpressBus-Downtown,,https://www.mbta.com/stops/1,,0,,1,Boston,Washington Street,Ruggles Street,3\n",
      "10,10,Theo Glynn Way @ Newmarket Sq,,,,42.330555,-71.068787,LocalBus,,https://www.mbta.com/stops/10,,0,,1,Boston,Theodore Glynn\n"
     ]
    }
   ],
   "source": [
    "# Let's read the contents of the 'stops.txt' file to understand its structure and data\n",
    "stops_file_path = '/Users/lijunyi/ds-boston-transit-performance/fa23-team-f/deliverables/extension/stops.csv'\n",
    "\n",
    "# Reading the contents of the file\n",
    "with open(stops_file_path, 'r') as file:\n",
    "    stops_content = file.read()\n",
    "\n",
    "# Displaying the first few lines of the file for analysis\n",
    "print(stops_content[:500])  # Displaying a snippet for initial analysis\n"
   ]
  },
  {
   "cell_type": "code",
   "execution_count": 2,
   "metadata": {},
   "outputs": [
    {
     "data": {
      "text/plain": [
       "'{\\n    \"crs\": {\\n        \"properties\": {\\n            \"name\": \"urn:ogc:def:crs:OGC:1.3:CRS84\"\\n        },\\n        \"type\": \"name\"\\n    },\\n    \"features\": [\\n        {\\n            \"geometry\": {\\n                \"coordinates\": [\\n                    -71.04731441,\\n                    42.40336946\\n                ],\\n                \"type\": \"Point\"\\n            },\\n            \"properties\": {\\n                \"District\": \"Everett\",\\n                \"Latitude\": 42.40336946,\\n                \"Longitude\": -71.04731441'"
      ]
     },
     "execution_count": 2,
     "metadata": {},
     "output_type": "execute_result"
    }
   ],
   "source": [
    "import json\n",
    "\n",
    "# Path to the GeoJSON file\n",
    "geojson_file_path = '/Users/lijunyi/ds-boston-transit-performance/fa23-team-f/deliverables/extension/Blue_Bike_Stations.geojson'\n",
    "\n",
    "# Reading and parsing the GeoJSON file\n",
    "with open(geojson_file_path, 'r') as file:\n",
    "    geojson_data = json.load(file)\n",
    "\n",
    "# Displaying a snippet of the GeoJSON file for analysis\n",
    "geojson_data_snippet = json.dumps(geojson_data, indent=4, sort_keys=True)[:500]\n",
    "geojson_data_snippet\n"
   ]
  },
  {
   "cell_type": "code",
   "execution_count": 4,
   "metadata": {},
   "outputs": [
    {
     "data": {
      "text/plain": [
       "'{\\n    \"crs\": {\\n        \"properties\": {\\n            \"name\": \"urn:ogc:def:crs:OGC:1.3:CRS84\"\\n        },\\n        \"type\": \"name\"\\n    },\\n    \"features\": [\\n        {\\n            \"geometry\": {\\n                \"coordinates\": [\\n                    -71.04731441,\\n                    42.40336946\\n                ],\\n                \"type\": \"Point\"\\n            },\\n            \"properties\": {\\n                \"District\": \"Everett\",\\n                \"Latitude\": 42.40336946,\\n                \"Longitude\": -71.04731441'"
      ]
     },
     "execution_count": 4,
     "metadata": {},
     "output_type": "execute_result"
    }
   ],
   "source": [
    "# Adjusting the function to handle rows with missing or invalid latitude/longitude data\n",
    "def row_to_geojson_feature(row):\n",
    "    try:\n",
    "        # Creating a feature with Point geometry\n",
    "        feature = {\n",
    "            \"type\": \"Feature\",\n",
    "            \"geometry\": {\n",
    "                \"type\": \"Point\",\n",
    "                \"coordinates\": [float(row['stop_lon']), float(row['stop_lat'])]\n",
    "            },\n",
    "            \"properties\": {key: value for key, value in row.items() if key not in ['stop_lat', 'stop_lon']}\n",
    "        }\n",
    "        return feature\n",
    "    except ValueError:\n",
    "        # Return None if the row has invalid data\n",
    "        return None\n",
    "\n",
    "# Reading the stops.txt file and converting each row into a GeoJSON feature\n",
    "geojson_features = []\n",
    "with open(stops_file_path, 'r') as file:\n",
    "    reader = csv.DictReader(file)\n",
    "    for row in reader:\n",
    "        feature = row_to_geojson_feature(row)\n",
    "        if feature:  # Only add valid features\n",
    "            geojson_features.append(feature)\n",
    "\n",
    "# Adding the new features to the existing GeoJSON file\n",
    "geojson_data['features'].extend(geojson_features)\n",
    "\n",
    "# Checking the updated GeoJSON data\n",
    "updated_geojson_snippet = json.dumps(geojson_data, indent=4, sort_keys=True)[:500]\n",
    "updated_geojson_snippet\n"
   ]
  },
  {
   "cell_type": "code",
   "execution_count": 5,
   "metadata": {},
   "outputs": [
    {
     "data": {
      "text/plain": [
       "'/Users/lijunyi/ds-boston-transit-performance/fa23-team-f/deliverables/extension/Updated_Blue_Bike_Stations_with_Stops.geojson'"
      ]
     },
     "execution_count": 5,
     "metadata": {},
     "output_type": "execute_result"
    }
   ],
   "source": [
    "# Path for the updated GeoJSON file\n",
    "updated_geojson_file_path = '/Users/lijunyi/ds-boston-transit-performance/fa23-team-f/deliverables/extension/Updated_Blue_Bike_Stations_with_Stops.geojson'\n",
    "\n",
    "# Saving the updated GeoJSON data to a new file\n",
    "with open(updated_geojson_file_path, 'w') as file:\n",
    "    json.dump(geojson_data, file)\n",
    "\n",
    "updated_geojson_file_path\n"
   ]
  }
 ],
 "metadata": {
  "kernelspec": {
   "display_name": "base",
   "language": "python",
   "name": "python3"
  },
  "language_info": {
   "codemirror_mode": {
    "name": "ipython",
    "version": 3
   },
   "file_extension": ".py",
   "mimetype": "text/x-python",
   "name": "python",
   "nbconvert_exporter": "python",
   "pygments_lexer": "ipython3",
   "version": "3.8.5"
  }
 },
 "nbformat": 4,
 "nbformat_minor": 2
}
