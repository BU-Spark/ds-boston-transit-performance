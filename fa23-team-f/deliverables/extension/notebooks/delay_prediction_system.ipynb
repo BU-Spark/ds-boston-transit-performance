{
 "cells": [
  {
   "cell_type": "code",
   "execution_count": 3,
   "metadata": {},
   "outputs": [
    {
     "name": "stdout",
     "output_type": "stream",
     "text": [
      "Mean Squared Error: 31.08085015949543\n"
     ]
    }
   ],
   "source": [
    "import pandas as pd\n",
    "from sklearn.linear_model import LinearRegression\n",
    "from sklearn.model_selection import train_test_split\n",
    "from sklearn.metrics import mean_squared_error\n",
    "from sklearn.preprocessing import OneHotEncoder\n",
    "\n",
    "# Load the weather data\n",
    "weather_data = pd.read_csv('/Users/lijunyi/Downloads/cs506/bus performance/weather/boston_weather_data_2022.csv')\n",
    "\n",
    "# Define the months to be included in the analysis\n",
    "months = [1,2,3,4,5,6,7,8,9,10,11,12]\n",
    "\n",
    "# Initialize an empty DataFrame for selected bus data\n",
    "selected_bus_data = pd.DataFrame()\n",
    "\n",
    "# Iterate over the selected months\n",
    "for month in months:\n",
    "    month_str = str(month).zfill(2)  # Ensure month is two digits\n",
    "    file_name = f'MBTA-Bus-Arrival-Departure-Times_2022-{month_str}.csv'\n",
    "    bus_data_month = pd.read_csv(file_name)\n",
    "\n",
    "    # Convert scheduled and actual times to datetime\n",
    "    bus_data_month['scheduled'] = pd.to_datetime(bus_data_month['scheduled'], format='%Y-%m-%d %H:%M:%S.%f')\n",
    "    bus_data_month['actual'] = pd.to_datetime(bus_data_month['actual'], format='%Y-%m-%d %H:%M:%S.%f')\n",
    "\n",
    "    # Calculate delay in minutes and handle NaN values in the 'delay' column\n",
    "    bus_data_month['delay'] = (bus_data_month['actual'] - bus_data_month['scheduled']).dt.total_seconds() / 60\n",
    "    \n",
    "    # Append to the main DataFrame\n",
    "    selected_bus_data = pd.concat([selected_bus_data, bus_data_month])\n",
    "\n",
    "# Drop rows where 'delay' is NaN\n",
    "selected_bus_data = selected_bus_data.dropna(subset=['delay'])\n",
    "\n",
    "# Merge weather data with selected bus data based on the service_date\n",
    "merged_data = pd.merge(selected_bus_data, weather_data, left_on='service_date', right_on='time')\n",
    "\n",
    "# One-hot encode the 'route_id' column\n",
    "encoder = OneHotEncoder(sparse=False)\n",
    "route_id_encoded = encoder.fit_transform(merged_data[['route_id']])\n",
    "\n",
    "# Prepare the data for training the model\n",
    "X_numeric = merged_data[['tavg']]  # Numeric features\n",
    "X_encoded = pd.DataFrame(route_id_encoded, columns=encoder.get_feature_names_out(['route_id']))  # Encoded features\n",
    "X = pd.concat([X_numeric, X_encoded], axis=1)\n",
    "y = merged_data['delay']  # label: delay time\n",
    "\n",
    "# Split the data into training and testing sets\n",
    "X_train, X_test, y_train, y_test = train_test_split(X, y, test_size=0.2, random_state=42)\n",
    "\n",
    "# Create a simple linear regression model\n",
    "model = LinearRegression()\n",
    "\n",
    "# Fit the model to the training data\n",
    "model.fit(X_train, y_train)\n",
    "\n",
    "# Predict on the testing data\n",
    "y_pred = model.predict(X_test)\n",
    "\n",
    "# Calculate the mean squared error of the predictions\n",
    "mse = mean_squared_error(y_test, y_pred)\n",
    "print(f\"Mean Squared Error: {mse}\")\n",
    "\n",
    "# The prediction function needs to use the same one-hot encoding as the model\n",
    "def predict_delay(route_id, temperature):\n",
    "    # Encode the route_id\n",
    "    route_id_encoded = encoder.transform([[route_id]])\n",
    "    \n",
    "    # Prepare the input features\n",
    "    features = pd.DataFrame(route_id_encoded, columns=encoder.get_feature_names_out(['route_id']))\n",
    "    features['tavg'] = temperature\n",
    "    \n",
    "    # Predict delay\n",
    "    predicted_delay = model.predict(features)\n",
    "    return predicted_delay[0]\n",
    "\n"
   ]
  },
  {
   "cell_type": "code",
   "execution_count": 17,
   "metadata": {},
   "outputs": [
    {
     "name": "stdout",
     "output_type": "stream",
     "text": [
      "The predicted delay for route 57 at -10°C is approximately 5.46 minutes.\n"
     ]
    },
    {
     "name": "stderr",
     "output_type": "stream",
     "text": [
      "/Users/lijunyi/opt/anaconda3/lib/python3.8/site-packages/sklearn/base.py:465: UserWarning: X does not have valid feature names, but OneHotEncoder was fitted with feature names\n",
      "  warnings.warn(\n"
     ]
    }
   ],
   "source": [
    "# Assuming 'model' and 'encoder' have been previously fitted with the appropriate training data\n",
    "\n",
    "# The prediction function needs to use the same one-hot encoding as the model\n",
    "def predict_delay(route_id, temperature):\n",
    "    # Ensure route_id is a string, consistent with training data\n",
    "    route_id = str(route_id)\n",
    "    \n",
    "    # Create a dataframe with a single row for temperature\n",
    "    features = pd.DataFrame({'tavg': [temperature]})\n",
    "    \n",
    "    # Now create the one-hot encoded variables for route_id\n",
    "    # It's important to do this after adding 'tavg' to maintain the correct order\n",
    "    route_id_encoded = encoder.transform([[route_id]])\n",
    "    encoded_features = pd.DataFrame(route_id_encoded, columns=encoder.get_feature_names_out(['route_id']))\n",
    "    \n",
    "    # Combine 'tavg' with the encoded features\n",
    "    features = pd.concat([features.reset_index(drop=True), encoded_features.reset_index(drop=True)], axis=1)\n",
    "    \n",
    "    # Predict delay\n",
    "    predicted_delay = model.predict(features)\n",
    "    return predicted_delay[0]\n",
    "\n",
    "# Example usage:\n",
    "route_id_input = '57'  # example route_id as string\n",
    "temperature_input = -10  # example temperature in Celsius\n",
    "\n",
    "# Predict delay\n",
    "predicted_delay = predict_delay(route_id_input, temperature_input)\n",
    "print(f\"The predicted delay for route {route_id_input} at {temperature_input}°C is approximately {predicted_delay:.2f} minutes.\")\n"
   ]
  }
 ],
 "metadata": {
  "kernelspec": {
   "display_name": "base",
   "language": "python",
   "name": "python3"
  },
  "language_info": {
   "codemirror_mode": {
    "name": "ipython",
    "version": 3
   },
   "file_extension": ".py",
   "mimetype": "text/x-python",
   "name": "python",
   "nbconvert_exporter": "python",
   "pygments_lexer": "ipython3",
   "version": "3.8.5"
  }
 },
 "nbformat": 4,
 "nbformat_minor": 2
}
